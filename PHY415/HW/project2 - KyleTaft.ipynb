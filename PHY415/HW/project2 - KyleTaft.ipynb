{
 "cells": [
  {
   "cell_type": "markdown",
   "metadata": {},
   "source": [
    "# Project 2 - PDEs, Laplace’s Equation, and the Method of Relaxation\n",
    "\n",
    "### <p style=\"text-align: right;\">  Kyle Taft"
   ]
  },
  {
   "cell_type": "code",
   "execution_count": 1,
   "metadata": {},
   "outputs": [],
   "source": [
    "# Import packages\n",
    "from IPython.display import Image\n",
    "from IPython.core.display import HTML\n",
    "import matplotlib.pyplot as plt\n",
    "import numpy as np\n",
    "import matplotlib.pyplot as plt\n",
    "from scipy.integrate import solve_ivp\n",
    "import sympy as sym\n",
    "from sympy import symbols\n",
    "from scipy.integrate import quad\n",
    "from mpl_toolkits.mplot3d import Axes3D"
   ]
  },
  {
   "cell_type": "markdown",
   "metadata": {},
   "source": [
    "## Problem Statement\n",
    "\n",
    "This problem is inspired by investigating the other uses of solving Laplace's equation. Here, we will investigate a steady-state heat flow problem. This problem is simplified by assuming the material is homogenous and the situation is in 1D (we will see why such a simply case later). Specifically, say we have an experiment where we want to investigate a thermal gradient along a plate of metal, side length L, where three edges are touching a large sink of ice and one edge is touching a unique heat source that is created by a machine we can tune. Here it is a quadratic with peak of 100 degrees. Our cordinate system is set-up such that the bottom left corner is at the origin. We set these boundary conditions as follows:\n",
    "\n",
    "$$T(x, 0) = 0$$\n",
    "\n",
    "$$T(x, L) = 0$$\n",
    "\n",
    "$$T(0, y) = 0$$\n",
    "\n",
    "$$T(L, y) = -16y^2 + 16Ly$$\n",
    "\n",
    "\n",
    "## Background\n",
    "\n",
    "The [heat equation](https://en.wikipedia.org/wiki/Heat_equation#Steady-state_heat_equation) can be formulated as:\n",
    "\n",
    "$$\\frac{\\partial T}{\\partial t} = \\alpha \\nabla^2 T$$\n",
    "\n",
    "where $T = T(x, y, z, t)$ is the temperature of a specific problem as a function of 3D position and time and $\\alpha$ is the thermal diffusivity of the material in SI units of $\\frac{m^2}{s}$. \n",
    "\n",
    "For steady-state heat flow, the left side of the equation is zero, and we are left with Laplace's equation:\n",
    "\n",
    "$$\\nabla^2 T = 0$$\n",
    "\n",
    "As shown in class, this equation can be solved using separation of variables. We can assume that the solution is of the form:\n",
    "\n",
    "$$T(x,y,z) = X(x)Y(y)Z(z)$$\n",
    "\n",
    "Plugging this into Laplace's equation, we get:\n",
    "\n",
    "$$\\frac{1}{X}\\frac{d^2X}{dx^2} + \\frac{1}{Y}\\frac{d^2Y}{dy^2} + \\frac{1}{Z}\\frac{d^2Z}{dz^2} = 0$$\n",
    "\n",
    "since each term is a function of a different variable, each term must be a constant constrained such that $k_1 + k_2 + k_3 = 0$. This gives us three equations:\n",
    "\n",
    "$$\\frac{d^2X}{dx^2} = k_1X$$\n",
    "\n",
    "$$\\frac{d^2Y}{dy^2} =  k_2Y$$\n",
    "\n",
    "$$\\frac{d^2Z}{dz^2} =  k_3Z$$\n",
    "\n",
    "\n",
    "Each of these equations has the general solution:\n",
    "\n",
    "$$X(x) = Ae^{\\sqrt{k_1}x} + Be^{-\\sqrt{k_1}x}$$\n",
    "\n",
    "$$Y(y) = Ce^{\\sqrt{k_2}y} + De^{-\\sqrt{k_2}y}$$\n",
    "\n",
    "$$Z(z) = Fe^{\\sqrt{k_3}z} + Ge^{-\\sqrt{k_3}z}$$\n",
    "\n",
    "We can use the boundary conditions to determine the values of the constants.\n"
   ]
  },
  {
   "cell_type": "markdown",
   "metadata": {},
   "source": [
    "## Analytical Investigation\n",
    "\n",
    "In our situation, we have a square of metal laying on the xy-plane. This means that we can assume that the solution is separable in the x and y directions (No need for z). This means that we can assume that $k_3 = 0$. Additionally, we can specify that we expect to see an exponential in the x-direction and sinudual behavior in the y-direction. This gives us the following equations:\n"
   ]
  },
  {
   "cell_type": "markdown",
   "metadata": {},
   "source": [
    "$$T(x,y) = X(x)Y(y)$$\n",
    "\n",
    "\n",
    "$$\\frac{d^2X}{dx^2} = k^2X$$\n",
    "\n",
    "$$\\frac{d^2Y}{dy^2} =  -k^2Y$$\n",
    "\n",
    "$$\\frac{d^2Z}{dz^2} =  0$$\n",
    "\n",
    "$$X(x) = Ae^{kx} + Be^{-kx}$$\n",
    "\n",
    "$$Y(y) = Csin(k^2y) + Dcos(k^2y)$$\n",
    "\n",
    "We can use the boundary conditions to determine the values of the constants:\n",
    "\n",
    "$$T(x, 0) = 0 \\rightarrow D = 0$$\n",
    "\n",
    "$$T(0, y) = 0 \\rightarrow A = -B$$\n",
    "\n",
    "$$T(x, L) = 0 \\rightarrow k^2 = \\frac{n\\pi}{L}$$\n",
    "\n",
    "We can now write the solution as:\n",
    "\n",
    "$$T(x, y) = \\sum_{n=1}^{\\infty} C_nsin(\\frac{n\\pi}{L}y)(e^{(\\frac{n\\pi}{L})x} - e^{-(\\frac{n\\pi}{L})x}) $$\n",
    "\n",
    "Where $C_n$ is a constant (for a specific n) that we combined from our unknowns. We can now use the last boundary condition and Fourier's trick to determine the values of the constants."
   ]
  },
  {
   "cell_type": "markdown",
   "metadata": {},
   "source": [
    "We know that:\n",
    "\n",
    "$$\\int_{0}^{L}sin(\\frac{n\\pi}{L}y)sin(\\frac{m\\pi}{L}y)dx = \\frac{L}{2}\\delta_{nm}$$\n",
    "\n",
    "And with plugging in our boundary condition we get:\n",
    "\n",
    "$$T(L, y) = \\sum_{n=1}^{\\infty} C_nsin(\\frac{n\\pi}{L}y)(e^{(\\frac{n\\pi}{L})L} - e^{-(\\frac{n\\pi}{L})L}) = -16y^2 + 16Ly$$\n",
    "\n",
    "We can now multiply both sides by $sin(\\frac{m\\pi}{L}y)$ and integrate from 0 to L to get:\n",
    "\n",
    "$$\\int_{0}^{L}(-16y^2 + 16Ly)sin(\\frac{m\\pi}{L}y)dy = \\sum_{n=1}^\\infty C_n(e^{n\\pi} - e^{-n\\pi})\\int_{0}^{L}sin(\\frac{n\\pi}{L}y)sin(\\frac{m\\pi}{L}y)dy$$\n",
    "\n",
    "Which gives us:\n",
    "\n",
    "$$C_n = \\frac{2}{L(e^{n\\pi} - e^{-n\\pi})}\\int_{0}^{L}(-16y^2 + 16Ly)sin(\\frac{n\\pi}{L}y)dy$$\n",
    "\n",
    "We can now use the fact that:\n",
    "$$T(x, y) = \\sum_{n=1}^{\\infty} C_nsin(\\frac{n\\pi}{L}y)(e^{(\\frac{n\\pi}{L})x} - e^{-(\\frac{n\\pi}{L})x})$$\n",
    "\n",
    "To plug in our values for $C_n$ and get our final solution:\n",
    "$$T(x, y) = \\sum_{n=1}^{\\infty} \\frac{2}{L(e^{n\\pi} - e^{-n\\pi})}sin(\\frac{n\\pi}{L}y)(e^{(\\frac{n\\pi}{L})x} - e^{-(\\frac{n\\pi}{L})x})\\int_{0}^{L}(-16y^2 + 16Ly)sin(\\frac{n\\pi}{L}y)dy$$"
   ]
  },
  {
   "cell_type": "markdown",
   "metadata": {},
   "source": [
    "This would be very complicated to solve by hand, so we will use Python to solve.\n",
    "\n",
    "Note: I tried to use SymPy but it took too long to run"
   ]
  },
  {
   "cell_type": "code",
   "execution_count": 2,
   "metadata": {},
   "outputs": [
    {
     "name": "stdout",
     "output_type": "stream",
     "text": [
      "[138.543260048075/pi**3, 0, 0.00956438732987889/pi**3, 0, 3.85796422499866e-6/pi**3, 0, 2.62555657841218e-9/pi**3, 0, 2.30693450798637e-12/pi**3, 0]\n"
     ]
    }
   ],
   "source": [
    "\n",
    "# Define symbols\n",
    "n = sym.symbols('n')\n",
    "y = sym.symbols('x')\n",
    "\n",
    "# Say that the Length is 5\n",
    "L = 5\n",
    "\n",
    "# Find our first 10 values of Cn\n",
    "Cn = []\n",
    "N = []\n",
    "for n in range(1,11):\n",
    "    coef = 2/(L*(np.exp(n*np.pi) - np.exp(-n*np.pi)))\n",
    "    integral = sym.integrate((-16*y**2 + 16*L*y) * sym.sin(sym.pi * n * y/L), (y, 0, L))\n",
    "    Cn.append(coef * integral)\n",
    "    N.append(n)\n",
    "\n",
    "print(Cn)"
   ]
  },
  {
   "cell_type": "code",
   "execution_count": 3,
   "metadata": {},
   "outputs": [
    {
     "data": {
      "image/png": "[encoded data removed]",
      "text/plain": [
       "<Figure size 432x288 with 1 Axes>"
      ]
     },
     "metadata": {
      "needs_background": "light"
     },
     "output_type": "display_data"
    }
   ],
   "source": [
    "# Plotting the first 10 values of Cn we can see that the values are decreasing exponentially\n",
    "plt.plot(N, Cn, 'o')\n",
    "plt.title('First 10 Values of Cn')\n",
    "plt.xlabel('n')\n",
    "plt.ylabel('Cn')\n",
    "plt.yscale('log')"
   ]
  },
  {
   "cell_type": "markdown",
   "metadata": {},
   "source": [
    "Now that we've calculated our values of $C_n$, we can plug them into our solution to get our final solution:"
   ]
  },
  {
   "cell_type": "code",
   "execution_count": 4,
   "metadata": {},
   "outputs": [
    {
     "data": {
      "image/png": "[encoded data removed]",
      "text/plain": [
       "<Figure size 576x576 with 2 Axes>"
      ]
     },
     "metadata": {
      "needs_background": "light"
     },
     "output_type": "display_data"
    }
   ],
   "source": [
    "#Convert Cn to floats so that we can use them in our function\n",
    "Cn = [float(i) for i in Cn]\n",
    "\n",
    "# Define our function\n",
    "def T(x, y, Cn = Cn, L = L):\n",
    "    total_sum = 0\n",
    "    for n in range(1,11): # We loop through the first 10 values of Cn to find our approximation\n",
    "        total_sum += Cn[n-1] * np.sin(n * np.pi * y/L) * (np.exp(n * np.pi * x/L) - np.exp(-n * np.pi * x/L))\n",
    "    return total_sum\n",
    "\n",
    "# Plotting our function\n",
    "x = np.linspace(0, L, 100)\n",
    "y = np.linspace(0, L, 100)\n",
    "X, Y = np.meshgrid(x, y)\n",
    "Z = T(X, Y)\n",
    "\n",
    "#plot heatmap\n",
    "plt.figure(figsize=(8,8))\n",
    "plt.imshow(Z, cmap='hot', interpolation='nearest', extent=[0, L, 0, L])\n",
    "plt.colorbar()\n",
    "plt.title('Heat Map of Temperature')\n",
    "plt.xlabel('x')\n",
    "plt.ylabel('y')\n",
    "plt.show()\n"
   ]
  },
  {
   "cell_type": "markdown",
   "metadata": {},
   "source": [
    "This solution looks exactly what we would expect from our experimental results. We have the three edges touching the ice all at 0 degrees, and the edge that is touching the quadratic heat source is spreading the heat out in a quadratic fashion through the plate with peak at 100. We can now use this solution make conclusions of how this temperature gradient looks. Additionally, from how we solved this problem we could easily change the boundary conditions on the right side to be another function of interest and our program would still work with the ease of changing just a bit of code."
   ]
  },
  {
   "cell_type": "markdown",
   "metadata": {},
   "source": [
    "## Computational Investigation\n",
    "\n",
    "We now move to using the method of relaxation to compare our analytical results to numerical"
   ]
  },
  {
   "cell_type": "code",
   "execution_count": 5,
   "metadata": {},
   "outputs": [],
   "source": [
    "# Code from ICA\n",
    "def initialize_grid_2d(size):\n",
    "    '''Initialize the grid of potential values'''\n",
    "    return np.zeros((size, size))\n",
    "\n",
    "def set_boundary(T, edge, value):\n",
    "    '''T is the whole grid of potential values that you initialized\n",
    "    edge is the edge of the grid that you want to set (top, bottom, left, right)\n",
    "    value is the value you want to set the edge to (single number or array)'''\n",
    "    if edge == 'top':\n",
    "        T[0,:] = value\n",
    "    elif edge == 'bottom':\n",
    "        T[-1,:] = value\n",
    "    elif edge == 'left':\n",
    "        T[:,0] = value\n",
    "    elif edge == 'right':\n",
    "        T[:,-1] = value\n",
    "\n",
    "def relax(T, N, tolerance, max_iterations=10000, store_frequency=50):\n",
    "    '''T is the grid of potential values that you initialized\n",
    "    after you set the boundary conditions. That is key!\n",
    "    N is the size of the grid (assumed square\n",
    "    tolerance is the stopping criterion - you control this; be careful\n",
    "    max_iterations is the maximum number of iterations to run (stops loop if not converged)\n",
    "    store_frequency is how often you want to store the T values (for plotting)'''\n",
    "    \n",
    "    iterations = 0 ## Keep track of the number of iterations\n",
    "    delta = 1.0 ## Initialize delta (error) to be larger than tolerance\n",
    "    \n",
    "    stored_T = [] ## Keep track of T values for plotting\n",
    "    stored_deltas = []  ## Keep track of delta values for plotting\n",
    "    \n",
    "    ## Loop condition to run until convergence or max_iterations\n",
    "    while delta > tolerance and iterations < max_iterations:\n",
    "        # Store the old T values to calculate delta later\n",
    "        T_old = T.copy()\n",
    "        for row in range(1, T.shape[0]-1):\n",
    "            for col in range(1, T.shape[1]-1):\n",
    "                T[row,col] = 0.25 * (T[row-1,col] + T[row+1,col] + T[row,col-1] + T[row,col+1])\n",
    "        \n",
    "        # Calculate delta: max difference between new and old T values\n",
    "        delta = np.max(np.abs(T - T_old))\n",
    "        \n",
    "        ## Store T and delta values every store_frequency iterations\n",
    "        if iterations % store_frequency == 0:\n",
    "            stored_T.append(T.copy())\n",
    "            stored_deltas.append(delta)\n",
    "            print(f\"Iteration: {iterations}, Delta: {delta}\")\n",
    "\n",
    "        ## Increment the iteration counter\n",
    "        iterations += 1\n",
    "\n",
    "    print(f\"Converged after {iterations} iterations, with delta = {delta}\")\n",
    "    return stored_T, stored_deltas, iterations\n",
    "    "
   ]
  },
  {
   "cell_type": "code",
   "execution_count": 6,
   "metadata": {},
   "outputs": [
    {
     "name": "stdout",
     "output_type": "stream",
     "text": [
      "Iteration: 0, Delta: 33.32592592592592\n",
      "Iteration: 50, Delta: 0.49938446986239526\n",
      "Iteration: 100, Delta: 0.24222558340393263\n",
      "Iteration: 150, Delta: 0.15718149597912756\n",
      "Iteration: 200, Delta: 0.11504086007852621\n",
      "Iteration: 250, Delta: 0.08983826712809417\n",
      "Iteration: 300, Delta: 0.07305658669550041\n",
      "Iteration: 350, Delta: 0.06115513552702012\n",
      "Iteration: 400, Delta: 0.052246284374856344\n",
      "Iteration: 450, Delta: 0.045325398491225855\n",
      "Iteration: 500, Delta: 0.039807811415613514\n",
      "Iteration: 550, Delta: 0.035319289899597095\n",
      "Iteration: 600, Delta: 0.0315991121022563\n",
      "Iteration: 650, Delta: 0.028464450397716945\n",
      "Iteration: 700, Delta: 0.025790645907790122\n",
      "Iteration: 750, Delta: 0.02348609574779914\n",
      "Iteration: 800, Delta: 0.021486050725030736\n",
      "Iteration: 850, Delta: 0.01973247249817689\n",
      "Iteration: 900, Delta: 0.018183803815638555\n",
      "Iteration: 950, Delta: 0.01680729720186136\n",
      "Iteration: 1000, Delta: 0.015576802539541745\n",
      "Iteration: 1050, Delta: 0.014471184942976834\n",
      "Iteration: 1100, Delta: 0.013477776967164345\n",
      "Iteration: 1150, Delta: 0.012578140972824059\n",
      "Iteration: 1200, Delta: 0.011759193568781967\n",
      "Iteration: 1250, Delta: 0.011011062338880606\n",
      "Iteration: 1300, Delta: 0.010329999648522659\n",
      "Converged after 1327 iterations, with delta = 0.009996564699530808\n",
      "Converged in 1327 iterations.\n"
     ]
    }
   ],
   "source": [
    "# Using the method of relaxation to solve the problem\n",
    "L = 5\n",
    "dx = 0.05\n",
    "tolerance = 1e-2\n",
    "N = int(L/dx)\n",
    "\n",
    "T = initialize_grid_2d(N+1)\n",
    "\n",
    "# Set our machine made heat on the right edge\n",
    "y = np.linspace(0, L, N+1)\n",
    "T_right = -16*y**2 + 16*L*y\n",
    "set_boundary(T, 'right', T_right)\n",
    "\n",
    "# Have all other edges be in ice\n",
    "set_boundary(T, 'top', 0)\n",
    "set_boundary(T, 'bottom', 0)\n",
    "set_boundary(T, 'left', 0)\n",
    "\n",
    "# Relaxation\n",
    "stored_T, stored_deltas, iterations = relax(T, N, tolerance)\n",
    "print(f\"Converged in {iterations} iterations.\")"
   ]
  },
  {
   "cell_type": "markdown",
   "metadata": {},
   "source": [
    "### Analyzing the results"
   ]
  },
  {
   "cell_type": "code",
   "execution_count": 7,
   "metadata": {},
   "outputs": [
    {
     "data": {
      "image/png": "[encoded data removed]",
      "text/plain": [
       "<Figure size 432x288 with 1 Axes>"
      ]
     },
     "metadata": {
      "needs_background": "light"
     },
     "output_type": "display_data"
    }
   ],
   "source": [
    "# First we want to see graphically how our delta change over iterations\n",
    "plt.plot(stored_deltas)\n",
    "plt.title('Delta vs Iterations')\n",
    "plt.xlabel('Iterations')\n",
    "plt.ylabel('Delta')\n",
    "plt.show()\n"
   ]
  },
  {
   "cell_type": "markdown",
   "metadata": {},
   "source": [
    "Here we can see that we converge quite well onto a solution. Now we can take a look at the solution and compare to our analytical one."
   ]
  },
  {
   "cell_type": "code",
   "execution_count": 8,
   "metadata": {},
   "outputs": [
    {
     "data": {
      "image/png": "[encoded data removed]",
      "text/plain": [
       "<Figure size 576x576 with 2 Axes>"
      ]
     },
     "metadata": {
      "needs_background": "light"
     },
     "output_type": "display_data"
    }
   ],
   "source": [
    "# Plotting our function\n",
    "x = np.linspace(0, L, N+1)\n",
    "y = np.linspace(0, L, N+1)\n",
    "X, Y = np.meshgrid(x, y)\n",
    "Z = T\n",
    "\n",
    "#plot heatmap\n",
    "plt.figure(figsize=(8,8))\n",
    "plt.imshow(Z, cmap='hot', interpolation='nearest', extent=[0, L, 0, L])\n",
    "plt.colorbar()\n",
    "plt.title('Numerical Heat Map of Temperature')\n",
    "plt.xlabel('x')\n",
    "plt.ylabel('y')\n",
    "plt.show()\n"
   ]
  },
  {
   "cell_type": "markdown",
   "metadata": {},
   "source": [
    "This looks identical to our analytical solution!!! This likely means that our analytical solution is correct. We can be confident to use our analytical solution to make conclusions about the temperature gradient of our plate in the experiment."
   ]
  }
 ],
 "metadata": {
  "kernelspec": {
   "display_name": "Python 3",
   "language": "python",
   "name": "python3"
  },
  "language_info": {
   "codemirror_mode": {
    "name": "ipython",
    "version": 3
   },
   "file_extension": ".py",
   "mimetype": "text/x-python",
   "name": "python",
   "nbconvert_exporter": "python",
   "pygments_lexer": "ipython3",
   "version": "3.10.11"
  },
  "orig_nbformat": 4
 },
 "nbformat": 4,
 "nbformat_minor": 2
}
