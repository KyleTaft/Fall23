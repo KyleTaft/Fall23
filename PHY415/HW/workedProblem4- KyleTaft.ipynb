{
 "cells": [
  {
   "cell_type": "markdown",
   "metadata": {},
   "source": [
    "# Worked Problem Assignment 4\n",
    "\n",
    "### <p style=\"text-align: right;\">  Kyle Taft"
   ]
  },
  {
   "cell_type": "code",
   "execution_count": 1,
   "metadata": {},
   "outputs": [],
   "source": [
    "# Import packages\n",
    "from IPython.display import Image\n",
    "import matplotlib.pyplot as plt\n",
    "import numpy as np"
   ]
  },
  {
   "cell_type": "markdown",
   "metadata": {},
   "source": [
    "### Background\n",
    "The problem that I chose to work on is the potential inside of a rectangular pipe where it has three grounded sides and a side at x = +b that has a potential of $V_0(y)$. This problem was inspiried by the \"Introduction to Electrodynamics\" by David J. Griffiths problem set. Specifically problen 3.15. The original problem is as follows:\n",
    "\n",
    "*A rectangular pipe, running parallel to the z-axis (from −∞ to +∞), has three grounded metal sides, at y = 0, y = a, and x = 0. The fourth side, at x = b, is maintained at a specified potential V0(y).*"
   ]
  },
  {
   "cell_type": "markdown",
   "metadata": {},
   "source": [
    "### Solution\n",
    "\n",
    "We must first start with Laplace's equation:\n",
    "\n",
    "$$\\nabla^2V(x,y,z) = 0$$\n",
    "\n",
    "Applying separation of variables we get:\n",
    "\n",
    "$$V(x,y,z) = X(x)Y(y)Z(z)$$\n",
    "\n",
    "Plugging this into Laplace's equation we get:\n",
    "\n",
    "$$\\frac{1}{X}\\frac{d^2X}{dx^2} + \\frac{1}{Y}\\frac{d^2Y}{dy^2} + \\frac{1}{Z}\\frac{d^2Z}{dz^2} = 0$$\n",
    "\n",
    "As we discussed in class this equation implies that each term must be equal to a constant that all add up to zero. This gives us the following three equations:\n",
    "\n",
    "$$X(x) = Ae^{kx} + Be^{-kx}$$\n",
    "\n",
    "$$Y(y) = Ce^{ky} + De^{-ky}$$\n",
    "\n",
    "$$Z(z) =  Ee^{kz} + Fe^{-kz}$$\n",
    "\n",
    "\n",
    "This is our general solution but we can simplify it further. Specifically in this problem we do not have any dependence on the z variable. This means that we can set k3 = 0 and remove the Z(z) term from our solution. Additionally we would expect the x direction to decay exponentially from its $V_0(y)$ and for the y direction to only have a sinusodial dependence. This leaves us with the following solution:\n",
    "\n",
    "$$V(x,y) = X(x)Y(y)$$\n",
    "\n",
    "$$X(x) = Ae^{kx} + Be^{-kx}$$\n",
    "\n",
    "$$Y(y) = Csin(ky) + Dcos(ky)$$\n",
    "\n",
    "We can now apply boundary conditions to our solution:\n",
    "\n",
    "1. Knowing V(y = 0) = 0 we can say: $Y(y = 0) = Csin(ky) + Dcos(ky) = 0$\n",
    "\n",
    "    -> This implies that D = 0\n",
    "\n",
    "2. Knowing V(y = a) = 0 we can say: $Y(y = a) = Csin(ka) = 0$\n",
    "\n",
    "    -> This implies that $k = \\frac{n\\pi}{a}$ where n is an integer\n",
    "\n",
    "3. Knowing V(x = 0) = 0 we can say: $X(x = 0) = Ae^{kx} + Be^{-kx} = 0$\n",
    "\n",
    "    -> This implies that A = -B\n",
    "\n",
    "This leaves us with the following solutions:\n",
    "\n",
    "$$X(x) = Ae^{\\frac{n \\pi}{a}x} - Ae^{-\\frac{n \\pi}{a}x}$$\n",
    "\n",
    "$$Y(y) = Csin(\\frac{n\\pi}{a}y)$$\n",
    "\n",
    "Putting this back into our general solution we get:\n",
    "\n",
    "$$V(x,y) = Csin(\\frac{n\\pi}{a}y)(Ae^{\\frac{n \\pi}{a}x} - Ae^{-\\frac{n \\pi}{a}x})$$\n",
    "\n",
    "$$V(x,y) = ACsin(\\frac{n\\pi}{a}y)(e^{\\frac{n \\pi}{a}x} - e^{-\\frac{n \\pi}{a}x})$$\n",
    "\n",
    "\n",
    "This infact gives us an infinite number of solutions. We set $C_n = AC$ to get the following:\n",
    "\n",
    "$$V_n(x,y) = \\sum_{n=1}^\\infty C_nsin(\\frac{n\\pi}{a}y)(e^{\\frac{n \\pi}{a}x} - e^{-\\frac{n \\pi}{a}x})$$\n",
    "\n",
    "\n",
    "Now to solve for AC we need to use Fourier's trick. We know that:\n",
    "\n",
    "$$\\int_{0}^{a}sin(\\frac{n\\pi}{a}y)sin(\\frac{m\\pi}{a}y)dy = \\frac{a}{2}\\delta_{nm}$$"
   ]
  },
  {
   "cell_type": "markdown",
   "metadata": {},
   "source": [
    "### Code"
   ]
  }
 ],
 "metadata": {
  "kernelspec": {
   "display_name": "Python 3",
   "language": "python",
   "name": "python3"
  },
  "language_info": {
   "codemirror_mode": {
    "name": "ipython",
    "version": 3
   },
   "file_extension": ".py",
   "mimetype": "text/x-python",
   "name": "python",
   "nbconvert_exporter": "python",
   "pygments_lexer": "ipython3",
   "version": "3.10.11"
  },
  "orig_nbformat": 4
 },
 "nbformat": 4,
 "nbformat_minor": 2
}
