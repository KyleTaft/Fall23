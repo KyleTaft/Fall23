{
 "cells": [
  {
   "cell_type": "markdown",
   "metadata": {},
   "source": [
    "# Worked Problem Assignment 1\n",
    "\n",
    "### <p style=\"text-align: right;\">  Kyle Taft"
   ]
  },
  {
   "cell_type": "code",
   "execution_count": 1,
   "metadata": {},
   "outputs": [],
   "source": [
    "# Import packages\n",
    "from IPython.display import Image\n",
    "from IPython.core.display import HTML\n",
    "import matplotlib.pyplot as plt\n",
    "import numpy as np\n",
    "import matplotlib.pyplot as plt\n",
    "from scipy.integrate import solve_ivp"
   ]
  },
  {
   "cell_type": "markdown",
   "metadata": {},
   "source": [
    "____\n",
    "\n",
    "### Question 1\n",
    "\n",
    "\n",
    "My problem is inspired by the problem set from \"Intoduction to Classical Mechanics\" by David Morin. The problem is summarized as follows: \n",
    "\n",
    "A particle moves on the inside surface of a verticle cone with its tip on the ground. Alpha is the half-angle at the tip, r is the distance of the particle from the center, and theta is the angle around the cone. An image of the setup is shown below (Morin, 2008)."
   ]
  },
  {
   "cell_type": "code",
   "execution_count": null,
   "metadata": {},
   "outputs": [],
   "source": [
    "Image(url= \"https://github.com/KyleTaft/Fall23/blob/main/PHY415/images/Screenshot%202023-09-14%20214931.png?raw=true\", width=300)"
   ]
  }
 ],
 "metadata": {
  "kernelspec": {
   "display_name": "Python 3",
   "language": "python",
   "name": "python3"
  },
  "language_info": {
   "codemirror_mode": {
    "name": "ipython",
    "version": 3
   },
   "file_extension": ".py",
   "mimetype": "text/x-python",
   "name": "python",
   "nbconvert_exporter": "python",
   "pygments_lexer": "ipython3",
   "version": "3.10.11"
  },
  "orig_nbformat": 4
 },
 "nbformat": 4,
 "nbformat_minor": 2
}
