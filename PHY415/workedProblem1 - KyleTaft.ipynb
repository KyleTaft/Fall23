{
 "cells": [
  {
   "cell_type": "markdown",
   "metadata": {},
   "source": [
    "# Worked Problem Assignment 1\n",
    "\n",
    "### <p style=\"text-align: right;\">  Kyle Taft"
   ]
  },
  {
   "cell_type": "code",
   "execution_count": 1,
   "metadata": {},
   "outputs": [],
   "source": [
    "# Import packages\n",
    "from IPython.display import Image\n",
    "from IPython.core.display import HTML "
   ]
  },
  {
   "cell_type": "markdown",
   "metadata": {},
   "source": [
    "____\n",
    "My problem is inspired by the problem set from \"Intoduction to Classical Mechanics\" by David Morin. The problem is summarized as follows: \n",
    "\n",
    "Consider your classic block sliding down an inclined plane problem. To complicate this setup, consider now that the plane is on a horizontal frictionless surface so that the plane moves when the block is released. The question is to find the equations of motions. An image of the setup is shown below (Morin, 2008)."
   ]
  },
  {
   "cell_type": "code",
   "execution_count": 16,
   "metadata": {},
   "outputs": [
    {
     "data": {
      "text/html": [
       "<img src=\"https://github.com/KyleTaft/Fall23/blob/3f581f0d3d895961381bbc7e7ead03d7e612ce55/PHY415/images/Screenshot%202023-09-14%20035935.png?raw=true\" width=\"400\"/>"
      ],
      "text/plain": [
       "<IPython.core.display.Image object>"
      ]
     },
     "execution_count": 16,
     "metadata": {},
     "output_type": "execute_result"
    }
   ],
   "source": [
    "Image(url= \"https://github.com/KyleTaft/Fall23/blob/3f581f0d3d895961381bbc7e7ead03d7e612ce55/PHY415/images/Screenshot%202023-09-14%20035935.png?raw=true\", width=400)"
   ]
  },
  {
   "cell_type": "code",
   "execution_count": 18,
   "metadata": {},
   "outputs": [
    {
     "data": {
      "text/html": [
       "<img src=\"https://github.com/KyleTaft/Fall23/blob/main/PHY415/images/HW1.1.png?raw=true\" width=\"700\"/>"
      ],
      "text/plain": [
       "<IPython.core.display.Image object>"
      ]
     },
     "execution_count": 18,
     "metadata": {},
     "output_type": "execute_result"
    }
   ],
   "source": [
    "Image(url= \"https://github.com/KyleTaft/Fall23/blob/main/PHY415/images/HW1.1.png?raw=true\", width=700)"
   ]
  },
  {
   "cell_type": "code",
   "execution_count": null,
   "metadata": {},
   "outputs": [],
   "source": []
  }
 ],
 "metadata": {
  "kernelspec": {
   "display_name": "Python 3",
   "language": "python",
   "name": "python3"
  },
  "language_info": {
   "codemirror_mode": {
    "name": "ipython",
    "version": 3
   },
   "file_extension": ".py",
   "mimetype": "text/x-python",
   "name": "python",
   "nbconvert_exporter": "python",
   "pygments_lexer": "ipython3",
   "version": "3.8.8"
  },
  "orig_nbformat": 4
 },
 "nbformat": 4,
 "nbformat_minor": 2
}
