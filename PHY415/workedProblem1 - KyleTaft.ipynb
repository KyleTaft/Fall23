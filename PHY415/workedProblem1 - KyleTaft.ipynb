{
 "cells": [
  {
   "cell_type": "markdown",
   "metadata": {},
   "source": [
    "# Worked Problem Assignment 1\n",
    "\n",
    "### <p style=\"text-align: right;\">  Kyle Taft\n",
    "\n",
    "My problem is inspired by the problem set from \"Intoduction to Classical Mechanics\" by David Morin. The problem is summarized as follows: Consider your classic block sliding down an inclined plane problem. To complicate this setup, consider now that the plane is on a horizontal frictionless surface so that the plane moves when the block is released. The question is to find the equations of motions. An image of the setup is shown below (Morin, 2008)."
   ]
  },
  {
   "cell_type": "markdown",
   "metadata": {},
   "source": [
    "____\n"
   ]
  },
  {
   "cell_type": "code",
   "execution_count": 1,
   "metadata": {},
   "outputs": [],
   "source": [
    "# Import packages\n",
    "from IPython.display import Image\n",
    "from IPython.core.display import HTML "
   ]
  }
 ],
 "metadata": {
  "kernelspec": {
   "display_name": "Python 3",
   "language": "python",
   "name": "python3"
  },
  "language_info": {
   "codemirror_mode": {
    "name": "ipython",
    "version": 3
   },
   "file_extension": ".py",
   "mimetype": "text/x-python",
   "name": "python",
   "nbconvert_exporter": "python",
   "pygments_lexer": "ipython3",
   "version": "3.10.11"
  },
  "orig_nbformat": 4
 },
 "nbformat": 4,
 "nbformat_minor": 2
}
