{
 "cells": [
  {
   "cell_type": "markdown",
   "metadata": {},
   "source": [
    "## Problems to Solve\n",
    "\n",
    "Up till now, most of your experience with integration has likely been integrating functions that have anti-derivatives. While this is kind of integration is problematic when you have data that must be integrated (e.g., using measures of position to determine potential energy), we will focus on functions for which there are no anti-derivatives.\n",
    "\n",
    "Consider a line of charge that lives on the x-axis. It exists from $x=-1$ to $x=2$, and distribution of that charge is given by,\n",
    "\n",
    "$$\\lambda(x) = 3e^{-x^2}.$$\n",
    "\n",
    "In this problem, you will work through this Jupyter notebook to determine the total charge one this line by performing the integral,\n",
    "\n",
    "$$Q = \\int_{-1}^2 3e^{-x^2} dx.$$\n",
    "\n",
    "As you work through this problem, you will work through the following activities:\n",
    "\n",
    "1. Plot the distribution of charge λ(x) between −1 ≤ x ≤ 2.\n",
    "2. Use ``sympy`` to compute the integral of the function. What does it return? Discuss the function. Is it analytic?\n",
    "3. Apply the trapezoidal rule to compute the integral of this function. Use 10 equal width steps. To receive full credit, you must write the code to do this and not use built-in integration functions of ``scipy``.\n",
    "4. Apply the trapezoidal rule to compute the integral again but this time use 100 equal width steps.\n",
    "5. Apply Simpson’s rule to compute the integral of this function. Use 10 equal width steps. To receive full credit, you must write the code to do this and not use built-in integration functions of “scipy”.\n",
    "Hint: for the summations that require you to distinguish between even and odd terms, review the “range” function, which allows you to specify how many steps to take in between each term in a sum. Also you will need to use two ”for” statements; one for the odd sum and one for the even sum in the Simpson’s rule equation.\n",
    "6. Apply Simpson’s rule to compute the integral of this function again. This time use 100 equal width steps.\n",
    "7. Look up ``scipy.integrate`` built-in quadrature function, ``quad.`` Use it to compute the same integral and compare its result to what your code produced. What are the two variables that ``quad`` gives you by default?\n",
    "8. Explain how the trapezoidal rule and Simpson's rule are different. How do they compute the integrals? Explain how the [Gaussian quadrature](https://en.wikipedia.org/wiki/Gaussian_quadrature), which is what ``quad`` and its cousins in the ``scipy.integrate`` library do, is different from both of them."
   ]
  },
  {
   "cell_type": "code",
   "execution_count": 1,
   "metadata": {},
   "outputs": [],
   "source": [
    "import sympy as sp                 ## Import symbolic python library\n",
    "import numpy as np                 ## Import basic scientific computing library\n",
    "import matplotlib.pyplot as plt    ## Import plotting library\n",
    "from scipy.integrate import quad   ## Import a specific integrator from scipy.intergrate library\n",
    "\n",
    "## Make sure our plots show up inline\n",
    "%matplotlib inline\n",
    "\n",
    "## Add some style to the printing of sympy functions and matplotlib plots\n",
    "sp.init_printing(use_unicode=False, wrap_line=False, no_global=True)\n",
    "plt.style.use('ggplot')"
   ]
  },
  {
   "cell_type": "code",
   "execution_count": 2,
   "metadata": {},
   "outputs": [
    {
     "data": {
      "text/plain": [
       "Text(0, 0.5, 'λ(x)')"
      ]
     },
     "execution_count": 2,
     "metadata": {},
     "output_type": "execute_result"
    },
    {
     "data": {
      "image/png": "[encoded data removed]",
      "text/plain": [
       "<Figure size 864x432 with 1 Axes>"
      ]
     },
     "metadata": {},
     "output_type": "display_data"
    }
   ],
   "source": [
    "# 1)\n",
    "x = np.arange(-1,2,0.01)\n",
    "lam = 3*np.exp(-x**2)\n",
    "\n",
    "plt.figure(figsize=(12,6))\n",
    "plt.plot(x,lam)\n",
    "plt.xlabel('x')\n",
    "plt.ylabel('λ(x)')"
   ]
  },
  {
   "cell_type": "code",
   "execution_count": 3,
   "metadata": {},
   "outputs": [
    {
     "data": {
      "image/png": "[encoded data removed]",
      "text/latex": [
       "$\\displaystyle \\frac{3 \\sqrt{\\pi} \\operatorname{erf}{\\left(x \\right)}}{2}$"
      ],
      "text/plain": [
       "    ____       \n",
       "3*\\/ pi *erf(x)\n",
       "---------------\n",
       "       2       "
      ]
     },
     "execution_count": 3,
     "metadata": {},
     "output_type": "execute_result"
    }
   ],
   "source": [
    "# 2)\n",
    "x=sp.Symbol('x')\n",
    "sp.integrate(3*sp.exp(-x**2),x)"
   ]
  },
  {
   "cell_type": "markdown",
   "metadata": {},
   "source": [
    "It returns erf(x), which is the error function. This is defined as $$erf(x) = \\frac{2}{\\sqrt{\\pi}}\\int_{0}^x e^{-t^2} dt.$$ It is used here because the function cannot be integrated analytically.\n"
   ]
  },
  {
   "cell_type": "code",
   "execution_count": 4,
   "metadata": {},
   "outputs": [
    {
     "name": "stdout",
     "output_type": "stream",
     "text": [
      "4.8684889045431685\n"
     ]
    }
   ],
   "source": [
    "# 3)\n",
    "def lam(x):\n",
    "    return 3*np.exp(-x**2)\n",
    "\n",
    "N = 10\n",
    "a = -1\n",
    "b = 2\n",
    "h = (b-a)/N\n",
    "s = 0       # define variable s to be 0\n",
    "\n",
    "s = 0.5*lam(a) + 0.5*lam(b)\n",
    "for k in range(1,N):\n",
    "    s += lam(a+k*h)\n",
    "    \n",
    "I = s*h\n",
    "print(I)"
   ]
  },
  {
   "cell_type": "code",
   "execution_count": 5,
   "metadata": {},
   "outputs": [
    {
     "name": "stdout",
     "output_type": "stream",
     "text": [
      "4.886534538407494\n"
     ]
    }
   ],
   "source": [
    "# 4)\n",
    "N = 100\n",
    "a = -1\n",
    "b = 2\n",
    "h = (b-a)/N\n",
    "s = 0       # define variable s to be 0\n",
    "\n",
    "s = 0.5*lam(a) + 0.5*lam(b)\n",
    "for k in range(1,N):\n",
    "    s += lam(a+k*h)\n",
    "\n",
    "I = s*h\n",
    "print(I)"
   ]
  },
  {
   "cell_type": "code",
   "execution_count": 6,
   "metadata": {},
   "outputs": [
    {
     "name": "stdout",
     "output_type": "stream",
     "text": [
      "4.886809571523261\n"
     ]
    }
   ],
   "source": [
    "# 5)\n",
    "#simpson's rule\n",
    "N = 10 # EVEN number of parabolic segments\n",
    "a = -1\n",
    "b = 2\n",
    "h = (b-a)/N\n",
    "s = 0       # define variable s to be 0\n",
    "\n",
    "s = lam(a) + lam(b)\n",
    "for k in range(1,N):\n",
    "    if k%2 == 0: # even\n",
    "        s += 2*lam(a+k*h)\n",
    "    else: # odd\n",
    "        s += 4*lam(a+k*h)\n",
    "\n",
    "I = s*h/3\n",
    "print(I)"
   ]
  },
  {
   "cell_type": "code",
   "execution_count": 7,
   "metadata": {},
   "outputs": [
    {
     "name": "stdout",
     "output_type": "stream",
     "text": [
      "4.886716580694897\n"
     ]
    }
   ],
   "source": [
    "# 6)\n",
    "#simpson's rule\n",
    "N = 100 # EVEN number of parabolic segments\n",
    "a = -1\n",
    "b = 2\n",
    "h = (b-a)/N\n",
    "s = 0       # define variable s to be 0\n",
    "\n",
    "s = lam(a) + lam(b)\n",
    "for k in range(1,N):\n",
    "    if k%2 == 0: # even\n",
    "        s += 2*lam(a+k*h)\n",
    "    else: # odd\n",
    "        s += 4*lam(a+k*h)\n",
    "\n",
    "I = s*h/3\n",
    "print(I)"
   ]
  },
  {
   "cell_type": "code",
   "execution_count": 8,
   "metadata": {},
   "outputs": [
    {
     "name": "stdout",
     "output_type": "stream",
     "text": [
      "(4.886716570724547, 4.014028567897086e-10)\n"
     ]
    }
   ],
   "source": [
    "# 7)\n",
    "I = quad(lam, -1, 2)\n",
    "print(I)"
   ]
  },
  {
   "cell_type": "markdown",
   "metadata": {},
   "source": [
    "The result is the same as my Simpson's rule N=100 for the first 7 decimal places. The second variable is an estimate of the absolute error of the result from the true value."
   ]
  },
  {
   "cell_type": "markdown",
   "metadata": {},
   "source": [
    "### 8)\n",
    "\n",
    "The trapezoidal rule uses the average of the function at the edges of each interval to find the area under the curve to estimate the function. Simpson's rule works in a similar way except it also takes into account the curvature of the interval to find the area under the curve to estimate the function. Gaussian quadrature uses a more complicated method where it considers the function at different points in the interval and uses a weighted sum of the function at those points to estimate the function."
   ]
  }
 ],
 "metadata": {
  "kernelspec": {
   "display_name": "Python 3 (ipykernel)",
   "language": "python",
   "name": "python3"
  },
  "language_info": {
   "codemirror_mode": {
    "name": "ipython",
    "version": 3
   },
   "file_extension": ".py",
   "mimetype": "text/x-python",
   "name": "python",
   "nbconvert_exporter": "python",
   "pygments_lexer": "ipython3",
   "version": "3.8.8"
  }
 },
 "nbformat": 4,
 "nbformat_minor": 4
}
