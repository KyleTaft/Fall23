{
 "cells": [
  {
   "cell_type": "markdown",
   "metadata": {},
   "source": [
    "# CMSE 491 Final Project"
   ]
  },
  {
   "cell_type": "markdown",
   "metadata": {},
   "source": [
    "###  Kyle Taft\n",
    "#### December 4, 2023"
   ]
  },
  {
   "cell_type": "markdown",
   "metadata": {},
   "source": [
    "<img src=\"https://github.com/KyleTaft/Fall23/blob/main/CMSE491/gamma-radiation-clipart.png?raw=true\" alt=\"Gamma\" width=\"700\"/>\n",
    "\n",
    "[Source](https://www.pinclipart.com/maxpin/bioxxT/)"
   ]
  },
  {
   "cell_type": "markdown",
   "metadata": {},
   "source": [
    "## INSTRUCTIONS FOR RUNNING THE NOTEBOOK\n",
    "\n",
    "* This notebook is used to train and evaluate models that extract nuclear decay energy peaks from 2D total absorption spectra (TAS) data. In order to produce enough data for machine learning, the data is simulated using the open source physics toolkit [Geant4](https://geant4.web.cern.ch/). Unfortunately, given the nature of the data being tens of thousands of matrices of size 512x512, the data is far too large to be attached to this notebook or uploaded to D2L in full. However, a small sample set of 15 matrices (5 single cascades, 5 double cascades, 5 two independent single cascades) and their corresponding labels are provided in the file `sample_data.npz` in the same folder as this notebook. The data can be loaded using the following code:\n",
    "\n",
    "```python\n",
    "import numpy as np\n",
    "data = np.load(\"sample_data.npz\")\n",
    "```\n",
    "\n",
    "* The data is stored in a dictionary, with the keys being the names of the matrices. The matrices are stored as numpy arrays, and can be accessed using the following code:\n",
    "\n",
    "```python\n",
    "matrix = data[\"matrix_name\"]\n",
    "```\n",
    "\n"
   ]
  },
  {
   "cell_type": "markdown",
   "metadata": {},
   "source": [
    "# **Utilizing Machine Learning to Perform Total Absorption Spectroscopy**"
   ]
  },
  {
   "cell_type": "markdown",
   "metadata": {},
   "source": [
    "## Background and Motivation\n",
    "\n",
    "The analysis and interpretation of experimental data is an integral part of the scientific process, enabling us to uncover the underlying story held by the experiment. The method of processing this data has always gone hand in hand in utilization and improvement of cutting-edge technology. This is no exception in the modern era which is dominated by exponentially improving computer hardware and machine learning algorithms.\n",
    "\n",
    "In experimental physics, analyzing the spectrum of emitted light, a potent and accessible tool known as spectroscopy, serves to unravel the underlying physics governing an experiment, leading to valuable insights into the unknown phenomena at play. In nuclear physics research, spectroscopy is indispensable for analyzing the decay of exotic isotopes. This is because when an isotope decays into its daughter, it often leaves the new daughter isotope with an excess of energy. As a fundamental principle in physics, systems tend towards their lowest energy state and because of quantum mechanics, nuclides do not decay continuously, but instead emit discrete energy packets to achieve this favorable state of energy. This method of shedding energy can be through many means, such as ejecting a particle like a proton, neutron, or alpha particle, converting a proton or neutron into the other through beta decay, or through isomeric transition – the nucleus simply releasing energy through light (gamma rays). While whole sections of nuclear physics are dedicated to creating a deep understanding of each one of these possible methods, the topic of this project specifically focuses on these gamma rays.\n",
    "\n",
    "When a nucleus emits a gamma ray it does so in accordance with selection rules and its own complex structure. This is all to say that this matter is not very simple nor predictable. Except for a subset of simplistic cases, often the isotope has multiple discrete excitation levels that each might have different paths of releasing gamma rays and reaching the ground state. To create a clearer explanation I create a fake example below.\n",
    "\n",
    "\n",
    "<img src=\"https://github.com/KyleTaft/Fall23/blob/main/CMSE491/gamma-radiation-clipart.png?raw=true\" alt=\"Gamma\" width=\"700\"/>"
   ]
  },
  {
   "cell_type": "markdown",
   "metadata": {},
   "source": [
    "## Goal\n",
    "_(Clearly state the question(s) you set out to answer.)_"
   ]
  },
  {
   "cell_type": "markdown",
   "metadata": {},
   "source": [
    "## Exploratory Data Analysis\n",
    "_(Describe your data and make meaningful plots here)_"
   ]
  },
  {
   "cell_type": "markdown",
   "metadata": {},
   "source": [
    "## Methodology"
   ]
  },
  {
   "cell_type": "markdown",
   "metadata": {},
   "source": [
    "_(How did you go about answering your question(s)? Most of your code will be contained in this section. Here is where you can subdivide with Hyperparameter tuning, cross-validation, feature engineering, baseline.)_\n"
   ]
  },
  {
   "cell_type": "markdown",
   "metadata": {},
   "source": [
    "### ML Model.\n",
    "Make a section for each ML model you used. example\n",
    "\n",
    "### Linear Regresssion\n",
    "\n",
    "### Support Vector Machines\n",
    "\n",
    "### Convolutional Neural Network\n"
   ]
  },
  {
   "cell_type": "markdown",
   "metadata": {},
   "source": [
    "## Results"
   ]
  },
  {
   "cell_type": "markdown",
   "metadata": {},
   "source": [
    "_(How do your models compare? What did you find when you carried out your methods? Some of your code related to\n",
    "presenting results/figures/data may be replicated from the methods section or may only be present in\n",
    "this section. All of the plots that you plan on using for your presentation should be present in this\n",
    "section)_"
   ]
  },
  {
   "cell_type": "markdown",
   "metadata": {},
   "source": [
    "## Discussion and Conclusion"
   ]
  },
  {
   "cell_type": "markdown",
   "metadata": {},
   "source": [
    "_(What did you learn from your results? What obstacles did you run into? What would you do differently next time? Clearly provide quantitative answers to your question(s)?  At least one of your questions should be answered with numbers.  That is, it is not sufficient to answer \"yes\" or \"no\", but rather to say something quantitative such as variable 1 increased roughly 10% for every 1 year increase in variable 2.)_"
   ]
  },
  {
   "cell_type": "markdown",
   "metadata": {},
   "source": [
    "### References"
   ]
  },
  {
   "cell_type": "markdown",
   "metadata": {},
   "source": [
    "_(List the source(s) for any data and/or literature cited in your project.  Ideally, this should be formatted using a formal citation format (MLA or APA or other, your choice!).   Multiple free online citation generators are available such as <a href=\"http://www.easybib.com/style\">http://www.easybib.com/style</a>. **Important:** if you use **any** code that you find on the internet for your project you **must** cite it or you risk losing most/all of the points for you project.)_"
   ]
  }
 ],
 "metadata": {
  "kernelspec": {
   "display_name": "Python 3 (ipykernel)",
   "language": "python",
   "name": "python3"
  },
  "language_info": {
   "codemirror_mode": {
    "name": "ipython",
    "version": 3
   },
   "file_extension": ".py",
   "mimetype": "text/x-python",
   "name": "python",
   "nbconvert_exporter": "python",
   "pygments_lexer": "ipython3",
   "version": "3.11.3"
  }
 },
 "nbformat": 4,
 "nbformat_minor": 4
}
