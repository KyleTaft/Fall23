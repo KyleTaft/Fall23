{
 "cells": [
  {
   "cell_type": "markdown",
   "metadata": {},
   "source": [
    "# CMSE 491 Final Project"
   ]
  },
  {
   "cell_type": "markdown",
   "metadata": {},
   "source": [
    "\n",
    "###  Kyle Taft\n",
    "#### December 4, 2023"
   ]
  },
  {
   "cell_type": "code",
   "execution_count": null,
   "metadata": {
    "vscode": {
     "languageId": "plaintext"
    }
   },
   "outputs": [],
   "source": []
  },
  {
   "cell_type": "markdown",
   "metadata": {},
   "source": [
    "## INSTRUCTIONS FOR RUNNING THE NOTEBOOK\n",
    "\n",
    "* This notebook is used to train models that extract nuclear decay energy peaks from 2D total absorption spectra (TAS) data. In order to produce enough data for machine learning, the data is simulated using the open source physics toolkit [Geant4](https://geant4.web.cern.ch/). Unfortunately, given the nature of the data being tens of thousands of matrices of size 512x512, the data is far too large to be attached to this notebook or uploaded to D2L in full. However, a small sample set of 15 matrices (5 single cascades, 5 double cascades, 5 two independent single cascades) and their corresponding labels are provided in the file `sample_data.npz` in the same folder as this notebook. The data can be loaded using the following code:\n",
    "\n",
    "```python\n",
    "import numpy as np\n",
    "data = np.load(\"sample_data.npz\")\n",
    "```\n",
    "\n",
    "* The data is stored in a dictionary, with the keys being the names of the matrices. The matrices are stored as numpy arrays, and can be accessed using the following code:\n",
    "\n",
    "```python\n",
    "matrix = data[\"matrix_name\"]\n",
    "```\n",
    "\n"
   ]
  },
  {
   "cell_type": "markdown",
   "metadata": {},
   "source": [
    "# **Utilizing Machine Learning to Perform Total Absorption Spectroscopy**"
   ]
  },
  {
   "cell_type": "markdown",
   "metadata": {},
   "source": [
    "## Background and Motivation\n",
    "In experimental physics, an incredibly powerful method in bettering our understanding of the underlying physics of an experiment is to collect data on the spectrum of light produced in said experiment. The analysis of this data, known as spectroscopy, is vital to make conclusions on the unknown physics that underpin the experiment. Specifically in my research area of nuclear physics we use spectroscopy to analyze the structure of exotic unstable isotopes. This process occurs by an unstable isotope produced by an accelerator being implanted into our detector, this isotope decays into a new isotope, this new isotope can be fed into an excited state so it releases one or more quantized characteristic $\\gamma$-rays to reach the ground state. We collect this data in two ways in order to reconstruct the manner in which this isotope decays. First, we produce a spectra in the straightforward way of simply recording what energy of $\\gamma$-rays we see in our detectors. Second, we produce a spectra based on the total energy the isotope had when it was implanted into the detector by summing together all the recorded $\\gamma$-rays in a period of time. This allows us to utilize a specialized technique known as Total Absorption Spectroscopy (TAS) to determine the energy levels of the isotope.    \n",
    "\n",
    "Spectroscopy, the study of the interaction of light with matter, stands as a fundamental method for deciphering the underlying physics of various experiments. In the specific domain of nuclear physics, our research explores exotic, unstable isotopes using spectroscopy, where these isotopes, created by an accelerator, undergo decays not fully explained by theoretical models. They transition into new isotopes, often in excited states, releasing quantized characteristic $\\gamma$-rays in order to reach the ground state. This data is collected in two forms by our detector: individual $\\gamma$-ray energies and the total summed $\\gamma$-ray energies, the latter enabling the application of Total Absorption Spectroscopy (TAS) to reveal energy levels. The overarching project goal is to extract precise information about the energies, relative intensities, and the specific $\\gamma$-rays involved in these transitions. However, the task is challenging due to unwanted data points caused by $\\gamma$-ray scattering, particle interference, and background noise. To address this complexity, machine learning emerges as a solution, learning patterns from the data to uncover the underlying physics. This is achieved by transforming the problem into a supervised machine learning task, using simulated spectra as inputs and their corresponding labels, encompassing energy levels, individual $\\gamma$-rays, and intensities. By harnessing machine learning, we aim to bridge the gap between experimental observations and a deeper understanding of nuclear physics, facilitating the analysis of real data and the extraction of invaluable insights."
   ]
  },
  {
   "cell_type": "markdown",
   "metadata": {},
   "source": [
    "## Goal\n",
    "_(Clearly state the question(s) you set out to answer.)_"
   ]
  },
  {
   "cell_type": "markdown",
   "metadata": {},
   "source": [
    "## Exploratory Data Analysis\n",
    "_(Describe your data and make meaningful plots here)_"
   ]
  },
  {
   "cell_type": "markdown",
   "metadata": {},
   "source": [
    "## Methodology"
   ]
  },
  {
   "cell_type": "markdown",
   "metadata": {},
   "source": [
    "_(How did you go about answering your question(s)? Most of your code will be contained in this section. Here is where you can subdivide with Hyperparameter tuning, cross-validation, feature engineering, baseline.)_\n"
   ]
  },
  {
   "cell_type": "markdown",
   "metadata": {},
   "source": [
    "### ML Model.\n",
    "Make a section for each ML model you used. example\n",
    "\n",
    "### Linear Regresssion\n",
    "\n",
    "### Support Vector Machines\n",
    "\n",
    "### Convolutional Neural Network\n"
   ]
  },
  {
   "cell_type": "markdown",
   "metadata": {},
   "source": [
    "## Results"
   ]
  },
  {
   "cell_type": "markdown",
   "metadata": {},
   "source": [
    "_(How do your models compare? What did you find when you carried out your methods? Some of your code related to\n",
    "presenting results/figures/data may be replicated from the methods section or may only be present in\n",
    "this section. All of the plots that you plan on using for your presentation should be present in this\n",
    "section)_"
   ]
  },
  {
   "cell_type": "markdown",
   "metadata": {},
   "source": [
    "## Discussion and Conclusion"
   ]
  },
  {
   "cell_type": "markdown",
   "metadata": {},
   "source": [
    "_(What did you learn from your results? What obstacles did you run into? What would you do differently next time? Clearly provide quantitative answers to your question(s)?  At least one of your questions should be answered with numbers.  That is, it is not sufficient to answer \"yes\" or \"no\", but rather to say something quantitative such as variable 1 increased roughly 10% for every 1 year increase in variable 2.)_"
   ]
  },
  {
   "cell_type": "markdown",
   "metadata": {},
   "source": [
    "### References"
   ]
  },
  {
   "cell_type": "markdown",
   "metadata": {},
   "source": [
    "_(List the source(s) for any data and/or literature cited in your project.  Ideally, this should be formatted using a formal citation format (MLA or APA or other, your choice!).   Multiple free online citation generators are available such as <a href=\"http://www.easybib.com/style\">http://www.easybib.com/style</a>. **Important:** if you use **any** code that you find on the internet for your project you **must** cite it or you risk losing most/all of the points for you project.)_"
   ]
  }
 ],
 "metadata": {
  "kernelspec": {
   "display_name": "Python 3 (ipykernel)",
   "language": "python",
   "name": "python3"
  },
  "language_info": {
   "codemirror_mode": {
    "name": "ipython",
    "version": 3
   },
   "file_extension": ".py",
   "mimetype": "text/x-python",
   "name": "python",
   "nbconvert_exporter": "python",
   "pygments_lexer": "ipython3",
   "version": "3.11.3"
  }
 },
 "nbformat": 4,
 "nbformat_minor": 4
}
