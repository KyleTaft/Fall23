{
 "cells": [
  {
   "cell_type": "markdown",
   "metadata": {},
   "source": [
    "# Week 03: In Class Assignment: End-to-End Project (Part 2)\n",
    "\n",
    "### <p style=\"text-align: right;\"> &#9989; Kyle.\n",
    "<p style=\"text-align: right;\"> &#9989; Lucas, Dawit, Carter, Jacob"
   ]
  },
  {
   "cell_type": "markdown",
   "metadata": {
    "id": "WYJy2FQ6gqKv"
   },
   "source": [
    "![houses](https://www.mercurynews.com/wp-content/uploads/2017/04/oo24dg-web0409buslrealtrendsrisk02.jpg)\n",
    "\n",
    "\n",
    "<h1><center> <font color='green'>Machine Learning Housing Corp.</font></h1></center>\n",
    "\n",
    "This In Class Assignment completes what you have done last week with the Pre-Class and In-Class assignment. \n",
    "\n",
    "As we did last time, follow these steps:\n",
    "1. read this notebook first so that you know what to expect for today\n",
    "2. answer the questions below\n",
    "3. turn in this notebook with your answers in the usual way (no need to resubmit the notebook from the textbook)\n",
    "\n",
    "Last time you explored the nature of the problem, what the data generally looked like and examined some properties, such as correlations and statistics (thanks to nice functionality in `pandas`),  cleaned the data before it goes into ML algorithms. Now it is time to apply the ML algorithms and get a prediction.\n",
    "\n",
    "Each of the sections below follow through the process described in the textbook and the notebook that comes with it. Read through that notebook and follow the steps in there. As you work through the notebook, answer the questions below. \n"
   ]
  },
  {
   "cell_type": "markdown",
   "metadata": {
    "id": "0CKgy65Zfxn-"
   },
   "source": [
    "## Part 1. Regression\n",
    "\n",
    "If you have your book handy, the ML starts on page 72. \n",
    "\n",
    "The three ML methods you will use are:\n",
    "* [`LinearRegression`](https://scikit-learn.org/stable/modules/generated/sklearn.linear_model.LinearRegression.html): you have certainly used linear regression before, but examine what new options this library provides for you,\n",
    "\n",
    "* [`DecisionTreeRegressor`](https://scikit-learn.org/stable/modules/generated/sklearn.tree.DecisionTreeRegressor.html): we have not covered decision trees yet (we will soon!) - you might want to use decision trees in your project so this is a good time to see what they do,\n",
    "\n",
    "* [`RandomForestRegressor`](https://scikit-learn.org/stable/modules/generated/sklearn.ensemble.RandomForestRegressor.html): what does this do? (again, we will get to ensemble methods later, after decision trees); what are its methods and attributes and options?\n",
    "\n",
    "&#9989; **Task:** Answer these questions in the markdown cell below:\n",
    "1. How many columns are in the final dataset, the one that will be fed to the ML algorithm?\n",
    "2. Why does the author pick these algorithms?\n",
    "3. How does the author choose to measure the performance of the models? Are there any `sklearn` libraries that help here?\n",
    "4. What does the number returned by `mean_absolute_error` represent?\n",
    "5. Why does the author choose to predict using the training dataset?\n"
   ]
  },
  {
   "cell_type": "markdown",
   "metadata": {},
   "source": [
    "<font size=6 color=\"#009600\">&#9998;</font> *Put your answers here!* \n",
    "\n",
    "1. 24\n",
    "2. They are simple and already come packaged in scikit-learn. \n",
    "3. Using RMSE and a distribution of them from the cross validation. All of these functions are already defined in sklearn. Doing the final eval he uses the RMSE to make a confidence interval using the stats.t.interval function\n",
    "4. It simply the distance the prediction is from the actual value. This uses the absolute value instead of something like the square root of the squares\n",
    "5. Predicting using the training set can test for overfitting since if we predict and get a 100% prediction then we've majorily overfit\n"
   ]
  },
  {
   "cell_type": "markdown",
   "metadata": {},
   "source": [
    "____\n",
    "## Part 2. Cross-validation\n",
    "As already mentioned cross-validation is a powerful technique to estimate the performance of your model. \n",
    "\n",
    "&#9989; **Task:** Using the book's notebook as reference answer the questions below:\n",
    "\n",
    "1. What `sklearn` function does the author use for cross validation?\n",
    "2. What are the inputs of this function? Does the author pass the transformed dataset or the original dirty dataset?\n",
    "3. What does each element of the arrays `lin_rmses`, `tree_rmses`, `forest_rmses` represent?\n",
    "4. Take those arrays from the other notebook and plot them as a stacked histogram in this notebook. What does the plot tell you? \n",
    "5. Which of the three methods performs best, explain your answer?\n",
    "6. Which of the three models is the most precise, explain your answer? \n",
    "7. Research the difference between `cross_validate` and `cross_val_score`. Why would you use one or the other?\n"
   ]
  },
  {
   "cell_type": "markdown",
   "metadata": {},
   "source": [
    "<font size=6 color=\"#009600\">&#9998;</font> *Put your answers here!* \n",
    "\n",
    "1. cross_val_score\n",
    "2. The estimator, dirty X, y, a scorer, the amount of folds\n",
    "3. The score for a specific fold\n",
    "4. It tells us the distributions of RMSE the crossval gives us for each model\n",
    "5. The random forest by far has the lowest RMSE\n",
    "6. Random forest is also the most percise since of its low standard dev.\n",
    "7. cross_validate allows for multiple metrics and also record fit/score times. cross_val_score only allows one metric. If you want it to not return a dictionary be uncool and use cross_val_score\n"
   ]
  },
  {
   "cell_type": "code",
   "execution_count": 16,
   "metadata": {},
   "outputs": [
    {
     "data": {
      "text/plain": [
       "<matplotlib.legend.Legend at 0x20e3e783dc0>"
      ]
     },
     "execution_count": 16,
     "metadata": {},
     "output_type": "execute_result"
    },
    {
     "data": {
      "image/png": "[encoded data removed]",
      "text/plain": [
       "<Figure size 640x480 with 1 Axes>"
      ]
     },
     "metadata": {},
     "output_type": "display_data"
    }
   ],
   "source": [
    "# Put your code here\n",
    "import numpy as np\n",
    "import matplotlib.pyplot as plt\n",
    "lin_rmses=np.load(\"lin_rmses.npy\")\n",
    "forest_rmses=np.load(\"forest_rmses.npy\")\n",
    "tree_rmses=np.load(\"tree_rmses.npy\")\n",
    "\n",
    "plt.hist(lin_rmses, bins=10,stacked=True, label='Linear')\n",
    "plt.hist(forest_rmses, bins=10,stacked=True, label='Forest')\n",
    "plt.hist(tree_rmses, bins=10,stacked=True, label='Tree')\n",
    "plt.legend()"
   ]
  },
  {
   "cell_type": "markdown",
   "metadata": {
    "id": "L9Cf_pnY6DKa"
   },
   "source": [
    "____\n",
    "## Part 3: Hyperparameter Tuning/Optimization \n",
    "\n",
    "At this point, what have you done? A lot of data science and lot of data cleaning and a lot of exploring accuracy of algorithms with CV. Now you can pick which estimator you want to use. \n",
    "\n",
    "The next phase of the ML workflow is making your estimator really work for you. As you saw above, each of the algorithms comes with a host of options. The parameters associated with those options are called \"hyperparameters\" because they are **internal to your estimator** and are separate from the parameters of your model. Like some of the other steps you have been following, hyperparameter tuning is so ubiquitous that `sklearn` has nice tools to help you. \n",
    "\n",
    "The difference between a parameter of your model and the hyperparameters of your estimator can be confusing. Here is a good way to understand the difference: look at the documentation for each of the estimators. You will see that each one accepts a large number of inputs, many of which are set to some default value. (You probably should look at something like the [decision tree](https://scikit-learn.org/stable/modules/generated/sklearn.tree.DecisionTreeRegressor.html#sklearn.tree.DecisionTreeRegressor) rather than linear regression, which is too simple to have many options.) Most of these options, which you may typically ignore, are the hyperparameter that define the way the estimator is set up. This is because, for example, there isn't one decision tree, there are infinitely many -- which one do you want to use? \n",
    "\n",
    "To find the hyperparameters, you might need to do the training hundreds or thousands of times! But, the payoff is the most accurate algorithm! \n",
    "\n",
    "How do we search for the best hyperparameters?\n",
    "\n",
    "![search](https://pvsmt99345.i.lithium.com/t5/image/serverpage/image-id/74545i97245FDAA10376E9/image-size/large?v=1.0&px=999)\n",
    "\n",
    "&#9989; **Task:** Research [`GridSearchCV`](https://scikit-learn.org/stable/modules/generated/sklearn.model_selection.GridSearchCV.html) and give a short summary of what it can do for you.\n",
    "\n",
    "* How do you use [`GridSearchCV`](https://scikit-learn.org/stable/modules/generated/sklearn.model_selection.GridSearchCV.html) with different algorithms?\n"
   ]
  },
  {
   "cell_type": "markdown",
   "metadata": {},
   "source": [
    "<font size=6 color=\"#009600\">&#9998;</font> *It depends on the hyperparameters that you want to find. You specificy a grid of parameters that you want to search over.* \n"
   ]
  },
  {
   "cell_type": "markdown",
   "metadata": {},
   "source": [
    "Below is a snippet of the code of the notebook. \n",
    "\n",
    "```python\n",
    "    param_grid = [\n",
    "        {'preprocessing__geo__n_clusters': [5, 8, 10],\n",
    "        'random_forest__max_features': [4, 6, 8]},\n",
    "        {'preprocessing__geo__n_clusters': [10, 15],\n",
    "        'random_forest__max_features': [6, 8, 10]},\n",
    "    ]\n",
    "    grid_search = GridSearchCV(full_pipeline, param_grid, cv=3,\n",
    "                            scoring='neg_root_mean_squared_error', n_jobs = -1)\n",
    "    grid_search.fit(housing, housing_labels)\n",
    "```\n",
    "&#9989; **Task:** Answer these questions in the markdown cell below:\n",
    "\n",
    "1. Why are there two dictionaries in the `params_grid` list? Do they refer to different estimators in the pipeline? Why not putting them all together ?\n",
    "\n",
    "2. What does the option `cv = 3` do?\n",
    "\n",
    "3. What does `n_jobs` do?\n",
    "\n"
   ]
  },
  {
   "cell_type": "markdown",
   "metadata": {},
   "source": [
    "<font size=6 color=\"#009600\">&#9998;</font> *Put your answers here!* \n",
    "\n",
    "1. If they put them together it would have to take a lot iterations to search over the space. By giving smaller dictionaries it keeps it down.\n",
    "2. 3 folds\n",
    "3. The amount of cores you want to allocate\n"
   ]
  },
  {
   "cell_type": "markdown",
   "metadata": {},
   "source": [
    "&#9989; **Task:** Research [`RandomizedSearchCV`](https://scikit-learn.org/stable/modules/generated/sklearn.model_selection.RandomizedSearchCV.html) and give a short summary of what it can do for you.\n",
    "\n",
    "* How does it differ from `GridSearchCV` ?\n",
    "* Why would you choose one over the other? \n",
    "\n",
    "\n"
   ]
  },
  {
   "cell_type": "markdown",
   "metadata": {},
   "source": [
    "<font size=6 color=\"#009600\">&#9998;</font> *Put your answers here!* \n",
    "\n",
    "1. Instead of having specific amounts you give a range to seek paramters over\n",
    "2. ALWAYS USE RANDOM IF YOU NOT LAME\n"
   ]
  },
  {
   "cell_type": "markdown",
   "metadata": {
    "id": "fZpg0EV86tbW"
   },
   "source": [
    "_____\n",
    "## Part 4. Conclusion\n",
    "\n",
    "&#9989; **Task:** Write a paragraph addressing this point. In this two-part PCA-ICA, what did you learn? How important did you find the various steps? Which steps made the biggest difference in the power of the ML approach? Where do you think you should spend the most time in your projects to get the best results? \n"
   ]
  },
  {
   "cell_type": "markdown",
   "metadata": {},
   "source": [
    "<font size=6 color=\"#009600\">&#9998;</font> As was the goal, I learned the process of and end-to-end, while simple, ML project. I learned the proper methods of handling the data such as when to create the train test split, how to set it up with the hashing to allow for more data to be added properly, and how to split with a stratified. It also showed through using Sklearn to simplify with pipelines. The pipeline was a big difference in organization of a project. Cleaning and preparing data should be the bulk of the time and effort\n"
   ]
  },
  {
   "cell_type": "markdown",
   "metadata": {},
   "source": [
    "____\n",
    "## Part 5. Explore other ML algorithms (Time Permitting)\n",
    "\n",
    "&#9989; **Task:** Using the same dataset try different estimators maybe $k$-nearest neighbor regressor, or support vector regressor, etc."
   ]
  },
  {
   "cell_type": "code",
   "execution_count": 28,
   "metadata": {},
   "outputs": [],
   "source": [
    "# Put your code here"
   ]
  },
  {
   "cell_type": "markdown",
   "metadata": {},
   "source": [
    "&#9989; **Question:** How does your new model compare with the previous ones?"
   ]
  },
  {
   "cell_type": "markdown",
   "metadata": {},
   "source": [
    "<font size=6 color=\"#009600\">&#9998;</font> *Put your answers here!* \n"
   ]
  },
  {
   "cell_type": "markdown",
   "metadata": {
    "id": "8pRCa0oh-aLX"
   },
   "source": [
    "___\n",
    "\n",
    "## Congratulations, you’re done!\n",
    "\n",
    "Submit this assignment by uploading it to the course Desire2Learn web page. Go to the “In-class assignments” folder, find the appropriate submission link, and upload it there."
   ]
  },
  {
   "cell_type": "markdown",
   "metadata": {},
   "source": [
    "&#169; Copyright 2023, Department of Computational Mathematics, Science and Engineering at Michigan State University."
   ]
  }
 ],
 "metadata": {
  "colab": {
   "collapsed_sections": [],
   "name": "ICA_Part_2_EndToEndProject.ipynb",
   "provenance": []
  },
  "kernelspec": {
   "display_name": "Python 3 (ipykernel)",
   "language": "python",
   "name": "python3"
  },
  "language_info": {
   "codemirror_mode": {
    "name": "ipython",
    "version": 3
   },
   "file_extension": ".py",
   "mimetype": "text/x-python",
   "name": "python",
   "nbconvert_exporter": "python",
   "pygments_lexer": "ipython3",
   "version": "3.10.11"
  }
 },
 "nbformat": 4,
 "nbformat_minor": 4
}
