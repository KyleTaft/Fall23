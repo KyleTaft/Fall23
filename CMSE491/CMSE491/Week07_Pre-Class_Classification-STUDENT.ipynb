{
 "cells": [
  {
   "cell_type": "markdown",
   "metadata": {
    "colab_type": "text",
    "id": "oklyV63qlzt0"
   },
   "source": [
    "# Week 07: Pre-Class Assignment: MNIST Classification Contest\n",
    "\n",
    "### <p style=\"text-align: right;\"> &#9989; Kyle Taft\n",
    "\n",
    "<p style=\"text-align: right;\"> &#9989; Lucas, Dawit, Jake, Daniel\n",
    "\n",
    "\n",
    "<!-- ![mnist](https://people.com/thmb/RsPaGUV01xy9G3fCUeHBkyh37Go=/1500x0/filters:no_upscale():max_bytes(150000):strip_icc():focal(683x148:685x150):format(webp)/pharrell-williams-lv-show-062023-walking-d1e73d3922a04e9ea5bfc76c8861b7ed.jpg)\n",
    " -->\n",
    "![mnist](https://miro.medium.com/max/584/1*9Mjoc_J0JR294YwHGXwCeg.jpeg)"
   ]
  },
  {
   "cell_type": "markdown",
   "metadata": {},
   "source": [
    "## Goals for this Pre-Class Assignment\n",
    "\n",
    "This Pre-Class assignment is a bit different in that you will work with your team. Think of this much more as a team-based pre-class (PC) assignment. Contact your team members now to ensure that you have a communication link, if you have not already done so. It would be extremely beneficial if you plan to meet with your group members outside of class at least twice before the IC next Monday. \n",
    "\n",
    "What you will turn in is this notebook as part of your PCA and your presentation as PDF slides as part of the ICA in D2L. Be sure to have all of your team members have their name on those slides, and who did what, so that everyone gets the proper credit. They are due at the end of class on Monday, and you will have a few minutes to finalize them once you get to class. \n",
    "\n",
    "Total number of points: **30 points**\n",
    "\n",
    "**This assignment is due by 11:59 p.m. the day before class,** and should be uploaded into the appropriate \"Pre-Class Assignments\" submission folder on D2L.  Submission instructions can be found at the end of the notebook.\n",
    "\n",
    "## MNIST Contest: Best Classifier Workflow\n",
    "\n",
    "The class is going to have a contest to see who can get the most accurate classifier for the two MNIST datasets. This is **not** a contest between students, nor is it a contest between groups per se. It is a contest of the ML workflow and the different algorithms. Your final product will be a presentation to the class next Monday. Your team will present a set of slides to the class describing your results. <font color='red'>**Each group has five to ten minutes for their presentation!!**</font>  _It is extremely important that you do not go over your time._ Conversely, you are graded on your content, so do not plan to go much under five minutes either. If you need to practice to get the timing right, please do that. This is the way the real world works, so use this oppportunity to learn how to get a lot of information across quickly and coherently. \n",
    "\n",
    "We will start the presentations at 4:00pm, so plan to come to the In class next Monday ready to finalize your plots, practice your talk, tweak your slides, whatever your group needs. Be sure that you are able to connect to the projector; make sure the slides are on a laptop with, say, an HDMI port. Be prepared to ask questions to the speakers. If everyone has a working presentation we may start early to give more time for discussion.\n",
    "\n",
    "### Contest Goals\n",
    "\n",
    "Your group can pick any classifiers it wants. You can pick one or many; be sure to give yourself enough time if you pick  many. The goal is to optimize those classifiers to get the most accurate results on both MNIST datasets. The \"winner\" is the overall algorithm that, when used in the same way on both, gets the most accurate result, defined as the average of the two scores from each MNIST datasets. Below I'll go into what I mean by \"score\", since that is subtle for classifiers.\n",
    "\n",
    "For example, you might:\n",
    "* Choose SGDClassifer because it is simple, you know how to use it, and there are many options. \n",
    "* Perform feature selection.\n",
    "* Perform CV and learning curves.\n",
    "* Regularization.\n",
    "\n",
    "Or, you might:\n",
    "* Pick MLP, since you know them, but _also_ SVCs because you'll be ahead when we get there and you'll have an interesting way to know what architecture MLP needs to get good results. \n",
    "* Focus on the nuances of those two methods (e.g., width/depth/activation, kernels) to see which is best. \n",
    "\n",
    "Or, you might:\n",
    "* Pick just MLP, since you know them and they are very flexible. \n",
    "* Focus on the many ways to optimize MLPs (e.g., varying activcation functions).\n",
    "\n",
    "Or, you might:\n",
    "* Pick several methods, because one way to win is to have an internal contest first!! This also makes working with your group easier because you can assign one classifier to each person and put the comparisons together for the presentation. \n",
    "\n",
    "Or, you might:\n",
    "* Focus on those things your group will use in their projects, such as a Keras/TensorFlow approach. If you are using CNNs for your project this is a great time to practice.  \n",
    "\n",
    "\n",
    "You get the idea. \n",
    "\n",
    "_Be very organized: your group has three people in it, so be sure to divide and conquer, communicate well, meet in person and don't wait too long_. You have 20 minutes once you get to class to get your final presentation in order and make sure it works on the projector - show up early if you need to. \n",
    "\n",
    "### Your Presentation\n",
    "\n",
    "You should include:\n",
    "* What ML algorithm(s) you used, and why.\n",
    "* What the **baseline** results are for these methods, with **no** tweaking.\n",
    "* Discussion of all of the improvements you made to these algorithms through hyperparameter tuning, scaling, selection and so on. Show plots for every case to back up what you did.\n",
    "* Show a diagram of your proposed ML workflow. Because this is classification, be sure to use as many new tools as you can (see below).\n",
    "* Show your final result which is the average of the best two scores from both MNIST datasets using that same workflow. Don't tune the workflow to the two datasets separately: we are looking for transferability - the ability for a workflow on one dataset to also work on another.\n",
    "* It is very important that you use the new techniques we are learning this week that are classifier specific (e.g., confusion matrices).\n"
   ]
  },
  {
   "cell_type": "markdown",
   "metadata": {
    "colab_type": "text",
    "id": "D6-9ye_zLS9h"
   },
   "source": [
    "## Part 1. Get the data and explore the data. (12 points)\n",
    "\n",
    "Here, I'll cover a few concepts to help your team get started. \n"
   ]
  },
  {
   "cell_type": "code",
   "execution_count": 5,
   "metadata": {
    "colab": {
     "base_uri": "https://localhost:8080/",
     "height": 446
    },
    "colab_type": "code",
    "executionInfo": {
     "elapsed": 20707,
     "status": "error",
     "timestamp": 1572391127032,
     "user": {
      "displayName": "Michael Murillo",
      "photoUrl": "https://lh3.googleusercontent.com/a-/AAuE7mActOP60g51sl3VG9HD_x2_XB5iw2YXkUk9qKtI=s64",
      "userId": "04445914509865448303"
     },
     "user_tz": 240
    },
    "id": "JVmQwpvXzNW3",
    "outputId": "6ec56455-7e0c-40eb-d8b2-fcde3c7933b4"
   },
   "outputs": [
    {
     "ename": "ModuleNotFoundError",
     "evalue": "No module named 'tensorflow.python'",
     "output_type": "error",
     "traceback": [
      "\u001b[1;31m---------------------------------------------------------------------------\u001b[0m",
      "\u001b[1;31mModuleNotFoundError\u001b[0m                       Traceback (most recent call last)",
      "\u001b[1;32mc:\\Users\\2003k\\Fall23\\CMSE491\\CMSE491\\Week07_Pre-Class_Classification-STUDENT.ipynb Cell 4\u001b[0m line \u001b[0;36m6\n\u001b[0;32m      <a href='vscode-notebook-cell:/c%3A/Users/2003k/Fall23/CMSE491/CMSE491/Week07_Pre-Class_Classification-STUDENT.ipynb#W3sZmlsZQ%3D%3D?line=2'>3</a>\u001b[0m \u001b[39mimport\u001b[39;00m \u001b[39mmatplotlib\u001b[39;00m \u001b[39mas\u001b[39;00m \u001b[39mmpl\u001b[39;00m\n\u001b[0;32m      <a href='vscode-notebook-cell:/c%3A/Users/2003k/Fall23/CMSE491/CMSE491/Week07_Pre-Class_Classification-STUDENT.ipynb#W3sZmlsZQ%3D%3D?line=4'>5</a>\u001b[0m \u001b[39m# This can take a minute or two to download. Depending on your TF version you may get different results. \u001b[39;00m\n\u001b[1;32m----> <a href='vscode-notebook-cell:/c%3A/Users/2003k/Fall23/CMSE491/CMSE491/Week07_Pre-Class_Classification-STUDENT.ipynb#W3sZmlsZQ%3D%3D?line=5'>6</a>\u001b[0m \u001b[39mfrom\u001b[39;00m \u001b[39mkeras\u001b[39;00m\u001b[39m.\u001b[39;00m\u001b[39mdatasets\u001b[39;00m \u001b[39mimport\u001b[39;00m fashion_mnist, mnist\n\u001b[0;32m      <a href='vscode-notebook-cell:/c%3A/Users/2003k/Fall23/CMSE491/CMSE491/Week07_Pre-Class_Classification-STUDENT.ipynb#W3sZmlsZQ%3D%3D?line=6'>7</a>\u001b[0m \u001b[39mfrom\u001b[39;00m \u001b[39msklearn\u001b[39;00m\u001b[39m.\u001b[39;00m\u001b[39mmodel_selection\u001b[39;00m \u001b[39mimport\u001b[39;00m train_test_split\n",
      "File \u001b[1;32m~\\AppData\\Local\\Packages\\PythonSoftwareFoundation.Python.3.10_qbz5n2kfra8p0\\LocalCache\\local-packages\\Python310\\site-packages\\keras\\__init__.py:3\u001b[0m\n\u001b[0;32m      1\u001b[0m \u001b[39m\"\"\"AUTOGENERATED. DO NOT EDIT.\"\"\"\u001b[39;00m\n\u001b[1;32m----> 3\u001b[0m \u001b[39mfrom\u001b[39;00m \u001b[39mkeras\u001b[39;00m \u001b[39mimport\u001b[39;00m __internal__\n\u001b[0;32m      4\u001b[0m \u001b[39mfrom\u001b[39;00m \u001b[39mkeras\u001b[39;00m \u001b[39mimport\u001b[39;00m activations\n\u001b[0;32m      5\u001b[0m \u001b[39mfrom\u001b[39;00m \u001b[39mkeras\u001b[39;00m \u001b[39mimport\u001b[39;00m applications\n",
      "File \u001b[1;32m~\\AppData\\Local\\Packages\\PythonSoftwareFoundation.Python.3.10_qbz5n2kfra8p0\\LocalCache\\local-packages\\Python310\\site-packages\\keras\\__internal__\\__init__.py:3\u001b[0m\n\u001b[0;32m      1\u001b[0m \u001b[39m\"\"\"AUTOGENERATED. DO NOT EDIT.\"\"\"\u001b[39;00m\n\u001b[1;32m----> 3\u001b[0m \u001b[39mfrom\u001b[39;00m \u001b[39mkeras\u001b[39;00m\u001b[39m.\u001b[39;00m\u001b[39m__internal__\u001b[39;00m \u001b[39mimport\u001b[39;00m backend\n\u001b[0;32m      4\u001b[0m \u001b[39mfrom\u001b[39;00m \u001b[39mkeras\u001b[39;00m\u001b[39m.\u001b[39;00m\u001b[39m__internal__\u001b[39;00m \u001b[39mimport\u001b[39;00m layers\n\u001b[0;32m      5\u001b[0m \u001b[39mfrom\u001b[39;00m \u001b[39mkeras\u001b[39;00m\u001b[39m.\u001b[39;00m\u001b[39m__internal__\u001b[39;00m \u001b[39mimport\u001b[39;00m losses\n",
      "File \u001b[1;32m~\\AppData\\Local\\Packages\\PythonSoftwareFoundation.Python.3.10_qbz5n2kfra8p0\\LocalCache\\local-packages\\Python310\\site-packages\\keras\\__internal__\\backend\\__init__.py:3\u001b[0m\n\u001b[0;32m      1\u001b[0m \u001b[39m\"\"\"AUTOGENERATED. DO NOT EDIT.\"\"\"\u001b[39;00m\n\u001b[1;32m----> 3\u001b[0m \u001b[39mfrom\u001b[39;00m \u001b[39mkeras\u001b[39;00m\u001b[39m.\u001b[39;00m\u001b[39msrc\u001b[39;00m\u001b[39m.\u001b[39;00m\u001b[39mbackend\u001b[39;00m \u001b[39mimport\u001b[39;00m _initialize_variables \u001b[39mas\u001b[39;00m initialize_variables\n\u001b[0;32m      4\u001b[0m \u001b[39mfrom\u001b[39;00m \u001b[39mkeras\u001b[39;00m\u001b[39m.\u001b[39;00m\u001b[39msrc\u001b[39;00m\u001b[39m.\u001b[39;00m\u001b[39mbackend\u001b[39;00m \u001b[39mimport\u001b[39;00m track_variable\n",
      "File \u001b[1;32m~\\AppData\\Local\\Packages\\PythonSoftwareFoundation.Python.3.10_qbz5n2kfra8p0\\LocalCache\\local-packages\\Python310\\site-packages\\keras\\src\\__init__.py:21\u001b[0m\n\u001b[0;32m     15\u001b[0m \u001b[39m\"\"\"Implementation of the Keras API, the high-level API of TensorFlow.\u001b[39;00m\n\u001b[0;32m     16\u001b[0m \n\u001b[0;32m     17\u001b[0m \u001b[39mDetailed documentation and user guides are available at\u001b[39;00m\n\u001b[0;32m     18\u001b[0m \u001b[39m[keras.io](https://keras.io).\u001b[39;00m\n\u001b[0;32m     19\u001b[0m \u001b[39m\"\"\"\u001b[39;00m\n\u001b[0;32m     20\u001b[0m \u001b[39mfrom\u001b[39;00m \u001b[39mkeras\u001b[39;00m\u001b[39m.\u001b[39;00m\u001b[39msrc\u001b[39;00m \u001b[39mimport\u001b[39;00m distribute\n\u001b[1;32m---> 21\u001b[0m \u001b[39mfrom\u001b[39;00m \u001b[39mkeras\u001b[39;00m\u001b[39m.\u001b[39;00m\u001b[39msrc\u001b[39;00m \u001b[39mimport\u001b[39;00m models\n\u001b[0;32m     22\u001b[0m \u001b[39mfrom\u001b[39;00m \u001b[39mkeras\u001b[39;00m\u001b[39m.\u001b[39;00m\u001b[39msrc\u001b[39;00m\u001b[39m.\u001b[39;00m\u001b[39mengine\u001b[39;00m\u001b[39m.\u001b[39;00m\u001b[39minput_layer\u001b[39;00m \u001b[39mimport\u001b[39;00m Input\n\u001b[0;32m     23\u001b[0m \u001b[39mfrom\u001b[39;00m \u001b[39mkeras\u001b[39;00m\u001b[39m.\u001b[39;00m\u001b[39msrc\u001b[39;00m\u001b[39m.\u001b[39;00m\u001b[39mengine\u001b[39;00m\u001b[39m.\u001b[39;00m\u001b[39msequential\u001b[39;00m \u001b[39mimport\u001b[39;00m Sequential\n",
      "File \u001b[1;32m~\\AppData\\Local\\Packages\\PythonSoftwareFoundation.Python.3.10_qbz5n2kfra8p0\\LocalCache\\local-packages\\Python310\\site-packages\\keras\\src\\models\\__init__.py:18\u001b[0m\n\u001b[0;32m      1\u001b[0m \u001b[39m# Copyright 2022 The TensorFlow Authors. All Rights Reserved.\u001b[39;00m\n\u001b[0;32m      2\u001b[0m \u001b[39m#\u001b[39;00m\n\u001b[0;32m      3\u001b[0m \u001b[39m# Licensed under the Apache License, Version 2.0 (the \"License\");\u001b[39;00m\n\u001b[1;32m   (...)\u001b[0m\n\u001b[0;32m     13\u001b[0m \u001b[39m# limitations under the License.\u001b[39;00m\n\u001b[0;32m     14\u001b[0m \u001b[39m# ==============================================================================\u001b[39;00m\n\u001b[0;32m     15\u001b[0m \u001b[39m\"\"\"Keras models API.\"\"\"\u001b[39;00m\n\u001b[1;32m---> 18\u001b[0m \u001b[39mfrom\u001b[39;00m \u001b[39mkeras\u001b[39;00m\u001b[39m.\u001b[39;00m\u001b[39msrc\u001b[39;00m\u001b[39m.\u001b[39;00m\u001b[39mengine\u001b[39;00m\u001b[39m.\u001b[39;00m\u001b[39mfunctional\u001b[39;00m \u001b[39mimport\u001b[39;00m Functional\n\u001b[0;32m     19\u001b[0m \u001b[39mfrom\u001b[39;00m \u001b[39mkeras\u001b[39;00m\u001b[39m.\u001b[39;00m\u001b[39msrc\u001b[39;00m\u001b[39m.\u001b[39;00m\u001b[39mengine\u001b[39;00m\u001b[39m.\u001b[39;00m\u001b[39msequential\u001b[39;00m \u001b[39mimport\u001b[39;00m Sequential\n\u001b[0;32m     20\u001b[0m \u001b[39mfrom\u001b[39;00m \u001b[39mkeras\u001b[39;00m\u001b[39m.\u001b[39;00m\u001b[39msrc\u001b[39;00m\u001b[39m.\u001b[39;00m\u001b[39mengine\u001b[39;00m\u001b[39m.\u001b[39;00m\u001b[39mtraining\u001b[39;00m \u001b[39mimport\u001b[39;00m Model\n",
      "File \u001b[1;32m~\\AppData\\Local\\Packages\\PythonSoftwareFoundation.Python.3.10_qbz5n2kfra8p0\\LocalCache\\local-packages\\Python310\\site-packages\\keras\\src\\engine\\functional.py:23\u001b[0m\n\u001b[0;32m     20\u001b[0m \u001b[39mimport\u001b[39;00m \u001b[39mitertools\u001b[39;00m\n\u001b[0;32m     21\u001b[0m \u001b[39mimport\u001b[39;00m \u001b[39mwarnings\u001b[39;00m\n\u001b[1;32m---> 23\u001b[0m \u001b[39mimport\u001b[39;00m \u001b[39mtensorflow\u001b[39;00m\u001b[39m.\u001b[39;00m\u001b[39mcompat\u001b[39;00m\u001b[39m.\u001b[39;00m\u001b[39mv2\u001b[39;00m \u001b[39mas\u001b[39;00m \u001b[39mtf\u001b[39;00m\n\u001b[0;32m     25\u001b[0m \u001b[39mfrom\u001b[39;00m \u001b[39mkeras\u001b[39;00m\u001b[39m.\u001b[39;00m\u001b[39msrc\u001b[39;00m \u001b[39mimport\u001b[39;00m backend\n\u001b[0;32m     26\u001b[0m \u001b[39mfrom\u001b[39;00m \u001b[39mkeras\u001b[39;00m\u001b[39m.\u001b[39;00m\u001b[39msrc\u001b[39;00m\u001b[39m.\u001b[39;00m\u001b[39mdtensor\u001b[39;00m \u001b[39mimport\u001b[39;00m layout_map \u001b[39mas\u001b[39;00m layout_map_lib\n",
      "File \u001b[1;32m~\\AppData\\Local\\Packages\\PythonSoftwareFoundation.Python.3.10_qbz5n2kfra8p0\\LocalCache\\local-packages\\Python310\\site-packages\\tensorflow\\__init__.py:38\u001b[0m\n\u001b[0;32m     35\u001b[0m \u001b[39mimport\u001b[39;00m \u001b[39msys\u001b[39;00m \u001b[39mas\u001b[39;00m \u001b[39m_sys\u001b[39;00m\n\u001b[0;32m     36\u001b[0m \u001b[39mimport\u001b[39;00m \u001b[39mtyping\u001b[39;00m \u001b[39mas\u001b[39;00m \u001b[39m_typing\u001b[39;00m\n\u001b[1;32m---> 38\u001b[0m \u001b[39mfrom\u001b[39;00m \u001b[39mtensorflow\u001b[39;00m\u001b[39m.\u001b[39;00m\u001b[39mpython\u001b[39;00m\u001b[39m.\u001b[39;00m\u001b[39mtools\u001b[39;00m \u001b[39mimport\u001b[39;00m module_util \u001b[39mas\u001b[39;00m _module_util\n\u001b[0;32m     39\u001b[0m \u001b[39mfrom\u001b[39;00m \u001b[39mtensorflow\u001b[39;00m\u001b[39m.\u001b[39;00m\u001b[39mpython\u001b[39;00m\u001b[39m.\u001b[39;00m\u001b[39mutil\u001b[39;00m\u001b[39m.\u001b[39;00m\u001b[39mlazy_loader\u001b[39;00m \u001b[39mimport\u001b[39;00m LazyLoader \u001b[39mas\u001b[39;00m _LazyLoader\n\u001b[0;32m     41\u001b[0m \u001b[39m# Make sure code inside the TensorFlow codebase can use tf2.enabled() at import.\u001b[39;00m\n",
      "\u001b[1;31mModuleNotFoundError\u001b[0m: No module named 'tensorflow.python'"
     ]
    }
   ],
   "source": [
    "import numpy as np\n",
    "import matplotlib.pyplot as plt\n",
    "import matplotlib as mpl\n",
    "\n",
    "# This can take a minute or two to download. Depending on your TF version you may get different results. \n",
    "from keras.datasets import fashion_mnist, mnist\n",
    "from sklearn.model_selection import train_test_split\n"
   ]
  },
  {
   "cell_type": "code",
   "execution_count": null,
   "metadata": {},
   "outputs": [],
   "source": [
    "# digits\n",
    "(X_train, y_train), (X_test, y_test)  = mnist.load_data()\n",
    "\n",
    "# fashion: note how the split occurs automatically for this dataset\n",
    "(X_train_fashion, y_train_fashion), (X_test_fashion, y_test_fashion) = fashion_mnist.load_data()\n"
   ]
  },
  {
   "cell_type": "code",
   "execution_count": null,
   "metadata": {},
   "outputs": [
    {
     "name": "stdout",
     "output_type": "stream",
     "text": [
      "MNIST Digits:\n",
      "Size of training set: (60000, 28, 28)\n",
      "Size of testing set: (10000, 28, 28)\n",
      "Target labels: [0 1 2 3 4 5 6 7 8 9]\n"
     ]
    }
   ],
   "source": [
    "\n",
    "# confirm we know the size of the data\n",
    "print(f\"MNIST Digits:\")\n",
    "print(f\"Size of training set: {X_train.shape}\")\n",
    "print(f\"Size of testing set: {X_test.shape}\")\n",
    "print(f\"Target labels: {np.unique(y_test)}\")\n",
    "\n",
    "# It is highly recommended that you print out these variables so that you can \n",
    "# see what is in them and how to use them correctly. It's good to get a sense \n",
    "# for what you are passing into the ML libraries."
   ]
  },
  {
   "cell_type": "markdown",
   "metadata": {},
   "source": [
    "&#9989; **Task 1.1: (2 points)** Print out the sizes of the `fashion_mnist`\n",
    "\n",
    "* train and test datasets\n",
    "* the unique values of the targets   "
   ]
  },
  {
   "cell_type": "code",
   "execution_count": null,
   "metadata": {},
   "outputs": [
    {
     "name": "stdout",
     "output_type": "stream",
     "text": [
      "MNIST Fashion:\n",
      "Size of training set: (60000, 28, 28)\n",
      "Size of testing set: (10000, 28, 28)\n",
      "Target labels: [0 1 2 3 4 5 6 7 8 9]\n"
     ]
    }
   ],
   "source": [
    "# put your code here\n",
    "print(f\"MNIST Fashion:\")\n",
    "print(f\"Size of training set: {X_train_fashion.shape}\")\n",
    "print(f\"Size of testing set: {X_test_fashion.shape}\")\n",
    "print(f\"Target labels: {np.unique(y_test_fashion)}\")"
   ]
  },
  {
   "cell_type": "markdown",
   "metadata": {},
   "source": [
    "&#9989; **Question 1.2: (2 points)**\n",
    "\n",
    "1. What is the size of each image in the fashion MNIST dataset?\n",
    "2. What do the numbers in the target labels correspond to, _e.g._ what item of clothing?"
   ]
  },
  {
   "cell_type": "markdown",
   "metadata": {},
   "source": [
    "<font size=6 color=\"#009600\">&#9998;</font> *Put your answers here!* \n",
    "\n",
    "1. 28x28\n",
    "\n",
    "2. \n",
    "\n",
    "- 0: T-shirt/top\n",
    "- 1: Trouser\n",
    "- 2: Pullover\n",
    "- 3: Dress\n",
    "- 4: Coat\n",
    "- 5: Sandal\n",
    "- 6: Shirt\n",
    "- 7: Sneaker\n",
    "- 8: Bag\n",
    "- 9: Ankle boot\n"
   ]
  },
  {
   "cell_type": "markdown",
   "metadata": {
    "colab_type": "text",
    "id": "J_B4XAXBYZyI"
   },
   "source": [
    "## Visualization\n",
    "\n",
    "Let's show some examples of the MNIST datasets"
   ]
  },
  {
   "cell_type": "code",
   "execution_count": null,
   "metadata": {
    "colab": {
     "base_uri": "https://localhost:8080/",
     "height": 187
    },
    "colab_type": "code",
    "executionInfo": {
     "elapsed": 1632,
     "status": "ok",
     "timestamp": 1572390624758,
     "user": {
      "displayName": "Michael Murillo",
      "photoUrl": "https://lh3.googleusercontent.com/a-/AAuE7mActOP60g51sl3VG9HD_x2_XB5iw2YXkUk9qKtI=s64",
      "userId": "04445914509865448303"
     },
     "user_tz": 240
    },
    "id": "PCWWa8QFx_Ae",
    "outputId": "92442e42-4d24-4b55-94c0-e0ceb5895a43"
   },
   "outputs": [
    {
     "data": {
      "image/png": "[encoded data removed]",
      "text/plain": [
       "<Figure size 2000x500 with 10 Axes>"
      ]
     },
     "metadata": {},
     "output_type": "display_data"
    }
   ],
   "source": [
    "# Create a dictionary to track which numbers we have plotted\n",
    "plotted_numbers = {}\n",
    "\n",
    "# Plot the first instance of each number\n",
    "fig, axes = plt.subplots(1, 10, figsize=(20, 5))\n",
    "for i, label in enumerate(y_test):\n",
    "    if label not in plotted_numbers:\n",
    "        plotted_numbers[label] = True\n",
    "        ax = axes[label]\n",
    "        ax.imshow(X_train[label], cmap='inferno')\n",
    "        # ax.imshow(X_train[label], cmap='ocean') # Go Green!\n",
    "        # ax.imshow(X_train[label], cmap='plasma') # Go Blue!\n",
    "        ax.set_title(f\"{label}\", fontsize = 18)\n",
    "        ax.axis('off')\n",
    "    if len(plotted_numbers) == 10:\n",
    "        break\n"
   ]
  },
  {
   "cell_type": "markdown",
   "metadata": {},
   "source": [
    "&#9989; **Task 1.3: (2 points)** Make a similar plot for the fashion images"
   ]
  },
  {
   "cell_type": "code",
   "execution_count": null,
   "metadata": {},
   "outputs": [
    {
     "data": {
      "image/png": "[encoded data removed]",
      "text/plain": [
       "<Figure size 2000x500 with 10 Axes>"
      ]
     },
     "metadata": {},
     "output_type": "display_data"
    }
   ],
   "source": [
    "# Put your code here\n",
    "# Create a dictionary to track which numbers we have plotted\n",
    "plotted_numbers = {}\n",
    "\n",
    "# Plot the first instance of each number\n",
    "fig, axes = plt.subplots(1, 10, figsize=(20, 5))\n",
    "for i, label in enumerate(y_test_fashion):\n",
    "    if label not in plotted_numbers:\n",
    "        plotted_numbers[label] = True\n",
    "        ax = axes[label]\n",
    "        ax.imshow(X_train_fashion[label], cmap='inferno')\n",
    "        # ax.imshow(X_train[label], cmap='ocean') # Go Green!\n",
    "        # ax.imshow(X_train[label], cmap='plasma') # Go Blue!\n",
    "        ax.set_title(f\"{label}\", fontsize = 18)\n",
    "        ax.axis('off')\n",
    "    if len(plotted_numbers) == 10:\n",
    "        break\n"
   ]
  },
  {
   "cell_type": "markdown",
   "metadata": {
    "colab_type": "text",
    "id": "QVKVKbtJV7bP"
   },
   "source": [
    "### Prepare the data for classification\n",
    "\n",
    "With the data in hand, split, we need to think about the goal of our classifier. As discussed in the lecture, there are several ways we can think about the MNIST data from the point of view of classification. Since we are just warming up, let's examine **binary** classification first. Because both MNISTs have ten features we can pick just one feature and see if your algorithm(s) can find that one from the others. Let's choose \"1\" from digits and work through that; your team should extend to the MNIST fashion case. \n",
    "\n",
    "<font color='green'>**We are only using _binary_ classification here to allow for the widest possible uniform comparison across ML algorithms.**</font> "
   ]
  },
  {
   "cell_type": "markdown",
   "metadata": {},
   "source": [
    "&#9989; **Question 1.4: (2 points)** What are some of the classifier that can't do multiclass classification in `sklearn`? You need to name at least two."
   ]
  },
  {
   "cell_type": "markdown",
   "metadata": {},
   "source": [
    "<font size=6 color=\"#009600\">&#9998;</font> *Put your answers here!* \n",
    "\n",
    "\n",
    "1. Linear classifier\n",
    "2. Logistic regression\n"
   ]
  },
  {
   "cell_type": "markdown",
   "metadata": {},
   "source": [
    "Let's remake the labels such that there are only two (\"binary\") classes; the \"1\"s have one value and everything else has some other value. First, we need to find the \"1\"s and then let's make them be 1 and everything else 0. \n",
    "\n",
    "Think about what this code does (very Pythonic!):"
   ]
  },
  {
   "cell_type": "code",
   "execution_count": null,
   "metadata": {
    "colab": {},
    "colab_type": "code",
    "id": "3iEymgzIX15s"
   },
   "outputs": [
    {
     "name": "stdout",
     "output_type": "stream",
     "text": [
      "[0 0 0 1 0 0 1 0 1 0 0 0 0 0 1 0 0 0 0 0 0 0 0 1 1 0 0 0 0 0 0 0 0 0 0 0 0\n",
      " 0 0 0 1 0 0 0 0 0 0 0 0 0 0 0 0 0 0 0 0 0 0 1 0 0 0 0 0 0 0 1 0 0 1 0 1 0\n",
      " 0 0 0 1 1 0 0 0 0 0 0 0 0 0 0 0 0 0 0 0 0 0 0 0 0 1]\n"
     ]
    }
   ],
   "source": [
    "y_train_1 = (y_train == 1)*1\n",
    "y_test_1 = (y_test == 1)*1\n",
    "\n",
    "print(y_train_1[0:100])"
   ]
  },
  {
   "cell_type": "markdown",
   "metadata": {},
   "source": [
    "&#9989; **Task 1.5: (2 points)** Do the same for the fashion datasets."
   ]
  },
  {
   "cell_type": "code",
   "execution_count": null,
   "metadata": {},
   "outputs": [
    {
     "name": "stdout",
     "output_type": "stream",
     "text": [
      "[0 0 0 0 0 0 0 0 0 0 0 0 0 0 0 0 1 0 0 0 0 1 0 0 0 0 0 0 0 0 0 0 0 0 0 0 0\n",
      " 0 1 0 0 0 0 0 0 0 0 0 0 0 0 0 0 0 0 0 0 0 0 0 0 0 0 0 0 0 0 0 0 1 0 1 0 0\n",
      " 1 0 0 0 1 0 1 0 0 0 0 0 1 0 0 0 0 0 0 0 0 0 0 1 1 0]\n"
     ]
    }
   ],
   "source": [
    "# Put your code here\n",
    "y_train_fashion_1 = (y_train_fashion == 1)*1\n",
    "y_test_fashion_1 = (y_test_fashion == 1)*1\n",
    "\n",
    "print(y_train_fashion_1[0:100])"
   ]
  },
  {
   "cell_type": "markdown",
   "metadata": {},
   "source": [
    "But wait the data is still not ready to be fed to `sklearn` classifiers! Each feature in our dataset is a 28 x 28 image and not a 1D array whose columns are features. Let's reshape our images so that we have in the right form."
   ]
  },
  {
   "cell_type": "code",
   "execution_count": null,
   "metadata": {},
   "outputs": [
    {
     "name": "stdout",
     "output_type": "stream",
     "text": [
      "(60000, 784)\n"
     ]
    }
   ],
   "source": [
    "X_train = X_train.reshape(X_train.shape[0], -1)\n",
    "X_test = X_test.reshape(X_test.shape[0], -1)\n",
    "\n",
    "print(X_train.shape)"
   ]
  },
  {
   "cell_type": "markdown",
   "metadata": {},
   "source": [
    "&#9989; **Task 1.6: (2 points)** Do the same for the fashion datasets."
   ]
  },
  {
   "cell_type": "code",
   "execution_count": null,
   "metadata": {},
   "outputs": [
    {
     "name": "stdout",
     "output_type": "stream",
     "text": [
      "(60000, 784)\n"
     ]
    }
   ],
   "source": [
    "# Put your code here\n",
    "X_train_fashion = X_train_fashion.reshape(X_train_fashion.shape[0], -1)\n",
    "X_test_fashion = X_test_fashion.reshape(X_test_fashion.shape[0], -1)\n",
    "\n",
    "print(X_train_fashion.shape)"
   ]
  },
  {
   "cell_type": "markdown",
   "metadata": {
    "colab_type": "text",
    "id": "iRElQf6qb_0C"
   },
   "source": [
    "## Part 2. Classification! (8 points)\n",
    "\n",
    "Now, we have our data both split and converted to a form that can be used in a binary classifier setting. Any \"1\" should train to a 1 and everything else should train to a 0. All set! \n",
    "\n",
    "Wait! What classifier will we use? So many to choose from.... Last time we used the simplest of them all, `SGDClassifier`, so let's try that out. You might choose this for your team? Note that there are quite a few options, but we need to start with the baseline case.  "
   ]
  },
  {
   "cell_type": "code",
   "execution_count": null,
   "metadata": {
    "colab": {},
    "colab_type": "code",
    "id": "P85pCPMYbAgn"
   },
   "outputs": [],
   "source": [
    "# Classifiers! Classifiers everywhere!\n",
    "from sklearn.linear_model import SGDClassifier\n",
    "from sklearn.neural_network import MLPClassifier\n",
    "from sklearn.neighbors import KNeighborsClassifier"
   ]
  },
  {
   "cell_type": "code",
   "execution_count": null,
   "metadata": {},
   "outputs": [
    {
     "data": {
      "text/plain": [
       "SGDClassifier(random_state=42)"
      ]
     },
     "execution_count": 13,
     "metadata": {},
     "output_type": "execute_result"
    }
   ],
   "source": [
    "# SGD \n",
    "# You might have to change the hyperparameters on your computer\n",
    "SGD_clf = SGDClassifier(max_iter=1000, tol=1e-3, random_state=42)\n",
    "SGD_clf.fit(X_train, y_train_1)"
   ]
  },
  {
   "cell_type": "code",
   "execution_count": null,
   "metadata": {
    "colab": {},
    "colab_type": "code",
    "id": "-NHNsfc46zPh"
   },
   "outputs": [],
   "source": [
    "# # MLP\n",
    "# # You might have to change the hyperparameters on your computer\n",
    "# MLP_clf = MLPClassifier(solver='lbfgs', alpha=1e-3, hidden_layer_sizes=(100), max_iter = 100, random_state=42)\n",
    "# MLP_clf.fit(X_train, y_train_1)\n",
    "\n",
    "# #save the model\n",
    "# import pickle\n",
    "# filename = 'mlp_model.sav'\n",
    "# pickle.dump(MLP_clf, open(filename, 'wb'))\n"
   ]
  },
  {
   "cell_type": "code",
   "execution_count": null,
   "metadata": {},
   "outputs": [],
   "source": [
    "#load the model\n",
    "import pickle\n",
    "filename = 'mlp_model.sav'\n",
    "MLP_clf = pickle.load(open(filename, 'rb'))"
   ]
  },
  {
   "cell_type": "code",
   "execution_count": null,
   "metadata": {
    "colab": {},
    "colab_type": "code",
    "id": "aj8SvIoK6u3g"
   },
   "outputs": [
    {
     "data": {
      "text/plain": [
       "KNeighborsClassifier(n_neighbors=3)"
      ]
     },
     "execution_count": 16,
     "metadata": {},
     "output_type": "execute_result"
    }
   ],
   "source": [
    "# KNN\n",
    "# You might have to change the hyperparameters on your computer\n",
    "KNN_clf = KNeighborsClassifier(n_neighbors=3)\n",
    "KNN_clf.fit(X_train, y_train_1)"
   ]
  },
  {
   "cell_type": "markdown",
   "metadata": {},
   "source": [
    "&#9989; **Task 2.1: (2 points)** Do the same with your classifiers for the fashion dataset"
   ]
  },
  {
   "cell_type": "code",
   "execution_count": null,
   "metadata": {},
   "outputs": [
    {
     "data": {
      "text/plain": [
       "KNeighborsClassifier(n_neighbors=3)"
      ]
     },
     "execution_count": 17,
     "metadata": {},
     "output_type": "execute_result"
    }
   ],
   "source": [
    "# put your code here\n",
    "\n",
    "# SGD\n",
    "# You might have to change the hyperparameters on your computer\n",
    "SGD_clf_fashion = SGDClassifier(max_iter=1000, tol=1e-3, random_state=42)\n",
    "SGD_clf_fashion.fit(X_train_fashion, y_train_fashion_1)\n",
    "\n",
    "\n",
    "\n",
    "# KNN\n",
    "# You might have to change the hyperparameters on your computer\n",
    "KNN_clf_fashion = KNeighborsClassifier(n_neighbors=3)\n",
    "KNN_clf_fashion.fit(X_train_fashion, y_train_fashion_1)\n",
    "\n"
   ]
  },
  {
   "cell_type": "code",
   "execution_count": null,
   "metadata": {},
   "outputs": [
    {
     "name": "stderr",
     "output_type": "stream",
     "text": [
      "/mnt/home/taftkyle/.local/lib/python3.7/site-packages/sklearn/neural_network/_multilayer_perceptron.py:549: ConvergenceWarning: lbfgs failed to converge (status=1):\n",
      "STOP: TOTAL NO. of ITERATIONS REACHED LIMIT.\n",
      "\n",
      "Increase the number of iterations (max_iter) or scale the data as shown in:\n",
      "    https://scikit-learn.org/stable/modules/preprocessing.html\n",
      "  self.n_iter_ = _check_optimize_result(\"lbfgs\", opt_res, self.max_iter)\n"
     ]
    }
   ],
   "source": [
    "# MLP\n",
    "# You might have to change the hyperparameters on your computer\n",
    "MLP_clf_fashion = MLPClassifier(solver='lbfgs', alpha=1e-3, hidden_layer_sizes=(100), max_iter = 10, random_state=42) # had to change max_iter to 10 since it kept crashing\n",
    "MLP_clf_fashion.fit(X_train_fashion, y_train_fashion_1)\n",
    "\n",
    "#save the model\n",
    "import pickle\n",
    "filename = 'mlp_model_fashion.sav'\n",
    "pickle.dump(MLP_clf_fashion, open(filename, 'wb'))"
   ]
  },
  {
   "cell_type": "markdown",
   "metadata": {
    "colab_type": "text",
    "id": "ZjPykjNGdN7L"
   },
   "source": [
    "Wow. Don't you love using `sklearn`? That's it! So few lines of code......\n",
    "\n",
    "But, notice that `sklearn` is telling us that there are a lot of other options beyond the defaults - perfect for this assignment! \n",
    "\n",
    "Since this is ML, let's try some predictions...."
   ]
  },
  {
   "cell_type": "code",
   "execution_count": null,
   "metadata": {
    "colab": {
     "base_uri": "https://localhost:8080/",
     "height": 642
    },
    "colab_type": "code",
    "executionInfo": {
     "elapsed": 1361,
     "status": "ok",
     "timestamp": 1572392904973,
     "user": {
      "displayName": "Michael Murillo",
      "photoUrl": "https://lh3.googleusercontent.com/a-/AAuE7mActOP60g51sl3VG9HD_x2_XB5iw2YXkUk9qKtI=s64",
      "userId": "04445914509865448303"
     },
     "user_tz": 240
    },
    "id": "bRDlCdGxdNil",
    "outputId": "a20f81a4-561d-46cc-9919-32b4a2762336"
   },
   "outputs": [
    {
     "name": "stdout",
     "output_type": "stream",
     "text": [
      "\tSGD,\tMLP,\tKNN,\tActual\n",
      "\t 0,\t 0,\t 0,\t  5\n",
      "\t 0,\t 0,\t 0,\t  0\n",
      "\t 0,\t 0,\t 0,\t  4\n",
      "\t 1,\t 1,\t 1,\t  1\n",
      "\t 0,\t 0,\t 0,\t  9\n",
      "\t 0,\t 0,\t 0,\t  2\n",
      "\t 1,\t 1,\t 1,\t  1\n",
      "\t 0,\t 0,\t 0,\t  3\n",
      "\t 1,\t 1,\t 1,\t  1\n",
      "\t 0,\t 0,\t 0,\t  4\n"
     ]
    }
   ],
   "source": [
    "print('\\tSGD,\\tMLP,\\tKNN,\\tActual')\n",
    "for loop in range(10):\n",
    "    sgd_prediction = SGD_clf.predict([X_train[loop]])\n",
    "    mlp_prediction = MLP_clf.predict([X_train[loop]])\n",
    "    knn_prediction = KNN_clf.predict([X_train[loop]])\n",
    "    print(f\"\\t {sgd_prediction[0]},\\t {mlp_prediction[0]},\\t {knn_prediction[0]},\\t  {y_train[loop]}\")"
   ]
  },
  {
   "cell_type": "markdown",
   "metadata": {},
   "source": [
    "&#9989; **Task 2.2: (2 points)** Do the same for the fashion dataset using your classifiers"
   ]
  },
  {
   "cell_type": "code",
   "execution_count": null,
   "metadata": {},
   "outputs": [
    {
     "name": "stdout",
     "output_type": "stream",
     "text": [
      "\tSGD,\tMLP,\tKNN,\tActual\n",
      "\t 0,\t 0,\t 0,\t  9\n",
      "\t 0,\t 0,\t 0,\t  0\n",
      "\t 0,\t 1,\t 0,\t  0\n",
      "\t 0,\t 0,\t 0,\t  3\n",
      "\t 0,\t 0,\t 0,\t  0\n",
      "\t 0,\t 0,\t 0,\t  2\n",
      "\t 0,\t 0,\t 0,\t  7\n",
      "\t 0,\t 0,\t 0,\t  2\n",
      "\t 0,\t 0,\t 0,\t  5\n",
      "\t 0,\t 0,\t 0,\t  5\n"
     ]
    }
   ],
   "source": [
    "# Put your code here\n",
    "print('\\tSGD,\\tMLP,\\tKNN,\\tActual')\n",
    "for loop in range(10):\n",
    "    sgd_prediction = SGD_clf_fashion.predict([X_train_fashion[loop]])\n",
    "    mlp_prediction = MLP_clf_fashion.predict([X_train_fashion[loop]])\n",
    "    knn_prediction = KNN_clf_fashion.predict([X_train_fashion[loop]])\n",
    "    print(f\"\\t {sgd_prediction[0]},\\t {mlp_prediction[0]},\\t {knn_prediction[0]},\\t  {y_train_fashion[loop]}\")"
   ]
  },
  {
   "cell_type": "markdown",
   "metadata": {
    "colab_type": "text",
    "id": "m45GVhjzfWC8"
   },
   "source": [
    "### Cross Validation\n",
    "\n",
    "Are your classifiers able to correctly predict the images?\n",
    "Certainly that quick peek gives us confidence it is working; but, there are _thousands_ of samples in the MNIST database. We need a better way to check for accuracy. Let's use CV!"
   ]
  },
  {
   "cell_type": "code",
   "execution_count": null,
   "metadata": {
    "colab": {
     "base_uri": "https://localhost:8080/",
     "height": 34
    },
    "colab_type": "code",
    "executionInfo": {
     "elapsed": 12449,
     "status": "ok",
     "timestamp": 1572220369008,
     "user": {
      "displayName": "Michael Murillo",
      "photoUrl": "https://lh3.googleusercontent.com/a-/AAuE7mActOP60g51sl3VG9HD_x2_XB5iw2YXkUk9qKtI=s64",
      "userId": "04445914509865448303"
     },
     "user_tz": 240
    },
    "id": "ISHFxSLLgVhS",
    "outputId": "5425b831-0f8c-443b-91e9-3a73acb9a274"
   },
   "outputs": [
    {
     "name": "stdout",
     "output_type": "stream",
     "text": [
      "SGD:  [0.9878  0.98095 0.99005]\n"
     ]
    },
    {
     "ename": "",
     "evalue": "",
     "output_type": "error",
     "traceback": [
      "\u001b[1;31mThe Kernel crashed while executing code in the the current cell or a previous cell. Please review the code in the cell(s) to identify a possible cause of the failure. Click <a href='https://aka.ms/vscodeJupyterKernelCrash'>here</a> for more info. View Jupyter <a href='command:jupyter.viewOutput'>log</a> for further details."
     ]
    }
   ],
   "source": [
    "from sklearn.model_selection import cross_val_score\n",
    "\n",
    "print(f'SGD: ', cross_val_score(SGD_clf, X_train, y_train_1, cv=3, scoring='accuracy'))\n",
    "print(f'MLP: ', cross_val_score(MLP_clf, X_train, y_train_1, cv=3, scoring='accuracy'))\n",
    "print(f'KNN: ', cross_val_score(KNN_clf, X_train, y_train_1, cv=3, scoring='accuracy'))"
   ]
  },
  {
   "cell_type": "markdown",
   "metadata": {},
   "source": [
    "&#9989; **Task 2.3: (2 points)** Do the same for the fashion dataset using your classifiers"
   ]
  },
  {
   "cell_type": "code",
   "execution_count": null,
   "metadata": {},
   "outputs": [],
   "source": [
    "# Put your code here\n",
    "print(f'SGD: ', cross_val_score(SGD_clf_fashion, X_train_fashion, y_train_fashion_1, cv=3, scoring='accuracy'))\n",
    "print(f'MLP: ', cross_val_score(MLP_clf_fashion, X_train_fashion, y_train_fashion_1, cv=3, scoring='accuracy'))\n",
    "print(f'KNN: ', cross_val_score(KNN_clf_fashion, X_train_fashion, y_train_fashion_1, cv=3, scoring='accuracy'))\n"
   ]
  },
  {
   "cell_type": "markdown",
   "metadata": {
    "colab_type": "text",
    "id": "kkgskZY7gvUh"
   },
   "source": [
    "Looks like [put your classifier here] is extremely accurate!! Great job!\n",
    "\n",
    "But, let's think about this.... What is the worst it could be? "
   ]
  },
  {
   "cell_type": "code",
   "execution_count": null,
   "metadata": {
    "colab": {
     "base_uri": "https://localhost:8080/",
     "height": 69
    },
    "colab_type": "code",
    "executionInfo": {
     "elapsed": 544,
     "status": "ok",
     "timestamp": 1572218546871,
     "user": {
      "displayName": "Michael Murillo",
      "photoUrl": "https://lh3.googleusercontent.com/a-/AAuE7mActOP60g51sl3VG9HD_x2_XB5iw2YXkUk9qKtI=s64",
      "userId": "04445914509865448303"
     },
     "user_tz": 240
    },
    "id": "NFMOlWpZhB5d",
    "outputId": "305c4299-b018-433f-9248-592a08a43922"
   },
   "outputs": [],
   "source": [
    "print('MNIST Digits')\n",
    "print('The total number is: ', len(y_train))\n",
    "print('The total number of 1s is: ', sum(y_train_1))\n",
    "print('Chance of being wrong if we guess not 1: ', 100*sum(y_train_1)/len(y_train), '%')"
   ]
  },
  {
   "cell_type": "markdown",
   "metadata": {},
   "source": [
    "&#9989; **Task 2.4: (2 points)** Do the same for the fashion dataset using your classifiers"
   ]
  },
  {
   "cell_type": "code",
   "execution_count": null,
   "metadata": {},
   "outputs": [],
   "source": [
    "# Put your code here\n",
    "print('MNIST Fashion')\n",
    "print('The total number is: ', len(y_train_fashion))\n",
    "print('The total number of 1s is: ', sum(y_train_fashion_1))\n",
    "print('Chance of being wrong if we guess not 1: ', 100*sum(y_train_fashion_1)/len(y_train_fashion), '%')"
   ]
  },
  {
   "cell_type": "markdown",
   "metadata": {},
   "source": [
    "This is an important lession in ML: sometimes the simplest rule gives a great result. Here, the simplest rule is: skip ML and simply guess **not 1**, since we know there are very few ones in there. If we do, we get about 90% accuracy with zero effort! Who needs ML!?\n",
    "\n",
    "What this tells us is that ML can really only help us with the final 10%. Our goal then is to get as close to 100% accuracy as we can. But, the main point is that this is just not a very good way to measure how well we are doing. We need to remove this \"trivial\" part. "
   ]
  },
  {
   "cell_type": "markdown",
   "metadata": {
    "colab_type": "text",
    "id": "ct1wOTRwh3_E"
   },
   "source": [
    "---\n",
    "## Part 3. Analyze your results (10 points)\n",
    "\n",
    "### Confusion Matrix\n",
    "\n",
    "![cm](http://rasbt.github.io/mlxtend/user_guide/evaluate/lift_score_files/lift_cm_1.png)\n",
    "\n",
    "Rather than getting a prediction _score_, let's examine _how things are being classified_. "
   ]
  },
  {
   "cell_type": "code",
   "execution_count": null,
   "metadata": {},
   "outputs": [],
   "source": [
    "from sklearn.model_selection import cross_val_predict\n",
    "from sklearn.metrics import confusion_matrix, ConfusionMatrixDisplay\n",
    "from sklearn.metrics import precision_recall_curve, classification_report"
   ]
  },
  {
   "cell_type": "code",
   "execution_count": null,
   "metadata": {
    "colab": {},
    "colab_type": "code",
    "id": "e9TXZptbjxYa"
   },
   "outputs": [],
   "source": [
    "y_train_pred = cross_val_predict(SGD_clf, X_train, y_train_1, cv=3, n_jobs= -1)\n",
    "con_mat = confusion_matrix(y_train_1, y_train_pred)\n",
    "disp = ConfusionMatrixDisplay(confusion_matrix= con_mat)\n",
    "_ = disp.plot()"
   ]
  },
  {
   "cell_type": "code",
   "execution_count": null,
   "metadata": {},
   "outputs": [],
   "source": [
    "print(classification_report(y_train_1, y_train_pred))"
   ]
  },
  {
   "cell_type": "markdown",
   "metadata": {},
   "source": [
    "$$ {\\rm F_1} = 2 \\left ( \\frac{1}{{\\rm precision}} + \\frac{1}{\\rm recall} \\right )^{-1} $$"
   ]
  },
  {
   "cell_type": "markdown",
   "metadata": {
    "colab_type": "text",
    "id": "fsYgPKH7k42o"
   },
   "source": [
    "&#9989; **Task 3.1: (2 points)** Do the same for the fashion dataset. "
   ]
  },
  {
   "cell_type": "code",
   "execution_count": null,
   "metadata": {},
   "outputs": [],
   "source": [
    "# Put your code here "
   ]
  },
  {
   "cell_type": "markdown",
   "metadata": {},
   "source": [
    "&#9989; **Questions 3.2: (4 points)** \n",
    "\n",
    "1. What does `cross_val_predict` do?\n",
    "2. Look at the diagram above and interpret your confusion matrix. What does it tell you?"
   ]
  },
  {
   "cell_type": "markdown",
   "metadata": {},
   "source": [
    "<font size=6 color=\"#009600\">&#9998;</font> *Put your answers here!* \n"
   ]
  },
  {
   "cell_type": "markdown",
   "metadata": {},
   "source": [
    "### Precision and Recall\n",
    "\n",
    "Let's examine precision and recall next to get a better sense for how well we are doing. Now is a very good time to [review this](https://scikit-learn.org/stable/modules/generated/sklearn.metrics.precision_recall_curve.html). "
   ]
  },
  {
   "cell_type": "code",
   "execution_count": null,
   "metadata": {
    "colab": {
     "base_uri": "https://localhost:8080/",
     "height": 52
    },
    "colab_type": "code",
    "executionInfo": {
     "elapsed": 566,
     "status": "ok",
     "timestamp": 1572220718902,
     "user": {
      "displayName": "Michael Murillo",
      "photoUrl": "https://lh3.googleusercontent.com/a-/AAuE7mActOP60g51sl3VG9HD_x2_XB5iw2YXkUk9qKtI=s64",
      "userId": "04445914509865448303"
     },
     "user_tz": 240
    },
    "id": "Tz2UV88vpPhu",
    "outputId": "fa7dc568-57e7-42da-eaff-ae9dcb3c6312"
   },
   "outputs": [],
   "source": [
    "TP = con_mat[1,1]\n",
    "FP = con_mat[0,1]\n",
    "FN = con_mat[1,0]\n",
    "\n",
    "print(f'The precision is: {TP/(TP + FP):.2f}')\n",
    "print(f'The recall is: {TP/(TP + FN):.2f}')\n",
    "\n",
    "y_scores = cross_val_predict(SGD_clf, X_train, y_train_1, cv=3,method='decision_function', n_jobs= - 1)\n",
    "precisions, recalls, thresholds = precision_recall_curve(y_train_1, y_scores)\n",
    "\n",
    "threshold = 0\n",
    "plt.figure()\n",
    "plt.title('Precision and recall versus decision threshold')\n",
    "plt.plot(thresholds, precisions[:-1], \"b--\", label=\"precision\")\n",
    "plt.plot(thresholds, recalls[:-1], \"g-\", label=\"recall\")\n",
    "plt.vlines(threshold, 0, 1.0, \"k\", \"dotted\", label=\"threshold\")\n",
    "\n",
    "idx = (thresholds >= threshold).argmax()  # first index ≥ threshold\n",
    "plt.plot(thresholds[idx], precisions[idx], \"bo\")\n",
    "plt.plot(thresholds[idx], recalls[idx], \"go\")\n",
    "plt.grid(alpha = 0.3)\n",
    "plt.xlabel(\"Threshold\")\n",
    "plt.axis([-50000, 50000, 0, 1])\n",
    "\n",
    "_ = plt.legend()\n"
   ]
  },
  {
   "cell_type": "markdown",
   "metadata": {},
   "source": [
    "&#9989; **Task 3.3: (2 points)** Do the same for the fashion dataset"
   ]
  },
  {
   "cell_type": "code",
   "execution_count": null,
   "metadata": {},
   "outputs": [],
   "source": [
    "# Put your code here"
   ]
  },
  {
   "cell_type": "markdown",
   "metadata": {
    "colab": {
     "base_uri": "https://localhost:8080/",
     "height": 549
    },
    "colab_type": "code",
    "executionInfo": {
     "elapsed": 13079,
     "status": "ok",
     "timestamp": 1572222003711,
     "user": {
      "displayName": "Michael Murillo",
      "photoUrl": "https://lh3.googleusercontent.com/a-/AAuE7mActOP60g51sl3VG9HD_x2_XB5iw2YXkUk9qKtI=s64",
      "userId": "04445914509865448303"
     },
     "user_tz": 240
    },
    "id": "FLWVd5V3ppih",
    "outputId": "d437cfba-029d-41a0-fd3b-e6e9748f7c55"
   },
   "source": [
    "&#9989; **Questions 3.4: (2 points)** \n",
    "\n",
    "1. What does the option `method = 'decision_function'` in `cross_val_predict` do?"
   ]
  },
  {
   "cell_type": "markdown",
   "metadata": {},
   "source": [
    "<font size=6 color=\"#009600\">&#9998;</font> *Put your answers here!* \n"
   ]
  },
  {
   "cell_type": "markdown",
   "metadata": {
    "colab_type": "text",
    "id": "NOFFO6bIwgAO"
   },
   "source": [
    "Isn't it great that all of this is already in `sklearn`?!\n",
    "\n",
    "![stop_me](https://image.spreadshirtmedia.com/image-server/v1/mp/designs/1019968346,width=178,height=178,version=1550492147/stop-talking-sign.png)\n",
    "\n",
    "Ok, I'll shut up now. I wanted to give you enough code and ideas that you could get started easily. I want you to focus on the ML methods specifically for classification and your presentation, not setting up all of the code above. Again, be sure to use all of your team members effectively. You might assign each person a classifier, or perhaps one person does confusion matrices, one person makes ROC/precision/recall curves and one person runs 1-3 classifiers. Or, one student owns digits, one student owns fashion and the other assembles all results in to a coherent presentation and gives the presentation. Your choice! \n",
    "\n",
    "What we want to do is compare your overall agorithms and accuracy metrics with choices from the other groups, so have a summary slide with:\n",
    "* all ML algorithms used,\n",
    "* accuracy metric used,\n",
    "* result you were able to obtain. \n",
    "\n",
    "[Here is an example.](https://martin-thoma.com/comparing-classifiers/) Look at the results at the bottom: we will make such a table as we go through the presentations. "
   ]
  },
  {
   "cell_type": "markdown",
   "metadata": {},
   "source": [
    "---\n",
    "## Assignment wrap-up\n",
    "\n",
    "Please fill out the form that appears when you run the code below.  **You must completely fill this out in order to receive credit for the assignment!**\n"
   ]
  },
  {
   "cell_type": "code",
   "execution_count": null,
   "metadata": {},
   "outputs": [],
   "source": [
    "from IPython.display import HTML\n",
    "HTML(\n",
    "\"\"\"\n",
    "<iframe \n",
    "\tsrc=\"https://forms.office.com/r/QyrbnptkyA\" \n",
    "\twidth=\"800px\" \n",
    "\theight=\"600px\" \n",
    "\tframeborder=\"0\" \n",
    "\tmarginheight=\"0\" \n",
    "\tmarginwidth=\"0\">\n",
    "\tLoading...\n",
    "</iframe>\n",
    "\"\"\"\n",
    ")"
   ]
  },
  {
   "cell_type": "markdown",
   "metadata": {},
   "source": [
    "&#169; Copyright 2023, Department of Computational Mathematics, Science and Engineering at Michigan State University."
   ]
  }
 ],
 "metadata": {
  "colab": {
   "collapsed_sections": [],
   "name": "Classification_Content.ipynb",
   "provenance": []
  },
  "kernelspec": {
   "display_name": "Python 3",
   "language": "python",
   "name": "python3"
  },
  "language_info": {
   "codemirror_mode": {
    "name": "ipython",
    "version": 3
   },
   "file_extension": ".py",
   "mimetype": "text/x-python",
   "name": "python",
   "nbconvert_exporter": "python",
   "pygments_lexer": "ipython3",
   "version": "3.10.11"
  },
  "widgets": {
   "application/vnd.jupyter.widget-state+json": {
    "state": {},
    "version_major": 2,
    "version_minor": 0
   }
  }
 },
 "nbformat": 4,
 "nbformat_minor": 4
}
