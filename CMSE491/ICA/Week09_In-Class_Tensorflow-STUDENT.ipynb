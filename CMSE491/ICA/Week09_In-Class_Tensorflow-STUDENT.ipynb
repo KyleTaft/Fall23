{
 "cells": [
  {
   "cell_type": "markdown",
   "metadata": {
    "id": "-mXiefZazdkG"
   },
   "source": [
    "# Week 09: In-Class Assignment: <br> Tensorflow and TensorBoard\n",
    "\n",
    "### <p style=\"text-align: right;\"> &#9989; Kyle Taft\n",
    "\n",
    "This week we are done with `sklearn`!! Here we come TensorFlow! \n",
    "\n",
    "Actually, _this isn't really true_. Always keep in mind that `sklearn` has an incredible number of tools that are part of the EDA and postprocessing steps. No matter which library you use for your estimator, the amazing tools in `sklearn` are there for your pre- and post-processing steps. You don't need to work only within one software ecosystem. "
   ]
  },
  {
   "cell_type": "markdown",
   "metadata": {
    "id": "drudk43S0L8N"
   },
   "source": [
    "____\n",
    "### First Steps\n",
    "\n",
    "The first thing you need to do is get familiar with tensforflow (TF) and install it on your computer. \n",
    "\n",
    "1. got to [this webpage](https://www.tensorflow.org/); while you are there, poke around so that you know where to find things,\n",
    "  * tutorials on ML [are here](https://www.tensorflow.org/resources/learn-ml)\n",
    "  * beginner tutorials on TF [are here](https://www.tensorflow.org/tutorials)\n",
    "2. next, [here](https://www.tensorflow.org/install) is where you can intall TF\n",
    "\n",
    "One difference you will notice, in comparison to `sklearn` is that TF really has a focus on deep learning. You aren't going to find the blizzard of different ML methods in TF. In a sense, it does one thing and it does that one thing very well. \n",
    "\n",
    "The first question you are likely to have is: what is a tensor?! You might even panic because that was an obscure concept in math that you never really learned. Don't panic! You alaredy know what a tensor is: it is just a multidimensional Numpy array. As we saw with `sklearn`, the data is packaged in a Numpy array where it can be rapidly processing through the ML libraries. What is powerful about this is that the software can be made to be very fast with this data structure; moreover, even the [hardware](https://en.wikipedia.org/wiki/TensorFlow#Tensor_processing_unit_(TPU)) can be adapted to rapid tensor processing.\n",
    "\n",
    "TF works very well with Google Colab. You may or may not have access to Colab through MSU. If you want to use Colab with TF you have two choices:\n",
    "1. get into Colab through a non-MSU account,\n",
    "2. request acess to Colab through MSU; this can take a couple of weeks."
   ]
  },
  {
   "cell_type": "markdown",
   "metadata": {
    "id": "3w55jVbP4N2i"
   },
   "source": [
    "![teach](https://heartliving.com/wp-content/uploads/2012/09/teach-fish.jpg)\n",
    "\n",
    "\n",
    "---\n",
    "## ICA: Your Pick!\n",
    "\n",
    "Ok, so what are your options for today's ICA? \n",
    "\n",
    "* on [this page](https://www.tensorflow.org/tutorials) on the left panel click on \"ML Basics with Keras\" under \"Beginner\".\n",
    "* in the left column there is a list: click on each of them and discuss them with your group; be sure to click on \"_More example on keras.io_\" because there are lots of examples under that link,\n",
    "* for example, if your group is doing projects with images, you might look for a convnet; conversely, if you want something safe and familiar, choose \"Basic image classification\",\n",
    "* perhaps most interesting would be to simply choose a topic you want to learn about, such as sentiment analysis, \n",
    "* once you choose something, note that you can run it immediately in Colab (if you have access to that) or you can download the notebook: having this starting point makes it easy that you can finish during class,\n",
    "* see if you can get tensorboard working: read your text at p. 340 (3rd edition, p.317 for 2nd edition) and look [here](https://www.tensorflow.org/tensorboard) -- use your group wisely: you have enough people that one person could lead the tensorboard component. \n",
    "\n",
    "Today's ICA is very open ended. I threw out my original plan and came up with something that allows your group to explore something you are interested in. Here is what you need to do today:\n",
    "* you will choose your TF project: discuss the options within your group, and settle on what is most interesting to you (in fact, if your group is large enough and there are two topics of interest, split your group into two)\n",
    "* there are two things I want you to learn today:\n",
    "  1. how to find TF content and teach yourself how to use it,\n",
    "  2. learn the basic TF commands.\n",
    "\n",
    "What you will turn is a notebook you will create with your group that contains a working TF code. At the top, where it is easy to find:\n",
    "* who is in your group (this is more important than usual if you break into two subgroups), \n",
    "* list all of the TF commands you used with an explanation of what they do,\n",
    "* which project did you chose and why? what did you found interesting about it?,\n",
    "* give a summary of the logic of how TF works,\n",
    "* what your ML did (was this an autoencoder, standard ANN? what was the ML goal, etc.)\n",
    "* discuss how your group members might use TF for their projects; does TF offer advantages to, or over, `sklearn` for your projects? \n",
    "\n",
    "The \"logic\" of a software package is sometimes referred to as the \"[API](https://en.wikipedia.org/wiki/API)\", which is the logic of how things are connected and work together. Just like with `sklearn`, once you know TF's API, it will be very easy to use. \n",
    "\n"
   ]
  },
  {
   "cell_type": "markdown",
   "metadata": {
    "id": "vFX9QO4Q9810"
   },
   "source": [
    "&#169; Copyright 2023, Department of Computational Mathematics, Science and Engineering at Michigan State University."
   ]
  }
 ],
 "metadata": {
  "colab": {
   "authorship_tag": "ABX9TyMjwAs9j65uY9R4ssOsEHrj",
   "collapsed_sections": [],
   "name": "TF_ICA.ipynb",
   "provenance": []
  },
  "kernelspec": {
   "display_name": "Python 3 (ipykernel)",
   "language": "python",
   "name": "python3"
  },
  "language_info": {
   "codemirror_mode": {
    "name": "ipython",
    "version": 3
   },
   "file_extension": ".py",
   "mimetype": "text/x-python",
   "name": "python",
   "nbconvert_exporter": "python",
   "pygments_lexer": "ipython3",
   "version": "3.11.3"
  },
  "widgets": {
   "application/vnd.jupyter.widget-state+json": {
    "state": {},
    "version_major": 2,
    "version_minor": 0
   }
  }
 },
 "nbformat": 4,
 "nbformat_minor": 4
}
