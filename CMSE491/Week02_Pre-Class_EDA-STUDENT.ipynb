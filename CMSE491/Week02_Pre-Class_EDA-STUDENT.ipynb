{
 "cells": [
  {
   "cell_type": "markdown",
   "metadata": {},
   "source": [
    "# Week 02 Pre-Class Assignment: Exploratory Data Analysis\n",
    "\n",
    "### <p style=\"text-align: right;\"> &#9989; Kyle Taft\n",
    "\n",
    "\n",
    "![CA](https://miro.medium.com/max/671/1*f82SOgbdQOmY5DHmF0kdgw.png)\n",
    "\n"
   ]
  },
  {
   "cell_type": "markdown",
   "metadata": {},
   "source": [
    "## Goals for today's pre-class assignment\n",
    "In this Pre-Class Assignment you are going to complete the data science portion of the book's End-to-End project (chapter 2). The main learning goals are:\n",
    "* understand how to build and manage a real ML project, much like your project will be,\n",
    "* practice using some of the data science tools (e.g., Pandas),\n",
    "* learn some new tools that will help you in your project.\n"
   ]
  },
  {
   "cell_type": "markdown",
   "metadata": {},
   "source": [
    "**This assignment is due by 11:59 p.m. the day before class,** and should be uploaded into the appropriate \"Pre-Class Assignments\" submission folder on D2L.  Submission instructions can be found at the end of the notebook."
   ]
  },
  {
   "cell_type": "markdown",
   "metadata": {
    "editable": true,
    "id": "WYJy2FQ6gqKv",
    "slideshow": {
     "slide_type": ""
    },
    "tags": []
   },
   "source": [
    "___\n",
    "<h2><center> <font color='green'>Machine Learning Housing Corp.</font></h2></center>\n",
    "\n",
    "The author of your book thoughtfully provided the entire code base that he used to build Chapter 2. You should be able to find all of the code for your [textbook at GitHub](https://github.com/ageron/handson-ml3). Be sure you work with this document _and_ the code from the textbook so that you don't end up writing a ton of code yourself, which is not the point. (If you _want_ to write your own code, that is totally fine too! We are just using the code from the textbook to save time.)\n",
    "\n",
    "**Note:** It will be very useful to have your textbook handy."
   ]
  },
  {
   "cell_type": "markdown",
   "metadata": {
    "editable": true,
    "id": "0CKgy65Zfxn-",
    "slideshow": {
     "slide_type": ""
    },
    "tags": []
   },
   "source": [
    "Follow these steps:\n",
    "\n",
    "1. Download the [Chapter 2 notebook](https://github.com/ageron/handson-ml3/blob/main/02_end_to_end_machine_learning_project.ipynb) from GitHub\n",
    "2. Run the notebook up to Part 3 (Prepare the Data for Machine Learning Algorithms) inclusive and **make sure you understand what every code cell is doing**. \n",
    "3. Answer the questions below.\n",
    "4. Turn in _this_ notebook with your answers in the usual way (no need to resubmit the notebook from the textbook).\n",
    "\n",
    "What you will do is read through the textbook's notebook and answer questions about it. Some of the answers are in the textbook itself, some in the notebook."
   ]
  },
  {
   "cell_type": "markdown",
   "metadata": {},
   "source": [
    "## Part 1. Pandas and Data\n",
    "\n",
    "Once you are certain the textbook's [notebook](https://github.com/ageron/handson-ml3/blob/main/02_end_to_end_machine_learning_project.ipynb) is working (run all of the cells - it needs to go out to the web to get information), go through the first portion and answer these questions:\n",
    "\n",
    "1. Describe in your own words what the goals of this project are.  \n",
    "2. Read through the code. See if there are interesting ideas/tricks there that you didn't not know about. What did you find? \n",
    "3. What form is the data in, and are there any problems with it? For example, are all of the potential features all integers or floats and what `pandas` function can help you answer this question?\n",
    "4. What does `.value_counts()` do? \n",
    "5. What does `.describe()` do? \n",
    "6. What do `.iloc` and `.loc` do?"
   ]
  },
  {
   "cell_type": "markdown",
   "metadata": {},
   "source": [
    "<font size=6 color=\"#009600\">&#9998;</font> *Put your answers here!* \n",
    "\n",
    "1. By being giving the population, median income, median housing price, and other information about a district, the goal is to predict the median housing price in the district.\n",
    "2. The most interesting piece of code is the download of the data from the website. It shows off a lot of cool tricks of dealing with paths and downloading data. Also, I forgot that you can use .value_counts() to get the number of times a value appears in a column.\n",
    "3. The data comes from a .csv file. Looking at housing.info() it seems that it was all read in correctly as floats except for ocean_proximity. If we want to use ocean_proximity as a feature, we will have to convert it to a number.\n",
    "4. .value_counts() returns the number of times unique values appear in a column.\n",
    "5. .describe() returns a summary of the numerical data. It gives the count, mean, standard deviation, min, max, and quartiles.\n",
    "6. .iloc indexes with integer locations. .loc indexes using the labels of the rows and columns."
   ]
  },
  {
   "cell_type": "markdown",
   "metadata": {
    "editable": true,
    "id": "L9Cf_pnY6DKa",
    "slideshow": {
     "slide_type": ""
    },
    "tags": []
   },
   "source": [
    "## Part 2. Histogram\n",
    "\n",
    "Let's move below the first 3x3 array of histograms. Answer these questions in detail.\n",
    "\n",
    "1. In the first set of 3x3 histograms, do you see anything there that seems odd/interesting/useful/bothersome to you? How would you deal with that problem? \n",
    "2. What does the author choose to do in terms of splitting the data into testing and training? Does the author use cross validation?\n",
    "3. What is `StratifiedShuffleSplit` and why would you use it? What problem does it solve for you?\n",
    "4. How is `ocean_proximity` handled?"
   ]
  },
  {
   "cell_type": "markdown",
   "metadata": {},
   "source": [
    "<font size=6 color=\"#009600\">&#9998;</font> *Put your answers here!* \n",
    "\n",
    "1. Median income is on a scale of 0-15 which doesn't make sense being in dollars. I would look at the source of the data and see what this means. Also, median house age and house value are capped at certain values. I would probably try to find out why they are capped and if I can get the uncapped data. If not, I would probably remove the capped data from the dataset if it is not necessary for the model.\n",
    "2. The author makes a column of income categories and splits the data into training and testing sets with consideration of the proportions of each income category. This is into a 20% testing set and 80% training set. The author uses StratifiedShuffleSplit which is a cross validation method.\n",
    "3. This creates our cross validation sets while keeping the proportions of each income category the same in the training and testing sets. This solves the problem of having a skewed dataset.\n",
    "4. As of this point, ocean_proximity is not handled. Later on, it is converted to a number using sklearn's OrdinalEncoder."
   ]
  },
  {
   "cell_type": "markdown",
   "metadata": {
    "id": "fZpg0EV86tbW"
   },
   "source": [
    "## Part 3. Visualization\n",
    "\n",
    "Ok, let's move into the visualization part. The author may use plotting tools you would not normally use, so let's see what he did. (For example, how was the 3x3 histrogram made? Seaborn? Or?)\n",
    "\n",
    "1. What tool is the author using to make these plots? Straight matplotlib, or something else? \n",
    "2. Go through the code below very carefully. What are all of these options? \n",
    "\n",
    "    `housing.plot(kind=\"scatter\", x=\"longitude\", y=\"latitude\", alpha=0.4,\n",
    "    s=housing[\"population\"]/100, label=\"population\", figsize=(10,7),\n",
    "    c=\"median_house_value\", cmap=plt.get_cmap(\"jet\"), colorbar=True,\n",
    "    sharex=False)`\n",
    "\n",
    "\n",
    "3. The author ends up with a very nice plot that uses a real map. How did he do that? What tools did he need to do that?\n"
   ]
  },
  {
   "cell_type": "markdown",
   "metadata": {},
   "source": [
    "<font size=6 color=\"#009600\">&#9998;</font> *Put your answers here!* \n",
    "\n",
    "1. The author is directly using pandas methods to make these plots.\n",
    "2. kind is the type of plot. x and y are the x and y data (latitude and longitude) to be plotted. alpha is the transparency of the points (~population density). s is the size of the circles (population). label is the label of the points (population). figsize is the size of the plot. c is the color of the points (median house value). cmap is the color map. colorbar displays the color bar. sharex is whether or not to share the x axis and specifically fixes a display bug.\n",
    "3. He downloads a map of California and uses plt.imshow() to display it on the plot."
   ]
  },
  {
   "cell_type": "markdown",
   "metadata": {
    "id": "MGkfJEtO8j7y"
   },
   "source": [
    "## Part 4. Correlations\n",
    "\n",
    "Next, the author spends a lot of time looking for correlations. Go through this section very carefully!\n",
    "\n",
    "1. What is the author trying to achieve by looking at correlations? Give a very detailed answer.\n",
    "2. What does `corr_matrix[\"median_house_value\"].sort_values(ascending=False)` do?\n",
    "3. What is `scatter_matrix`?\n",
    "4. What do the scatter plots tell you?\n",
    "5. Move into the ML portion of the notebook. Go to `sklearn`'s webpages and learn what this does and why you would use it:\n",
    "   \n",
    "       from sklearn.impute import SimpleImputer\n",
    "       imputer = SimpleImputer(strategy=\"median\")`\n",
    "\n",
    "\n",
    "\n"
   ]
  },
  {
   "cell_type": "markdown",
   "metadata": {
    "id": "zlsDY6in-KyU"
   },
   "source": [
    "<font size=6 color=\"#009600\">&#9998;</font> *Put your answers here!* \n",
    "\n",
    "1. Find obvious linear relationships between the features and the median house value. This is to help find features that are useful for our model. This is not to find any non-linear relationships.\n",
    "2. This returns the Pearson's r between each feature and the median house value in descending order.\n",
    "3. scatter_matrix plots each column against each other column. It is useful for finding relationships between features.\n",
    "4. We can see that there is a linear relationships between median house value and median income. But also there are artefacts of horizontal lines in the plots.\n",
    "5. This allows us to fill in missing values with, in this case, the median of the feature. This is useful because we want to preserve the data when we can instead of just removing it. This is a simple method of doing this compared to methods such as KNN imputation."
   ]
  },
  {
   "cell_type": "markdown",
   "metadata": {
    "id": "2gOzzv0A-2N9"
   },
   "source": [
    "Hopefully you learned a lot of new techniques for handling real data. Think about how these will help you in your project. \n",
    "\n",
    "Be sure to read Chapter 2 very carefully before the ICA. "
   ]
  },
  {
   "cell_type": "markdown",
   "metadata": {},
   "source": [
    "---\n",
    "## Assignment wrap-up\n",
    "\n",
    "Please fill out the form that appears when you run the code below.  **You must completely fill this out in order to receive credit for the assignment!**"
   ]
  },
  {
   "cell_type": "code",
   "execution_count": 1,
   "metadata": {},
   "outputs": [
    {
     "data": {
      "text/html": [
       "\n",
       "<iframe \n",
       "\tsrc=\"https://forms.office.com/r/QyrbnptkyA\" \n",
       "\twidth=\"800px\" \n",
       "\theight=\"600px\" \n",
       "\tframeborder=\"0\" \n",
       "\tmarginheight=\"0\" \n",
       "\tmarginwidth=\"0\">\n",
       "\tLoading...\n",
       "</iframe>\n"
      ],
      "text/plain": [
       "<IPython.core.display.HTML object>"
      ]
     },
     "execution_count": 1,
     "metadata": {},
     "output_type": "execute_result"
    }
   ],
   "source": [
    "from IPython.display import HTML\n",
    "HTML(\n",
    "\"\"\"\n",
    "<iframe \n",
    "\tsrc=\"https://forms.office.com/r/QyrbnptkyA\" \n",
    "\twidth=\"800px\" \n",
    "\theight=\"600px\" \n",
    "\tframeborder=\"0\" \n",
    "\tmarginheight=\"0\" \n",
    "\tmarginwidth=\"0\">\n",
    "\tLoading...\n",
    "</iframe>\n",
    "\"\"\"\n",
    ")"
   ]
  },
  {
   "cell_type": "markdown",
   "metadata": {
    "id": "T3R46odEH-JY"
   },
   "source": [
    "&#169; Copyright 2023, Department of Computational Mathematics, Science and Engineering at Michigan State University."
   ]
  }
 ],
 "metadata": {
  "colab": {
   "provenance": []
  },
  "kernelspec": {
   "display_name": "Python 3 (ipykernel)",
   "language": "python",
   "name": "python3"
  },
  "language_info": {
   "codemirror_mode": {
    "name": "ipython",
    "version": 3
   },
   "file_extension": ".py",
   "mimetype": "text/x-python",
   "name": "python",
   "nbconvert_exporter": "python",
   "pygments_lexer": "ipython3",
   "version": "3.10.11"
  }
 },
 "nbformat": 4,
 "nbformat_minor": 4
}
