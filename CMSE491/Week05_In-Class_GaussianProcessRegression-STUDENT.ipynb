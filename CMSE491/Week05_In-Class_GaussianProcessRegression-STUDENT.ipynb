{
 "cells": [
  {
   "cell_type": "markdown",
   "metadata": {
    "id": "HkayyA-N23Q8"
   },
   "source": [
    "# Week 05: In-Class Assignment: <br> Gaussian Process Regression\n",
    "\n",
    "### <p style=\"text-align: right;\"> &#9989; Kyle Taft.\n",
    "\n",
    "![hidden_humor](https://imgs.xkcd.com/comics/extrapolating.png)\n",
    "\n",
    "___\n",
    "\n",
    "We have seen a few examples of performing regression, a type of supervised learning: linear regression (LR) and radial basis functions (RBFs). While these methods are often very good at allowing us to make predictions based on data, they can be lacking in this respect:\n",
    "* We have no good way to know how accurate our result is. Nor do we have a good way to include our knowledge of the accuracy in the data before it is used for training. \n",
    "\n",
    "Suppose that you are working on a scientific research project where you will generate data at tremendous cost. This could be either, or both, generating data from very expensive experiments or very time-consuming numerical calculations. You know that you simply will not be able to have very many data points and you are, understandably, quite worried that you have no way to know how accurate the predictions away from the (very few) data points might be. Moreover, you also realize that if you had a way to estimate the errors in your predictions -- _as you were taking data_ --  _you could guide which new data points would be most valuable_, saving months or years. \n",
    "\n",
    "In this project you will consider two cases separately, but they are related:\n",
    "* Estimating prediction errors for very high-quality data. This is the case we saw for RBFs where we believe that the data is very accurate so we want to do \"exact interpolation\".\n",
    "* Estimating prediction errors when the training data itself contains errors.\n",
    "\n",
    "The ML approach you will use here is called Gaussian Process Regression (GPR). As it turns out, the theory behind this is a bit complicated, so we are only going to use it as a black box to get useful results out of `sklearn`. Later in the course we will work through a detailed derivation so that you know what is in the \"black box\" you are using today. "
   ]
  },
  {
   "cell_type": "markdown",
   "metadata": {
    "id": "6fIo4zs1bu8A"
   },
   "source": [
    "---\n",
    "## Part 1: Data With No Errors\n",
    "\n",
    "Let's get started with the usual, which is to import the libraries we need. Note that we control the random number seed so that we can control the sequence as work through the notebook without new surprises every time we run it. If you want new results, change the seed."
   ]
  },
  {
   "cell_type": "code",
   "execution_count": 23,
   "metadata": {
    "id": "porjBBtUV2a0"
   },
   "outputs": [],
   "source": [
    "import numpy as np\n",
    "from matplotlib import pyplot as plt\n",
    "\n",
    "from sklearn.gaussian_process import GaussianProcessRegressor\n",
    "from sklearn.gaussian_process.kernels import RBF, RationalQuadratic, ConstantKernel as C\n",
    "\n",
    "rng = np.random.default_rng(42)"
   ]
  },
  {
   "cell_type": "markdown",
   "metadata": {},
   "source": [
    "&#9989; **Question 1.1:** Discuss the two `sklearn` imports so that you get a sense for what things you can vary. Someday you might need these libraries in your project and/or research! For example, what is a \"kernel\"? How many kernels does `sklearn` have built in? "
   ]
  },
  {
   "cell_type": "markdown",
   "metadata": {
    "id": "ib_xP96ZfQr1"
   },
   "source": [
    "<font size=6 color=\"#009600\">&#9998;</font> *Put your answers here!* \n",
    " \n",
    "Our group discussed these libraries and they do:\n",
    "\n",
    "1. GaussianProcessRegressor is a model that creates probabilistic prediction of the interval off of the provided data\n",
    "2. A kernal defines the covariance of the GPR. This defines what we mean the similarity between two points is. The options I could find were: ConstantKernel, Sum, Product, Exponentiation, WhiteKernel, RBF, Matern, RationalQuadratic, ExpSineSquared, and  DotProduct\n"
   ]
  },
  {
   "cell_type": "markdown",
   "metadata": {
    "id": "4GSaEBDic_Ug"
   },
   "source": [
    "&#9989; **Task 1.2:** Great! Next we are going to make some fake data. Feel free to invent your own functions here - you might have something in mind from your research, so invent a function that looks like your data. Have each person in your group think of a different function with a very different shape; this will help you see what works and what does not work as well. "
   ]
  },
  {
   "cell_type": "code",
   "execution_count": 24,
   "metadata": {
    "colab": {
     "background_save": true
    },
    "id": "Sx3UnFD_dyL7"
   },
   "outputs": [],
   "source": [
    "def func_1(x):\n",
    "    \"\"\"The function to predict. This function is used to make \n",
    "    fake data so that we have control over the variations in the data.\"\"\"\n",
    "    return x * np.sin(np.sqrt(x))\n",
    "  \n",
    "def func_2(x):\n",
    "    \"\"\"The function to predict. This function is used to make \n",
    "    fake data so that we have control over the variations in the data.\"\"\"\n",
    "    return x * np.sin(x)\n",
    "  \n",
    "def func_3(x):\n",
    "    \"\"\"The function to predict. This function is used to make \n",
    "    fake data so that we have control over the variations in the data.\n",
    "    This is what was used for the lecture slidess.\"\"\"\n",
    "    return np.sqrt(x) * np.sin(x)\n",
    "\n",
    "def func_4(x):\n",
    "    return 2**-x + np.sin(x)\n"
   ]
  },
  {
   "cell_type": "markdown",
   "metadata": {
    "id": "sfSUCIHVeRaA"
   },
   "source": [
    "Recall that `sklearn` likes to have the data specific forms when you call it.\n",
    "\n",
    "&#9989; **Task 1.3:**  Among your group members, discuss these functions:\n",
    "* `np.atleast_2d`\n",
    "* `.ravel`\n",
    "* `.T`\n",
    "* `np.newaxis`\n",
    "  \n",
    "In a markdown cell, give a summary of what each of these functions do and at least one other option you might have used if you did not know these libraries. "
   ]
  },
  {
   "cell_type": "markdown",
   "metadata": {
    "id": "dQLzulLpgKuk"
   },
   "source": [
    "<font size=6 color=\"#009600\">&#9998;</font> *Put your answers here!* \n",
    "\n",
    "1. This function takes in an array and returns an array with at least 2d.\n",
    "2. Ravel flattens the array to 1d\n",
    "3. T is the transpose of the array\n",
    "4. Adds a dimension to an array\n",
    "\n",
    "Flatten also flattens the array to 1d\n",
    " "
   ]
  },
  {
   "cell_type": "markdown",
   "metadata": {
    "id": "UFSzSQyYgPdd"
   },
   "source": [
    "&#9989; **Task 1.4:**  We will only use 1D data in this project to make it easier to visualize, but obviously the libraries are mostly used in higher dimensions. Examine, perhaps through print statements, what the shape of the data is so that you can see how the data needs to be prepared before heading into `sklearn`. For example, are these \"row\" or \"column\" vectors? Are they dictionaries? Lists? Lists of lists? If we were doing a 2D problem, how would containers of these shapes handle that case? "
   ]
  },
  {
   "cell_type": "code",
   "execution_count": 52,
   "metadata": {
    "id": "DWzqre2AVCOC"
   },
   "outputs": [
    {
     "name": "stdout",
     "output_type": "stream",
     "text": [
      "(5, 1)\n",
      "(5,)\n"
     ]
    }
   ],
   "source": [
    "# Generate data points for the function\n",
    "data_points = np.array([1,3, 5,8, 10]) # Choose your points\n",
    "\n",
    "X_train = data_points[:, np.newaxis] # What does this do? What is the shape of the array?\n",
    "\n",
    "print(X_train.shape)\n",
    "\n",
    "y_train = func_3(X_train).ravel() # What is the shape of this array?\n",
    "\n",
    "print(y_train.shape)\n",
    "\n",
    "# Make a finer grid\n",
    "X_test = np.linspace(1, 10, 100)\n",
    "y_test = func_3(X_test)"
   ]
  },
  {
   "cell_type": "markdown",
   "metadata": {},
   "source": [
    "<font size=6 color=\"#009600\">&#9998;</font> *Put your conclusions here!* \n",
    "\n",
    "data_points[:, np.newaxis] is making X_train a column vector of size 3x1. func_3(X_train).ravel() is making y_train an array of size 3. \n",
    "\n",
    "If the data was 2D instead of having to add a newaxis we would just have to transpose the data if it was not already in the correct shape. We would still have to flatten the y_train data."
   ]
  },
  {
   "cell_type": "markdown",
   "metadata": {
    "id": "G6a90vMehK1R"
   },
   "source": [
    "Progress! Time to use the `sklearn` libraries. In GPR, we should specify the kernel we wish to use, and we will start with the Gaussian kernel, which is known as the RBF kernel in `sklearn`. \n",
    "\n",
    "Then, as with all `sklearn` methods we need to instantiate the ML object. Once we have that object and the data stored in exactly the right way, we perform the fit and the prediction in just two lines. Wow! \n",
    "\n",
    "\n",
    "&#9989; **Task 1.5:** In your group discuss the options being used in the code below. In general, ML algorithms have what are called _hyperparameters_, which are parameters not of your model/hypothesis but of the algorithnm itself. For example, in the pre-class assignment on Radial Basis Functions (RBF) you chose (perhaps unknowingly!) the width of the Gaussian; while it all worked out, you _could_ have varied those widths to perhaps achieve a better fit. This is known as **hyperparameter tuning** and it is a very important part of getting the most out of ML algorithms. \n",
    "\n",
    "The parameters used below correspond to....."
   ]
  },
  {
   "cell_type": "code",
   "execution_count": 64,
   "metadata": {
    "id": "WTeohSzPkgc_"
   },
   "outputs": [
    {
     "name": "stderr",
     "output_type": "stream",
     "text": [
      "C:\\Users\\2003k\\AppData\\Local\\Packages\\PythonSoftwareFoundation.Python.3.10_qbz5n2kfra8p0\\LocalCache\\local-packages\\Python310\\site-packages\\sklearn\\gaussian_process\\kernels.py:429: ConvergenceWarning: The optimal value found for dimension 0 of parameter k1__constant_value is close to the specified upper bound 1000.0. Increasing the bound and calling fit again may find a better value.\n",
      "  warnings.warn(\n",
      "C:\\Users\\2003k\\AppData\\Local\\Packages\\PythonSoftwareFoundation.Python.3.10_qbz5n2kfra8p0\\LocalCache\\local-packages\\Python310\\site-packages\\sklearn\\gaussian_process\\kernels.py:419: ConvergenceWarning: The optimal value found for dimension 0 of parameter k2__length_scale is close to the specified lower bound 10.0. Decreasing the bound and calling fit again may find a better value.\n",
      "  warnings.warn(\n"
     ]
    },
    {
     "data": {
      "image/png": "[encoded data removed]",
      "text/plain": [
       "<Figure size 1000x600 with 1 Axes>"
      ]
     },
     "metadata": {},
     "output_type": "display_data"
    }
   ],
   "source": [
    "# Choose your kernel!\n",
    "\n",
    "# Gaussian kernel\n",
    "kernel = C(1.0, (1e-3, 1e3)) * RBF(10.0, (1e+1, 1e2))\n",
    "# Quadratic kernel\n",
    "#kernel = C(1.0, (1e-3, 1e3)) * RationalQuadratic(length_scale=1.0, alpha=0.1)\n",
    "\n",
    "gpr = GaussianProcessRegressor(kernel=kernel, n_restarts_optimizer=1)\n",
    "\n",
    "# Fit to data\n",
    "gpr.fit(X_train, y_train)\n",
    "\n",
    "# Make the prediction on the finer grid as well, including\n",
    "# getting information on the confidence intervals. \n",
    "y_pred, sigma = gpr.predict(X_test[:,np.newaxis], return_std=True)\n",
    "\n",
    "# Plot the results\n",
    "plt.figure(figsize=(10, 6))\n",
    "plt.scatter(X_train, y_train, c='r', s=100, label='Data Points')\n",
    "# plt.plot(X_test, func_3(X_test), ls = '--', label = 'Real Function')\n",
    "plt.plot(X_test, y_pred, 'k', lw=2, label='Predicted Mean')\n",
    "# What does this do? \n",
    "plt.fill_between(\n",
    "    X_test, y_pred - 1.96 * sigma, \n",
    "    y_pred + 1.96 * sigma, \n",
    "    alpha=0.2, \n",
    "    color='k',\n",
    "    label='95% Confidence Interval')\n",
    "plt.xlabel('x')\n",
    "plt.ylabel('f(x)')\n",
    "plt.title('Gaussian Process Regression')\n",
    "plt.legend()\n",
    "plt.grid(alpha = 0.3)"
   ]
  },
  {
   "cell_type": "code",
   "execution_count": 65,
   "metadata": {},
   "outputs": [
    {
     "data": {
      "text/plain": [
       "{'k1': 31.6**2,\n",
       " 'k2': RBF(length_scale=10),\n",
       " 'k1__constant_value': 999.9999999999998,\n",
       " 'k1__constant_value_bounds': (0.001, 1000.0),\n",
       " 'k2__length_scale': 10.000000000000002,\n",
       " 'k2__length_scale_bounds': (10.0, 100.0)}"
      ]
     },
     "execution_count": 65,
     "metadata": {},
     "output_type": "execute_result"
    }
   ],
   "source": [
    "gpr.kernel_.get_params()"
   ]
  },
  {
   "cell_type": "markdown",
   "metadata": {},
   "source": [
    "&#9989; **Question 1.6:** What are the values of the hyperparameters of your model? "
   ]
  },
  {
   "cell_type": "code",
   "execution_count": 27,
   "metadata": {},
   "outputs": [],
   "source": [
    "# Put code you might need here "
   ]
  },
  {
   "cell_type": "markdown",
   "metadata": {},
   "source": [
    "&#9989; **Question 1.7:** What does the above plot tell you? Where are the areas with the largest uncertainty? How would you go about reducing that uncertainty?"
   ]
  },
  {
   "cell_type": "markdown",
   "metadata": {},
   "source": [
    "<font size=6 color=\"#009600\">&#9998;</font> *Put your conclusions here!* "
   ]
  },
  {
   "cell_type": "markdown",
   "metadata": {
    "id": "fL5LMfbCoZQZ"
   },
   "source": [
    "&#9989; **Task 1.8:** Next, you are going to make a lot of plots and discuss what they tell you. There are four things you should explore:\n",
    "\n",
    "1. the different functions your group members chose\n",
    "2. the number of points in the data (see discussion below)\n",
    "3. the GPR hyperparameters in `sklearn` - how sensitive is the result to hyperparameter tuning?\n",
    "4. different kernels\n",
    "\n",
    "Vary all of these *together* so that you can see how each impacts the other. You might end up with as many as 20 plots. Then, discuss all of your findings in a summary markdown cell after the plots. (Just copy and paste the code and use `subplots` to help organize the results. Divide, conquer, discuss.) \n",
    "\n",
    "In your answer, think through how you would use this is a real life situation where you, for example, needed to generate a few more data points that would be extremely expensive. For example, as you vary the number of points, pick a small number (perhaps four), look at your result to find the region of largest uncertainty and add your next point exactly in the center of that region. Where should the next experiment or computation be? How did that change the prediction and where do you think the next point should be? \n",
    "\n",
    "**HINTS:** Divide and conquer! Save your plots somewhere where you can see them all together, perhaps presentation slides? "
   ]
  },
  {
   "cell_type": "code",
   "execution_count": 28,
   "metadata": {},
   "outputs": [],
   "source": [
    "# Put your code here"
   ]
  },
  {
   "cell_type": "markdown",
   "metadata": {},
   "source": [
    "<font size=6 color=\"#009600\">&#9998;</font> *Discuss your conclusion here*"
   ]
  },
  {
   "cell_type": "markdown",
   "metadata": {
    "id": "k-GeAC_gb3nu"
   },
   "source": [
    "---\n",
    "## Part 2: Data With Error Bars\n",
    "\n",
    "In the above you assumed that the data was perfect: each point was a very accurate measurement. For such a case, you want the prediction to go through those points exactly. This is an extremely common use case because computations and experiments often make very accurate predictions, but only at a preciously few points. \n",
    "\n",
    "However, there is another use case where you have error in the data itself. Not every experiment or computation is perfect, and now we would like to take that into account. We can see how uncertainty in the data contributes the uncertainty in the prediction. So that you can get the most out of this exercise, carefully choose among the cases you looked at in the first part above so that you can do a direct comparison.  \n",
    "\n",
    "&#9989; **Task 2.1:** Work through this code following the instructions in the comments. Discuss the results within your group and write a summary of your findings in the markdown cell below. "
   ]
  },
  {
   "cell_type": "code",
   "execution_count": 29,
   "metadata": {
    "colab": {
     "base_uri": "https://localhost:8080/",
     "height": 734
    },
    "executionInfo": {
     "elapsed": 893,
     "status": "ok",
     "timestamp": 1569250756063,
     "user": {
      "displayName": "Michael Murillo",
      "photoUrl": "https://lh3.googleusercontent.com/a-/AAuE7mActOP60g51sl3VG9HD_x2_XB5iw2YXkUk9qKtI=s64",
      "userId": "04445914509865448303"
     },
     "user_tz": 240
    },
    "id": "rfWBbDFPb7y6",
    "outputId": "daa163a4-9ce3-4195-838d-88ed2e81e5d8"
   },
   "outputs": [
    {
     "ename": "ValueError",
     "evalue": "Expected 2D array, got 1D array instead:\narray=[ 1.          1.09090909  1.18181818  1.27272727  1.36363636  1.45454545\n  1.54545455  1.63636364  1.72727273  1.81818182  1.90909091  2.\n  2.09090909  2.18181818  2.27272727  2.36363636  2.45454545  2.54545455\n  2.63636364  2.72727273  2.81818182  2.90909091  3.          3.09090909\n  3.18181818  3.27272727  3.36363636  3.45454545  3.54545455  3.63636364\n  3.72727273  3.81818182  3.90909091  4.          4.09090909  4.18181818\n  4.27272727  4.36363636  4.45454545  4.54545455  4.63636364  4.72727273\n  4.81818182  4.90909091  5.          5.09090909  5.18181818  5.27272727\n  5.36363636  5.45454545  5.54545455  5.63636364  5.72727273  5.81818182\n  5.90909091  6.          6.09090909  6.18181818  6.27272727  6.36363636\n  6.45454545  6.54545455  6.63636364  6.72727273  6.81818182  6.90909091\n  7.          7.09090909  7.18181818  7.27272727  7.36363636  7.45454545\n  7.54545455  7.63636364  7.72727273  7.81818182  7.90909091  8.\n  8.09090909  8.18181818  8.27272727  8.36363636  8.45454545  8.54545455\n  8.63636364  8.72727273  8.81818182  8.90909091  9.          9.09090909\n  9.18181818  9.27272727  9.36363636  9.45454545  9.54545455  9.63636364\n  9.72727273  9.81818182  9.90909091 10.        ].\nReshape your data either using array.reshape(-1, 1) if your data has a single feature or array.reshape(1, -1) if it contains a single sample.",
     "output_type": "error",
     "traceback": [
      "\u001b[1;31m---------------------------------------------------------------------------\u001b[0m",
      "\u001b[1;31mValueError\u001b[0m                                Traceback (most recent call last)",
      "\u001b[1;32mc:\\Users\\2003k\\Fall23\\CMSE491\\Week05_In-Class_GaussianProcessRegression-STUDENT.ipynb Cell 23\u001b[0m line \u001b[0;36m2\n\u001b[0;32m     <a href='vscode-notebook-cell:/c%3A/Users/2003k/Fall23/CMSE491/Week05_In-Class_GaussianProcessRegression-STUDENT.ipynb#X31sZmlsZQ%3D%3D?line=18'>19</a>\u001b[0m gpr\u001b[39m.\u001b[39mfit(X_train, y_train)\n\u001b[0;32m     <a href='vscode-notebook-cell:/c%3A/Users/2003k/Fall23/CMSE491/Week05_In-Class_GaussianProcessRegression-STUDENT.ipynb#X31sZmlsZQ%3D%3D?line=20'>21</a>\u001b[0m \u001b[39m# Make the prediction on the finer grid as well, including\u001b[39;00m\n\u001b[0;32m     <a href='vscode-notebook-cell:/c%3A/Users/2003k/Fall23/CMSE491/Week05_In-Class_GaussianProcessRegression-STUDENT.ipynb#X31sZmlsZQ%3D%3D?line=21'>22</a>\u001b[0m \u001b[39m# getting information on the confidence intervals. \u001b[39;00m\n\u001b[1;32m---> <a href='vscode-notebook-cell:/c%3A/Users/2003k/Fall23/CMSE491/Week05_In-Class_GaussianProcessRegression-STUDENT.ipynb#X31sZmlsZQ%3D%3D?line=22'>23</a>\u001b[0m y_pred, sigma \u001b[39m=\u001b[39m gpr\u001b[39m.\u001b[39;49mpredict(X_test, return_std\u001b[39m=\u001b[39;49m\u001b[39mTrue\u001b[39;49;00m)\n\u001b[0;32m     <a href='vscode-notebook-cell:/c%3A/Users/2003k/Fall23/CMSE491/Week05_In-Class_GaussianProcessRegression-STUDENT.ipynb#X31sZmlsZQ%3D%3D?line=24'>25</a>\u001b[0m \u001b[39m# Discuss how the error bars are computed and plotted: you may need to do this someday!\u001b[39;00m\n\u001b[0;32m     <a href='vscode-notebook-cell:/c%3A/Users/2003k/Fall23/CMSE491/Week05_In-Class_GaussianProcessRegression-STUDENT.ipynb#X31sZmlsZQ%3D%3D?line=25'>26</a>\u001b[0m plt\u001b[39m.\u001b[39mfigure(figsize\u001b[39m=\u001b[39m(\u001b[39m10\u001b[39m, \u001b[39m6\u001b[39m))\n",
      "File \u001b[1;32m~\\AppData\\Local\\Packages\\PythonSoftwareFoundation.Python.3.10_qbz5n2kfra8p0\\LocalCache\\local-packages\\Python310\\site-packages\\sklearn\\gaussian_process\\_gpr.py:404\u001b[0m, in \u001b[0;36mGaussianProcessRegressor.predict\u001b[1;34m(self, X, return_std, return_cov)\u001b[0m\n\u001b[0;32m    401\u001b[0m \u001b[39melse\u001b[39;00m:\n\u001b[0;32m    402\u001b[0m     dtype, ensure_2d \u001b[39m=\u001b[39m \u001b[39mNone\u001b[39;00m, \u001b[39mFalse\u001b[39;00m\n\u001b[1;32m--> 404\u001b[0m X \u001b[39m=\u001b[39m \u001b[39mself\u001b[39;49m\u001b[39m.\u001b[39;49m_validate_data(X, ensure_2d\u001b[39m=\u001b[39;49mensure_2d, dtype\u001b[39m=\u001b[39;49mdtype, reset\u001b[39m=\u001b[39;49m\u001b[39mFalse\u001b[39;49;00m)\n\u001b[0;32m    406\u001b[0m \u001b[39mif\u001b[39;00m \u001b[39mnot\u001b[39;00m \u001b[39mhasattr\u001b[39m(\u001b[39mself\u001b[39m, \u001b[39m\"\u001b[39m\u001b[39mX_train_\u001b[39m\u001b[39m\"\u001b[39m):  \u001b[39m# Unfitted;predict based on GP prior\u001b[39;00m\n\u001b[0;32m    407\u001b[0m     \u001b[39mif\u001b[39;00m \u001b[39mself\u001b[39m\u001b[39m.\u001b[39mkernel \u001b[39mis\u001b[39;00m \u001b[39mNone\u001b[39;00m:\n",
      "File \u001b[1;32m~\\AppData\\Local\\Packages\\PythonSoftwareFoundation.Python.3.10_qbz5n2kfra8p0\\LocalCache\\local-packages\\Python310\\site-packages\\sklearn\\base.py:604\u001b[0m, in \u001b[0;36mBaseEstimator._validate_data\u001b[1;34m(self, X, y, reset, validate_separately, cast_to_ndarray, **check_params)\u001b[0m\n\u001b[0;32m    602\u001b[0m         out \u001b[39m=\u001b[39m X, y\n\u001b[0;32m    603\u001b[0m \u001b[39melif\u001b[39;00m \u001b[39mnot\u001b[39;00m no_val_X \u001b[39mand\u001b[39;00m no_val_y:\n\u001b[1;32m--> 604\u001b[0m     out \u001b[39m=\u001b[39m check_array(X, input_name\u001b[39m=\u001b[39m\u001b[39m\"\u001b[39m\u001b[39mX\u001b[39m\u001b[39m\"\u001b[39m, \u001b[39m*\u001b[39m\u001b[39m*\u001b[39mcheck_params)\n\u001b[0;32m    605\u001b[0m \u001b[39melif\u001b[39;00m no_val_X \u001b[39mand\u001b[39;00m \u001b[39mnot\u001b[39;00m no_val_y:\n\u001b[0;32m    606\u001b[0m     out \u001b[39m=\u001b[39m _check_y(y, \u001b[39m*\u001b[39m\u001b[39m*\u001b[39mcheck_params)\n",
      "File \u001b[1;32m~\\AppData\\Local\\Packages\\PythonSoftwareFoundation.Python.3.10_qbz5n2kfra8p0\\LocalCache\\local-packages\\Python310\\site-packages\\sklearn\\utils\\validation.py:940\u001b[0m, in \u001b[0;36mcheck_array\u001b[1;34m(array, accept_sparse, accept_large_sparse, dtype, order, copy, force_all_finite, ensure_2d, allow_nd, ensure_min_samples, ensure_min_features, estimator, input_name)\u001b[0m\n\u001b[0;32m    938\u001b[0m     \u001b[39m# If input is 1D raise error\u001b[39;00m\n\u001b[0;32m    939\u001b[0m     \u001b[39mif\u001b[39;00m array\u001b[39m.\u001b[39mndim \u001b[39m==\u001b[39m \u001b[39m1\u001b[39m:\n\u001b[1;32m--> 940\u001b[0m         \u001b[39mraise\u001b[39;00m \u001b[39mValueError\u001b[39;00m(\n\u001b[0;32m    941\u001b[0m             \u001b[39m\"\u001b[39m\u001b[39mExpected 2D array, got 1D array instead:\u001b[39m\u001b[39m\\n\u001b[39;00m\u001b[39marray=\u001b[39m\u001b[39m{}\u001b[39;00m\u001b[39m.\u001b[39m\u001b[39m\\n\u001b[39;00m\u001b[39m\"\u001b[39m\n\u001b[0;32m    942\u001b[0m             \u001b[39m\"\u001b[39m\u001b[39mReshape your data either using array.reshape(-1, 1) if \u001b[39m\u001b[39m\"\u001b[39m\n\u001b[0;32m    943\u001b[0m             \u001b[39m\"\u001b[39m\u001b[39myour data has a single feature or array.reshape(1, -1) \u001b[39m\u001b[39m\"\u001b[39m\n\u001b[0;32m    944\u001b[0m             \u001b[39m\"\u001b[39m\u001b[39mif it contains a single sample.\u001b[39m\u001b[39m\"\u001b[39m\u001b[39m.\u001b[39mformat(array)\n\u001b[0;32m    945\u001b[0m         )\n\u001b[0;32m    947\u001b[0m \u001b[39mif\u001b[39;00m dtype_numeric \u001b[39mand\u001b[39;00m \u001b[39mhasattr\u001b[39m(array\u001b[39m.\u001b[39mdtype, \u001b[39m\"\u001b[39m\u001b[39mkind\u001b[39m\u001b[39m\"\u001b[39m) \u001b[39mand\u001b[39;00m array\u001b[39m.\u001b[39mdtype\u001b[39m.\u001b[39mkind \u001b[39min\u001b[39;00m \u001b[39m\"\u001b[39m\u001b[39mUSV\u001b[39m\u001b[39m\"\u001b[39m:\n\u001b[0;32m    948\u001b[0m     \u001b[39mraise\u001b[39;00m \u001b[39mValueError\u001b[39;00m(\n\u001b[0;32m    949\u001b[0m         \u001b[39m\"\u001b[39m\u001b[39mdtype=\u001b[39m\u001b[39m'\u001b[39m\u001b[39mnumeric\u001b[39m\u001b[39m'\u001b[39m\u001b[39m is not compatible with arrays of bytes/strings.\u001b[39m\u001b[39m\"\u001b[39m\n\u001b[0;32m    950\u001b[0m         \u001b[39m\"\u001b[39m\u001b[39mConvert your data to numeric values explicitly instead.\u001b[39m\u001b[39m\"\u001b[39m\n\u001b[0;32m    951\u001b[0m     )\n",
      "\u001b[1;31mValueError\u001b[0m: Expected 2D array, got 1D array instead:\narray=[ 1.          1.09090909  1.18181818  1.27272727  1.36363636  1.45454545\n  1.54545455  1.63636364  1.72727273  1.81818182  1.90909091  2.\n  2.09090909  2.18181818  2.27272727  2.36363636  2.45454545  2.54545455\n  2.63636364  2.72727273  2.81818182  2.90909091  3.          3.09090909\n  3.18181818  3.27272727  3.36363636  3.45454545  3.54545455  3.63636364\n  3.72727273  3.81818182  3.90909091  4.          4.09090909  4.18181818\n  4.27272727  4.36363636  4.45454545  4.54545455  4.63636364  4.72727273\n  4.81818182  4.90909091  5.          5.09090909  5.18181818  5.27272727\n  5.36363636  5.45454545  5.54545455  5.63636364  5.72727273  5.81818182\n  5.90909091  6.          6.09090909  6.18181818  6.27272727  6.36363636\n  6.45454545  6.54545455  6.63636364  6.72727273  6.81818182  6.90909091\n  7.          7.09090909  7.18181818  7.27272727  7.36363636  7.45454545\n  7.54545455  7.63636364  7.72727273  7.81818182  7.90909091  8.\n  8.09090909  8.18181818  8.27272727  8.36363636  8.45454545  8.54545455\n  8.63636364  8.72727273  8.81818182  8.90909091  9.          9.09090909\n  9.18181818  9.27272727  9.36363636  9.45454545  9.54545455  9.63636364\n  9.72727273  9.81818182  9.90909091 10.        ].\nReshape your data either using array.reshape(-1, 1) if your data has a single feature or array.reshape(1, -1) if it contains a single sample."
     ]
    }
   ],
   "source": [
    "# Generate data points for the function\n",
    "data_points = np.linspace(0.1, 9.9, 20) # Choose your points\n",
    "X_train = data_points[:, np.newaxis] # What does this do? What is the shape of the array?\n",
    "\n",
    "y_train = func_3(X_train).ravel() # What is the shape of this array?\n",
    "\n",
    "# What does this do??\n",
    "dy = 0.5 + 1.0 * np.random.random(y_train.shape)\n",
    "noise = np.random.normal(0, dy)\n",
    "y_train += noise\n",
    "\n",
    "\n",
    "# again, change this to match the case(s) you will compare with\n",
    "# why the new argument? vary the value used to see what it does\n",
    "gpr = GaussianProcessRegressor(kernel=kernel, alpha=dy,\n",
    "                              n_restarts_optimizer=10)\n",
    "\n",
    "# I think we are getting used to what this does in sklearn! \n",
    "gpr.fit(X_train, y_train)\n",
    "\n",
    "# Make the prediction on the finer grid as well, including\n",
    "# getting information on the confidence intervals. \n",
    "y_pred, sigma = gpr.predict(X_test, return_std=True)\n",
    "\n",
    "# Discuss how the error bars are computed and plotted: you may need to do this someday!\n",
    "plt.figure(figsize=(10, 6))\n",
    "\n",
    "# What does this do? \n",
    "plt.errorbar(X_train.ravel(), y_train, dy, fmt='r.', ms= 15,  label='Observations')\n",
    "\n",
    "plt.plot(X_test, y_pred, 'k', lw=2, label='Predicted Mean')\n",
    "\n",
    "# What does this do? \n",
    "plt.fill_between(\n",
    "    X_test.ravel(), y_pred - 1.96 * sigma, \n",
    "    y_pred + 1.96 * sigma, \n",
    "    alpha=0.2, \n",
    "    color='k',\n",
    "    label='95% Confidence Interval')\n",
    "plt.xlabel('x')\n",
    "plt.ylabel('f(x)')\n",
    "plt.title('Gaussian Process Regression')\n",
    "plt.legend()\n",
    "plt.grid(alpha = 0.3)\n"
   ]
  },
  {
   "cell_type": "markdown",
   "metadata": {},
   "source": [
    "&#9989; **Questions 2.2:** Answer these questions in the markdown cell below\n",
    "\n",
    "1. What does `dy` represent ?\n",
    "2. What does `alpha` in `GaussianProcessRegressor` refer to? What happens if you change it ?\n",
    "3. Any additional comment you had on the previous code?\n"
   ]
  },
  {
   "cell_type": "markdown",
   "metadata": {},
   "source": [
    "<font size=6 color=\"#009600\">&#9998;</font> *Put your conclusions here!* "
   ]
  },
  {
   "cell_type": "markdown",
   "metadata": {},
   "source": [
    "&#9989; **Question 2.3:** What are the values of the hyperparameters of your model? "
   ]
  },
  {
   "cell_type": "code",
   "execution_count": null,
   "metadata": {},
   "outputs": [],
   "source": [
    "# Put code you might need here "
   ]
  },
  {
   "cell_type": "markdown",
   "metadata": {},
   "source": [
    "&#9989; **Question 2.4:** How does the above plot differ from the one you did in Part 1 ?"
   ]
  },
  {
   "cell_type": "markdown",
   "metadata": {},
   "source": [
    "<font size=6 color=\"#009600\">&#9998;</font> *Put your conclusions here!* "
   ]
  },
  {
   "cell_type": "markdown",
   "metadata": {
    "id": "fL5LMfbCoZQZ"
   },
   "source": [
    "&#9989; **Task 2.5:** In Task 1.8 you had to vary several things and obtain a multitude of plots. Can you think of a better way, perhaps a metric, that can make the above process more quantitative, _i.e._ without the need to rely on one's opinion about how good a plot look?"
   ]
  },
  {
   "cell_type": "markdown",
   "metadata": {},
   "source": [
    "<font size=6 color=\"#009600\">&#9998;</font> *Discuss your conclusion here*"
   ]
  },
  {
   "cell_type": "markdown",
   "metadata": {
    "id": "qk7N4nREyMXU"
   },
   "source": [
    "&#169; Copyright 2023, Department of Computational Mathematics, Science and Engineering at Michigan State University."
   ]
  }
 ],
 "metadata": {
  "colab": {
   "collapsed_sections": [],
   "name": "IC_Stats_GPR.ipynb",
   "version": ""
  },
  "kernelspec": {
   "display_name": "Python 3 (ipykernel)",
   "language": "python",
   "name": "python3"
  },
  "language_info": {
   "codemirror_mode": {
    "name": "ipython",
    "version": 3
   },
   "file_extension": ".py",
   "mimetype": "text/x-python",
   "name": "python",
   "nbconvert_exporter": "python",
   "pygments_lexer": "ipython3",
   "version": "3.10.11"
  }
 },
 "nbformat": 4,
 "nbformat_minor": 4
}
