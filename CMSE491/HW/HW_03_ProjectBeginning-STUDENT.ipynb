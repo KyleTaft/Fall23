{
 "cells": [
  {
   "cell_type": "markdown",
   "id": "2f1c3a24-23a2-44f4-8c82-fd731e0e30dc",
   "metadata": {},
   "source": [
    "# Homework 03: Projects\n",
    "\n",
    "### <p style=\"text-align: right;\"> &#9989; Kyle Taft\n"
   ]
  },
  {
   "cell_type": "markdown",
   "id": "49dbae76-aba8-4c4b-a848-79c23c4ff597",
   "metadata": {},
   "source": [
    "It is time to start working on your project. So let's start from the beginning.\n",
    "\n",
    "Deadline: **Sunday, November 19 at 11:59PM**\n",
    "\n",
    "Total points: **22**\n",
    "\n",
    "# Part 0. Define your goal (4 points)\n",
    "\n",
    "Clearly define the goal of your project. Be specific!\n",
    "\n",
    "\n",
    "### Answer:\n",
    "**Goal: The goal of my project is to develop a model that accurately predicts the discrete energy levels and gamma-ray transitions of a given experimental experimental nuclear decay spectrum.**"
   ]
  },
  {
   "cell_type": "markdown",
   "metadata": {},
   "source": [
    "# Part 1. Exploratory Data Analysis (4 points)\n",
    "\n",
    "Give a comprehensive description of your data with text and code. For example, do you have one dataset or multiple datasets ? Are you going to merge them? what data does your dataset contain? What do the rows and columns represent? If you are doing image classification: what does each image represent? How much data do you have? How big is your dataset? How many categorical vs numerical features do you have and how are you going to handle it?How was obtained? Is it real world data or simulation data? Is it a time series? What type is your data, _e.g._ int, float, object, string? \n",
    "\n",
    "**Data cleaning:** Start performing data cleaning. Are there any missing values? How are you encoding the data? explain your choice. If you have multiple datasets, how are you handling them? How are you splitting your data?\n",
    "\n",
    "**Visualization:** Make plots showing characteristics of the data. If you are doing regression on time series data, make plots showing historical events of importance. What other information do you have that are not contained in the dataset, but that are important for understanding data?\n",
    "\n",
    "**Statistics:** Show the distribution and correlations of your data. Calculate relevant statistics of your data _e.g._ mean, median, skew, kurtosis. \n",
    "\n",
    "**Unsupervised:** What unsupervised learning technique you think you can use here? Dimensionality Reduction? Clustering? You don't need to do them yet. Just describe what you think would be useful."
   ]
  },
  {
   "cell_type": "markdown",
   "metadata": {},
   "source": [
    "### Answer:\n",
    "**Goal: The goal of my project is to develop a model that accurately predicts the discrete energy levels and gamma-ray transitions of a given experimental experimental nuclear decay spectrum.**"
   ]
  },
  {
   "cell_type": "markdown",
   "id": "ba13f9fe-9476-4e35-95b2-44758f91532b",
   "metadata": {},
   "source": [
    "# Part 2. Define a Metric (4 points)\n",
    "\n",
    "How do you know that your model is doing well, _e.g._ RMSE, Log loss, sparse categorical cross entropy, accuracy? Explain your choice and write the mathematical equation for it using LaTeX. What is your loss function? Are there already analytical models? How do they perform with your metric? \n",
    "\n",
    "**Optimization:** what optimization method are you going to use? If you don't know what it is look at the documentation of your model on `sklearn` or `tensorflow`.\n"
   ]
  },
  {
   "cell_type": "markdown",
   "id": "613e4092-f0a0-4423-80e2-584036f0aa69",
   "metadata": {},
   "source": [
    "# Part 3. Create a Baseline (4 points)\n",
    "\n",
    "Before you start using complex models look at the performance of the simplest model. If the simplest model gets a score of 99.9999999%, then what is the point of using complex, expensive models? No one wants to waste time and money? What is the simplest model that you can throw at your data? Regression -> Linear Regression, Classification -> Logistic regression or a random classifier. How do these model perform on your data? The score of your simplest model is your baseline and your other ML models should do better than this (remember that we had 90% chance of being right on the MNIST dataset). \n",
    "\n",
    "This will require some hyperparameter tuning, cross-validation.\n",
    "\n",
    "**Visualization:** Make plots of the learning curve, train-validation-test curves, timing curves. How long does it take for your machine learning model to fit? \n"
   ]
  },
  {
   "cell_type": "markdown",
   "id": "8889adae-5506-4bfa-ad30-ec627e165027",
   "metadata": {},
   "source": [
    "# Part 4. Other ML models (2 points)\n",
    "\n",
    "Now run your data through your other ML models and compare with the baseline. Make a table with the score of your models. "
   ]
  },
  {
   "cell_type": "markdown",
   "id": "9fb2854d-8195-4855-a2e4-227f5381ef8c",
   "metadata": {},
   "source": [
    "# Part 5. Make a plan for the rest (4 points)\n",
    "\n",
    "Now that you have a baseline, how do you plan to improve your models? What kind of feature engineering can you do to improve your model? What other hyperparameter can you change? Optimization techniques? Unsupervised techniques?\n"
   ]
  },
  {
   "cell_type": "markdown",
   "id": "d713a688-cb63-475a-b491-35ef3c79a417",
   "metadata": {},
   "source": [
    "&#169; Copyright 2023, Department of Computational Mathematics, Science and Engineering at Michigan State University."
   ]
  }
 ],
 "metadata": {
  "kernelspec": {
   "display_name": "Python 3 (ipykernel)",
   "language": "python",
   "name": "python3"
  },
  "language_info": {
   "codemirror_mode": {
    "name": "ipython",
    "version": 3
   },
   "file_extension": ".py",
   "mimetype": "text/x-python",
   "name": "python",
   "nbconvert_exporter": "python",
   "pygments_lexer": "ipython3",
   "version": "3.11.3"
  }
 },
 "nbformat": 4,
 "nbformat_minor": 5
}
