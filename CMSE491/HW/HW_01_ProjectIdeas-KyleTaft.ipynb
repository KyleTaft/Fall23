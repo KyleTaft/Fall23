{
 "cells": [
  {
   "cell_type": "markdown",
   "metadata": {
    "id": "cIRBYCXQym4H"
   },
   "source": [
    "# Homework 01: Projects Decision\n",
    "\n",
    "### <p style=\"text-align: right;\"> &#9989; Kyle Taft\n",
    "\n",
    "\n",
    "![xkcd](https://imgs.xkcd.com/comics/trained_a_neural_net_2x.png)\n"
   ]
  },
  {
   "cell_type": "markdown",
   "metadata": {
    "id": "2sPScUZyhf-f"
   },
   "source": [
    "## Projects (48 points)\n",
    "\n",
    "You may have given some thought to your project already. In this problem you are going to walk through the steps required of your project so that you can get a sense for the size and scope of the project, and perhaps see if you are being realistic about the choice of your project. \n",
    "\n",
    "_It is extremely important that you think through and start your project in the next few weeks. It is dificult to predict whether any given dataset is going to do what you want, and you don't want to make that discovery before it is to late to start over._\n",
    "\n",
    "You can, and probably will, change your mind as we work through this process. Don't worry - you are not locking anything in yet.\n",
    "\n",
    "If you have not decided on your project yet, that's fine. You will need to decide fairly soon, so this is a good exercise to help you narrow it down. If you truly don't have any idea, find something interesting at the [UCI Machine Learning Repo](https://archive.ics.uci.edu/) and use that for this problem as if it were the actual dataset you will use. Note that this website works in an odd way: type something into the search at the upper right; for example, type \"diabetes\". Note that it takes you to a Google search of the data sets - you don't stay within its pages. Try searching for some other topics you are interested in. \n",
    "\n",
    "The first thing you need to do is read **Appendix A** in your textbook. These are the steps your project should follow, and will be used as a guide for grading your project. Read that appendix very carefully. It might be worth re-reading Chapter 1 before you get started on this problem. \n",
    "\n",
    "Once you have a dataset in mind and you have read Appendix A, answer these questions:\n",
    "\n",
    "1. What is the objective of your project? State a precise goal - don't be vague.\n",
    "2. Where do you plan on getting your data and are there any strings attached (e.g., is this proprietary research data)? \n",
    "3. What tools would you use to explore this dataset? Do you think there could be errors (typos, missing values) in the data? How will you manage the data?\n",
    "4. Do you think the data needs to be cleaned or transformed before you can use it?\n",
    "5. Can you think of $3-5$ ML algorithms you could quickly throw at this? What are they? You may not know many yet, but the basic ideas are in Chapter 1 of your textbook.\n",
    "6. How will you present the big picture and final outcome to a wide audience in your poster?\n",
    "\n",
    "These questions are geared a bit more toward projects on supervised and unsupervised ML\n",
    "\n",
    "Write all your answer in a markdown cell, using [good markdown formatting techniques](https://www.markdownguide.org/cheat-sheet/). \n"
   ]
  },
  {
   "cell_type": "markdown",
   "metadata": {},
   "source": [
    "<font size=6 color=\"#009600\">&#9998;</font> *Put your answers here!* \n",
    "\n",
    "1. I want to be able to take experimental gamma and TAS data from the decay of a specific isotope and accurately determine the low energy (TAS, Gamma Energy) pairs and their intensities. The data that I've produced by simulation are 512x512 2D histograms (matrices) that contain information about some spectrum with the axes being gamma energy plotted against TAS. My goal is to take these histograms and determine in what bins there are real peaks and what their actual intensities are by taking into consideration patterns like characteristic scattering and pair production that occurs. I have labeled data that is of these raw 2D histograms paired with ideal 512x512 histograms that just have intensities at the bins the actual energies are at. An example of a labeled data pair are shown below.\n",
    "2. I already have my data from producing it last semester. All of this is publicly funded research\n",
    "3. There is not much exploration of my data that I can do. I can look at the histograms and see if there are any obvious errors, but I can't really do much else. I know what I have created so a quick check for any anomalies is all I can do\n",
    "4. Yes. At least, some sort of normalization is needed. Other preprocessing techniques may be explored to help the model along such as setting a threshold for the minimum intensity of a peak to be considered a peak.\n",
    "5. I can use a CNN, a GAN, a K means clustering algorithm, or a prebuilt model like [pix2pix](https://www.tensorflow.org/tutorials/generative/pix2pix). These are can be useful and implemented to identify the peaks in the data. An ensemble method may also be useful to combine the results of multiple models.\n",
    "6. The main way to do this is to break the poster down into catagories such as background, methods, results, and conclusion. The background will be a brief overview of the physics and the problem that the machine learning hopes to solve. Methods will be a brief overview of the model used, the motivation behind it, and any preprocessing. The results will be a comparison of the model's predictions to the actual data. This can be done both visually with an input and output histogram and also with a bigger test set and its \"accuracy\". Conclusion will be a summary of the results, explaining what they mean, and the next steps.\n"
   ]
  },
  {
   "cell_type": "code",
   "execution_count": 2,
   "metadata": {},
   "outputs": [
    {
     "data": {
      "text/html": [
       "<img src=\"https://github.com/KyleTaft/Fall23/blob/main/CMSE491/SimpleSpectrum.png?raw=true\" width=\"300\"/>"
      ],
      "text/plain": [
       "<IPython.core.display.Image object>"
      ]
     },
     "execution_count": 2,
     "metadata": {},
     "output_type": "execute_result"
    }
   ],
   "source": [
    "from IPython.display import Image\n",
    "# image from https://arxiv.org/abs/2206.11792\n",
    "Image(url= \"https://github.com/KyleTaft/Fall23/blob/main/CMSE491/SimpleSpectrum.png?raw=true\", width=300)"
   ]
  },
  {
   "cell_type": "markdown",
   "metadata": {},
   "source": [
    "&#169; Copyright 2023, Department of Computational Mathematics, Science and Engineering at Michigan State University."
   ]
  }
 ],
 "metadata": {
  "colab": {
   "collapsed_sections": [],
   "name": "HW_3_ProbStats.ipynb",
   "provenance": []
  },
  "kernelspec": {
   "display_name": "Python 3 (ipykernel)",
   "language": "python",
   "name": "python3"
  },
  "language_info": {
   "codemirror_mode": {
    "name": "ipython",
    "version": 3
   },
   "file_extension": ".py",
   "mimetype": "text/x-python",
   "name": "python",
   "nbconvert_exporter": "python",
   "pygments_lexer": "ipython3",
   "version": "3.8.8"
  }
 },
 "nbformat": 4,
 "nbformat_minor": 4
}
