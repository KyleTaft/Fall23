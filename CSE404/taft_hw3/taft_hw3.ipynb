{
 "cells": [
  {
   "cell_type": "code",
   "execution_count": 6,
   "metadata": {},
   "outputs": [],
   "source": [
    "import numpy as np\n",
    "import matplotlib.pyplot as plt"
   ]
  },
  {
   "cell_type": "markdown",
   "metadata": {},
   "source": [
    "The Ridge loss function is defined as:\n",
    "\n",
    "$$E(w) = 0.5\\sum_{n=1}^N (w^Tx_n - y_n )^2 + \\lambda \\sum_{j=1}^d w_j^2$$\n",
    "\n",
    "Therefore, the gradient is:\n",
    "\n",
    "$$\\nabla E(w) = \\sum_{n=1}^N (w^Tx_n - y_n )x_n + 2\\lambda \\sum_{j=1}^d w_j$$"
   ]
  },
  {
   "cell_type": "code",
   "execution_count": 23,
   "metadata": {},
   "outputs": [],
   "source": [
    "def ridge_loss(X, y, weights, ridge):\n",
    "    return 0.5*np.sum((np.dot(X,weights) - y) ** 2) + ridge * np.sum(weights ** 2) #check last part\n",
    "\n",
    "def ridge_grad(X, y, weights, ridge):\n",
    "    return 2 * ridge * weights +  np.dot(X.T, np.dot(X, weights) - y)\n",
    "\n",
    "def compute_step(X, y, weights, ridge, lr):\n",
    "    gradient = ridge_grad(X, y, weights, ridge)\n",
    "    step = lr * gradient / len(y)\n",
    "    return step\n"
   ]
  },
  {
   "cell_type": "code",
   "execution_count": 31,
   "metadata": {},
   "outputs": [
    {
     "name": "stdout",
     "output_type": "stream",
     "text": [
      "534.64\n",
      "159.98500084\n",
      "47.90609180845383\n",
      "14.38110777323929\n",
      "4.354989571662672\n",
      "1.3573990453097413\n",
      "0.4615024560559088\n",
      "0.19376520088970356\n",
      "0.1136128478946562\n",
      "0.08939145043003463\n"
     ]
    }
   ],
   "source": [
    "# Toy example\n",
    "X = np.array([[1, 2, 3], [4, 5, 6]])\n",
    "y = np.array([1, 2])\n",
    "weights = np.array([1, 2, 3]) # initial weights \n",
    "\n",
    "for i in range(10):\n",
    "    print(ridge_loss(X, y, weights, 0.01))\n",
    "    weights = weights - compute_step(X, y, weights, 0.1, 0.01)"
   ]
  },
  {
   "cell_type": "code",
   "execution_count": 47,
   "metadata": {},
   "outputs": [],
   "source": [
    "# From HW2\n",
    "def generate_rnd_data(feature_size, sample_size, bias=False):\n",
    "    # Generate X matrix\n",
    "    data = np.concatenate((np.random.randn(sample_size, feature_size), np.ones((sample_size, 1))), axis=1) \\\n",
    "        if bias else np.random.randn(sample_size, feature_size)  # the first dimension is sample_size (n X d)\n",
    "\n",
    "    # Generate ground truth model\n",
    "    # If bias == T: then #rows + 1\n",
    "    truth_model = np.random.randn(feature_size + 1, 1) * 10 \\\n",
    "        if bias else np.random.randn(feature_size, 1) * 10\n",
    "\n",
    "    # Generate labels\n",
    "    label = np.dot(data, truth_model)\n",
    "\n",
    "    # Add element-wise Gaussian noise to each label\n",
    "    label += np.random.randn(sample_size, 1)\n",
    "    return data, label, truth_model"
   ]
  },
  {
   "cell_type": "code",
   "execution_count": 52,
   "metadata": {},
   "outputs": [],
   "source": [
    "X,y,_= generate_rnd_data(50, 1000, True) # generate fake data\n",
    "\n",
    "w = np.random.randn(51, 1) # initial random weights\n",
    "\n",
    "ridge = 0.1\n",
    "loss = []\n",
    "for i in range(100):\n",
    "    loss.append(ridge_loss(X, y, w, ridge))\n",
    "    w = w - compute_step(X, y, w, ridge, 0.1)"
   ]
  },
  {
   "cell_type": "code",
   "execution_count": 53,
   "metadata": {},
   "outputs": [
    {
     "data": {
      "text/plain": [
       "Text(0.5, 1.0, 'Ridge Regression Loss')"
      ]
     },
     "execution_count": 53,
     "metadata": {},
     "output_type": "execute_result"
    },
    {
     "data": {
      "image/png": "[encoded data removed]",
      "text/plain": [
       "<Figure size 432x288 with 1 Axes>"
      ]
     },
     "metadata": {
      "needs_background": "light"
     },
     "output_type": "display_data"
    }
   ],
   "source": [
    "plt.plot(loss)\n",
    "plt.xlabel(\"Iteration\")\n",
    "plt.ylabel(\"Loss\")\n",
    "plt.title(\"Ridge Regression Loss\")"
   ]
  },
  {
   "cell_type": "code",
   "execution_count": null,
   "metadata": {},
   "outputs": [],
   "source": []
  }
 ],
 "metadata": {
  "kernelspec": {
   "display_name": "base",
   "language": "python",
   "name": "python3"
  },
  "language_info": {
   "codemirror_mode": {
    "name": "ipython",
    "version": 3
   },
   "file_extension": ".py",
   "mimetype": "text/x-python",
   "name": "python",
   "nbconvert_exporter": "python",
   "pygments_lexer": "ipython3",
   "version": "3.8.8"
  }
 },
 "nbformat": 4,
 "nbformat_minor": 2
}
