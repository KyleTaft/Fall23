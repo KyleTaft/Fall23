{
 "cells": [
  {
   "cell_type": "markdown",
   "metadata": {
    "state": "normal"
   },
   "source": [
    "# Neural Networks\n",
    "Artificial Neural Networks (ANNs) were first introduced in 1943 by McCulloch (neurophysiologist) and Pitts (mathematician) in their paper *A Logical Calculus of Ideas Immanent in Nervous Activity\"*. They proposed a simplified computational model of how biological neurons could work together in animal brains to perform computations using *propositional logic*. In 1957, Rosenblatt invented the Perceptron, which is considered to be one of the simplest linear ANN architectures. Rosenblatt's Perceptron is based on a slightly different artificial neuron, called a *threshold logic unit* (TLU) or *linear threshold unit* (LTU). Interest in ANNs faded in the 1960s. In the early 1980s, new architectures and better training techniques were developed and there was renewed interest, but slow progress, with NNs. In the 1990s other ML algorithms were invented (like SVM) that had better results and stronger theoretical foundations than ANNs, so interest in NNs faded again. \n",
    "\n",
    "Today's interest in NNs will likely continue for the following reasons: \n",
    "<ol>\n",
    "    <li> Today we have massive amounts of data for training NNs and ANNs often outperform other ML techniques on large and complex problems.  </li>\n",
    "    <li> Increases in computing power since the 90s makes it possible to train large NNs in a reasonable amount of time. Moore's law, the development of powerful GPUs for the gaming industry, and cloud platforms are credited with making NNs accessible to everyone.  </li>\n",
    "    <li> Initial training algorithms from the 90s, though only slightly modified, are much more powerful now. </li>\n",
    "    <li> When first developed, there were many theoretical concerns about NN limitations. However, now we know that these potential problems are rarely seen in practice. </li>\n",
    "    <li> NNs are incredibly popular today which means more research funding is available for their study. Products based on NNs often make the news, which increases attention, which increases funding, which results in more progress. </li>   \n",
    "</ol>\n",
    "\n",
    "## Backpropagation\n",
    "In 1986, Rumelhart, Hinton, and Williams published the backpropagation training algorithm for NNs. Hinton (along with Bengio and LeCun) received the 2018 ACM Turing Award for their foundational work in developing NNs. These three men are often called the fathers or godfathers of AI.  \n",
    "\n",
    "Backprop is essentially gradient descent using an efficient technique to compute the gradients automatically (automatic differentiation) in a forward and backward pass through the NN. Backprop computes the gradient of the network's error with respect to every model parameter, meaning it determines how each weight and bias should be altered in order to reduce the error. Once backprop has these gradients, it performs a regular GD step. The whole process is repeated until the network converges to the solution. Another way to think of it is: for each training instance, the backprop algorithm makes a prediction (forward pass) and measures the error, then goes back through each layer in reverse to measure the error contribution from each connection (reverse pass), and finally updates the connection weights to reduce the error (GD step). \n",
    "\n",
    "**Note:** It's important to intialize all hidden layer weights randomly or training will fail. If you initialize all weights and biases to 0, then all neurons in a given layer are perfectly identical and backprop will alter them in the same way, so they will remain identical. \n",
    "\n",
    "\n",
    "## Multilayer Perceptron (MLP)\n",
    "A basic MLP has one *input layer*, one or more *hidden layers* of TLUs, and one final *output layer* of TLUs. Every layer (except the output layer) includes a *bias* neuron and is fully connected to the next layer. Because the signal only moves in one direction (from input layer to output layer) this architecture is an example of a *feedforward NN* (FNN). \n",
    "\n",
    "MLPs can be used for regression tasks. If you want to predict a single value, you just need a single output neuron. Its output will be the predicted value. If you want to predict multiple values at once (multivariate regression), you will need one output neuron per output dimension. \n",
    "\n",
    "You can also use MLPs for classification tasks. For a binary classification, you just need a single output neuron using the logistic activation function. Its output will be between 0 and 1, which can be interpreted as the estimated probability of the positive class. One minus that number would be the estimated probability of the negative class. You can also handle multilabel and multiclass classification tasks. For example, with the Digits dataset, to predict numbers 0..9, we would need one output neuron per class, with the softmax activation function over the whole output layer. \n",
    "\n",
    "# Building an Image Classifier Using the Sequential API\n",
    "\n",
    "## Visualize the Fashion MNIST Dataset \n",
    "Fashion MNIST has 60,000 grayscale images of 28x28 pixels each. There are 10 classes. A simple linear model can reach about 83% accuracy on this dataset. "
   ]
  },
  {
   "cell_type": "code",
   "execution_count": 2,
   "metadata": {
    "state": "normal"
   },
   "outputs": [],
   "source": [
    "# Imports\n",
    "# You will probably need to install Tensorflow & Keras\n",
    "import sys\n",
    "import sklearn\n",
    "import tensorflow as tf\n",
    "from tensorflow import keras\n",
    "import numpy as np\n",
    "import os\n",
    "\n",
    "# For figures\n",
    "import matplotlib as mpl\n",
    "import matplotlib.pyplot as plt\n",
    "mpl.rc('axes', labelsize=14)\n",
    "mpl.rc('xtick', labelsize=12)\n",
    "mpl.rc('ytick', labelsize=12)\n",
    "\n",
    "# Stabilize across runs\n",
    "np.random.seed(42)"
   ]
  },
  {
   "cell_type": "code",
   "execution_count": 3,
   "metadata": {
    "state": "normal"
   },
   "outputs": [
    {
     "data": {
      "text/plain": [
       "(60000, 28, 28)"
      ]
     },
     "execution_count": 3,
     "metadata": {},
     "output_type": "execute_result"
    }
   ],
   "source": [
    "# Load Fashion MNIST Dataset\n",
    "fashion_mnist = keras.datasets.fashion_mnist\n",
    "\n",
    "# Recover training & testing splits\n",
    "(X_train_full, y_train_full), (X_test, y_test) = fashion_mnist.load_data()\n",
    "\n",
    "# Training set contains 60,000 grayscale images, each 28x28 pixels\n",
    "# Each pixel intensity is represented as a byte (0 to 255)\n",
    "X_train_full.shape"
   ]
  },
  {
   "cell_type": "code",
   "execution_count": 4,
   "metadata": {
    "state": "normal"
   },
   "outputs": [],
   "source": [
    "# Split training set into a validation set & smaller training set\n",
    "# Scale pixel intensities down to 0..1 range & convert them to floats by dividing by 255.\n",
    "# (Scaling the input features because we're using Gradient Descent to train the NN)\n",
    "X_valid, X_train = X_train_full[:5000] / 255., X_train_full[5000:] / 255.\n",
    "y_valid, y_train = y_train_full[:5000], y_train_full[5000:]\n",
    "X_test = X_test / 255.\n",
    "\n",
    "# Validation set contains 5,000 images\n",
    "# Test set contains 10,000 images\n",
    "# X_valid.shape\n",
    "# X_test.shape"
   ]
  },
  {
   "cell_type": "code",
   "execution_count": 5,
   "metadata": {
    "state": "normal"
   },
   "outputs": [
    {
     "data": {
      "image/png": "[encoded data removed]",
      "text/plain": [
       "<Figure size 640x480 with 1 Axes>"
      ]
     },
     "metadata": {},
     "output_type": "display_data"
    }
   ],
   "source": [
    "# Plot an image using Matplotlib's imshow() function with a 'binary' color map\n",
    "plt.imshow(X_train[0], cmap=\"binary\")\n",
    "plt.axis('off')\n",
    "plt.show()"
   ]
  },
  {
   "cell_type": "code",
   "execution_count": 6,
   "metadata": {
    "state": "normal"
   },
   "outputs": [
    {
     "data": {
      "text/plain": [
       "array([4, 0, 7, ..., 3, 0, 5], dtype=uint8)"
      ]
     },
     "execution_count": 6,
     "metadata": {},
     "output_type": "execute_result"
    }
   ],
   "source": [
    "# Labels are class IDs (represented as uint8) from 0..9\n",
    "y_train"
   ]
  },
  {
   "cell_type": "code",
   "execution_count": 7,
   "metadata": {
    "state": "normal"
   },
   "outputs": [],
   "source": [
    "# Corresponding class names \n",
    "class_names = [\"T-shirt/top\", \"Trouser\", \"Pullover\", \"Dress\", \"Coat\",\n",
    "               \"Sandal\", \"Shirt\", \"Sneaker\", \"Bag\", \"Ankle boot\"]"
   ]
  },
  {
   "cell_type": "code",
   "execution_count": 8,
   "metadata": {
    "state": "normal"
   },
   "outputs": [
    {
     "data": {
      "image/png": "[encoded data removed]",
      "text/plain": [
       "<Figure size 1200x480 with 40 Axes>"
      ]
     },
     "metadata": {},
     "output_type": "display_data"
    }
   ],
   "source": [
    "# Visualize dataset sample\n",
    "n_rows = 4\n",
    "n_cols = 10\n",
    "plt.figure(figsize=(n_cols * 1.2, n_rows * 1.2))\n",
    "for row in range(n_rows):\n",
    "    for col in range(n_cols):\n",
    "        index = n_cols * row + col\n",
    "        plt.subplot(n_rows, n_cols, index + 1)\n",
    "        plt.imshow(X_train[index], cmap=\"binary\", interpolation=\"nearest\")\n",
    "        plt.axis('off')\n",
    "        plt.title(class_names[y_train[index]], fontsize=12)\n",
    "plt.subplots_adjust(wspace=0.2, hspace=0.5)\n",
    "plt.show()"
   ]
  },
  {
   "cell_type": "markdown",
   "metadata": {
    "state": "normal"
   },
   "source": [
    "## Create the Model Using the Sequential API\n",
    "\n",
    "We'll create a classification MLP with 2 hidden layers. We're using a Sequential model which is good for a basic stack of layers, where each layer only has one input tensor and one output tensor. \n",
    "Then we'll add layers in order: \n",
    "<ol>\n",
    "    <li> Input layer: we'll use the Keras Flatten layer class which flattens the input. You have to specify the dimensions of your input. </li>\n",
    "    <li> Hidden layer 1: we'll use the Keras Dense layer class which is a densely-connected layer. We'll specify 300 nodes/units and the RELU activation function. </li>\n",
    "    <li> Hidden layer 2: another Dense layer with 100 nodes and RELU activation function. </li>\n",
    "    <li> Output layer: a Dense layer with 10 nodes and the Softmax activation function. The 10 nodes are 1 node per class (each article of clothing). We'll use Softmax for classification (as discussed in class). </li> \n",
    "</ol>"
   ]
  },
  {
   "cell_type": "code",
   "execution_count": 9,
   "metadata": {
    "state": "normal"
   },
   "outputs": [],
   "source": [
    "# Set up our first NN\n",
    "# Sequential Model: single stack of layers connected sequentially \n",
    "model = keras.models.Sequential()\n",
    "\n",
    "# Input layer dimensions: 28 x 28\n",
    "# Flattens the input image into a 1D array\n",
    "# Layer has no parameters; just performs preprocessing\n",
    "# Alternate layer: keras.layers.InputLayer(input_shape=[28,28])\n",
    "model.add(keras.layers.Flatten(input_shape=[28, 28]))\n",
    "\n",
    "# Hidden layer with 300 neurons & RELU activation function\n",
    "# Each Dense layer manages its own weight matrix W which contains all \n",
    "#     connection weights between neurons & their inputs\n",
    "# Also manages a vector of bias terms (1 per neuron)\n",
    "model.add(keras.layers.Dense(300, activation=\"relu\"))\n",
    "\n",
    "# Hidden layer with 100 nodes & RELU activation function\n",
    "model.add(keras.layers.Dense(100, activation=\"relu\"))\n",
    "\n",
    "# Ouput layer with 10 nodes (1 node per clothing class) & Softmax activation\n",
    "model.add(keras.layers.Dense(10, activation=\"softmax\"))"
   ]
  },
  {
   "cell_type": "code",
   "execution_count": 10,
   "metadata": {
    "state": "normal"
   },
   "outputs": [],
   "source": [
    "# Clear\n",
    "keras.backend.clear_session()\n",
    "np.random.seed(42)\n",
    "tf.random.set_seed(42)"
   ]
  },
  {
   "cell_type": "code",
   "execution_count": 11,
   "metadata": {
    "state": "normal"
   },
   "outputs": [],
   "source": [
    "# More common way to write the above NN\n",
    "model = keras.models.Sequential([\n",
    "    keras.layers.Flatten(input_shape=[28, 28]),\n",
    "    keras.layers.Dense(300, activation=\"relu\"),\n",
    "    keras.layers.Dense(100, activation=\"relu\"),\n",
    "    keras.layers.Dense(10, activation=\"softmax\")\n",
    "])"
   ]
  },
  {
   "cell_type": "markdown",
   "metadata": {
    "state": "normal"
   },
   "source": [
    "**Note:** Dense layers have A LOT of parameters! \n",
    "Hidden Layer 1 has 784 x 300 connection weights + 300 bias terms = 235,500 parameters.\n",
    "This large number of parameters gives the model flexibility to fit the training data, but risks overfitting if there isn't enough training data. "
   ]
  },
  {
   "cell_type": "code",
   "execution_count": 12,
   "metadata": {
    "state": "normal"
   },
   "outputs": [
    {
     "name": "stdout",
     "output_type": "stream",
     "text": [
      "Model: \"sequential\"\n",
      "_________________________________________________________________\n",
      " Layer (type)                Output Shape              Param #   \n",
      "=================================================================\n",
      " flatten (Flatten)           (None, 784)               0         \n",
      "                                                                 \n",
      " dense (Dense)               (None, 300)               235500    \n",
      "                                                                 \n",
      " dense_1 (Dense)             (None, 100)               30100     \n",
      "                                                                 \n",
      " dense_2 (Dense)             (None, 10)                1010      \n",
      "                                                                 \n",
      "=================================================================\n",
      "Total params: 266610 (1.02 MB)\n",
      "Trainable params: 266610 (1.02 MB)\n",
      "Non-trainable params: 0 (0.00 Byte)\n",
      "_________________________________________________________________\n"
     ]
    }
   ],
   "source": [
    "# Display model's layers\n",
    "# Names are automatically generated unless set when creating the layer \n",
    "# Output shape: None means batch size can be anything\n",
    "# Number of Parameters\n",
    "model.summary()"
   ]
  },
  {
   "cell_type": "code",
   "execution_count": 13,
   "metadata": {
    "state": "normal"
   },
   "outputs": [
    {
     "data": {
      "text/plain": [
       "'dense'"
      ]
     },
     "execution_count": 13,
     "metadata": {},
     "output_type": "execute_result"
    }
   ],
   "source": [
    "# Name the first hidden layer\n",
    "# You can fetch layers by index or name\n",
    "hidden1 = model.layers[1]\n",
    "hidden1.name"
   ]
  },
  {
   "cell_type": "code",
   "execution_count": 14,
   "metadata": {
    "state": "normal"
   },
   "outputs": [],
   "source": [
    "# Weights & biases for the layer\n",
    "# There's also a set_weights() method\n",
    "weights, biases = hidden1.get_weights()"
   ]
  },
  {
   "cell_type": "code",
   "execution_count": 15,
   "metadata": {
    "state": "normal"
   },
   "outputs": [
    {
     "name": "stdout",
     "output_type": "stream",
     "text": [
      "weight shape: (784, 300)\n",
      "bias shape: (300,)\n"
     ]
    }
   ],
   "source": [
    "# Print weights\n",
    "weights\n",
    "print(\"weight shape:\", weights.shape)\n",
    "# biases\n",
    "print(\"bias shape:\",biases.shape)"
   ]
  },
  {
   "cell_type": "markdown",
   "metadata": {
    "state": "normal"
   },
   "source": [
    "### Compile the NN Model\n",
    "After creating a NN, use the **compile()** method to specify the loss function and optimizer. We'll use Sparse Categorical Cross-Entropy as the loss function because we have sparse labels and our 10 output classes are mutually exclusive. For optimization we'll use SGD (stochastic gradient descent). And we'll measure performance with the accuracy metric. "
   ]
  },
  {
   "cell_type": "code",
   "execution_count": 16,
   "metadata": {
    "state": "normal"
   },
   "outputs": [],
   "source": [
    "# Compile the model\n",
    "# Using: Sparse categorical crossentropy loss function (good for this classification task)\n",
    "# Stochastic Gradient Descent for optimization\n",
    "# Check performance with accuracy \n",
    "model.compile(loss=\"sparse_categorical_crossentropy\",\n",
    "              optimizer=\"sgd\",\n",
    "              metrics=[\"accuracy\"])"
   ]
  },
  {
   "cell_type": "markdown",
   "metadata": {
    "state": "normal"
   },
   "source": [
    "### Train & Evaluate the Model\n",
    "Pass the training data, training labels, specify the number of epochs to run, and a validation set. It's common to save the fit results in a 'history' variable because fit() returns a *History* object. *History* objects contain the training parameters (history.params), list of epochs (history.epoch), and a dictionary (history.history) containing the loss and extra metrics measured at the end of each epoch on the training and validation (if available) sets. You can use this dictionary to create a *pandas DataFrame* and call its plot( ) method to visualize the NN's learning curves. "
   ]
  },
  {
   "cell_type": "code",
   "execution_count": 17,
   "metadata": {
    "scrolled": true,
    "state": "normal"
   },
   "outputs": [
    {
     "name": "stdout",
     "output_type": "stream",
     "text": [
      "Epoch 1/10\n",
      "  19/1719 [..............................] - ETA: 4s - loss: 2.1636 - accuracy: 0.2039   "
     ]
    },
    {
     "name": "stdout",
     "output_type": "stream",
     "text": [
      "1719/1719 [==============================] - 4s 2ms/step - loss: 0.7275 - accuracy: 0.7616 - val_loss: 0.5233 - val_accuracy: 0.8210\n",
      "Epoch 2/10\n",
      "1719/1719 [==============================] - 4s 2ms/step - loss: 0.4893 - accuracy: 0.8285 - val_loss: 0.4383 - val_accuracy: 0.8486\n",
      "Epoch 3/10\n",
      "1719/1719 [==============================] - 4s 2ms/step - loss: 0.4439 - accuracy: 0.8430 - val_loss: 0.5606 - val_accuracy: 0.7908\n",
      "Epoch 4/10\n",
      "1719/1719 [==============================] - 4s 2ms/step - loss: 0.4175 - accuracy: 0.8542 - val_loss: 0.3984 - val_accuracy: 0.8652\n",
      "Epoch 5/10\n",
      "1719/1719 [==============================] - 4s 2ms/step - loss: 0.3986 - accuracy: 0.8612 - val_loss: 0.3786 - val_accuracy: 0.8686\n",
      "Epoch 6/10\n",
      "1719/1719 [==============================] - 4s 2ms/step - loss: 0.3802 - accuracy: 0.8663 - val_loss: 0.3733 - val_accuracy: 0.8758\n",
      "Epoch 7/10\n",
      "1719/1719 [==============================] - 4s 2ms/step - loss: 0.3677 - accuracy: 0.8706 - val_loss: 0.3680 - val_accuracy: 0.8764\n",
      "Epoch 8/10\n",
      "1719/1719 [==============================] - 3s 2ms/step - loss: 0.3560 - accuracy: 0.8736 - val_loss: 0.3935 - val_accuracy: 0.8602\n",
      "Epoch 9/10\n",
      "1719/1719 [==============================] - 3s 2ms/step - loss: 0.3457 - accuracy: 0.8778 - val_loss: 0.3562 - val_accuracy: 0.8742\n",
      "Epoch 10/10\n",
      "1719/1719 [==============================] - 3s 2ms/step - loss: 0.3355 - accuracy: 0.8804 - val_loss: 0.3528 - val_accuracy: 0.8760\n"
     ]
    }
   ],
   "source": [
    "history = model.fit(X_train, y_train, epochs=10, validation_data=(X_valid, y_valid))"
   ]
  },
  {
   "cell_type": "code",
   "execution_count": 19,
   "metadata": {
    "state": "normal"
   },
   "outputs": [
    {
     "data": {
      "image/png": "[encoded data removed]",
      "text/plain": [
       "<Figure size 800x500 with 1 Axes>"
      ]
     },
     "metadata": {},
     "output_type": "display_data"
    }
   ],
   "source": [
    "# Visualize learning curves of NN's History\n",
    "# For best results, you'd need to shift the training curve half an epoch to the left\n",
    "import pandas as pd\n",
    "\n",
    "pd.DataFrame(history.history).plot(figsize=(8, 5))\n",
    "plt.grid(True)\n",
    "plt.gca().set_ylim(0, 1)\n",
    "plt.show()"
   ]
  },
  {
   "cell_type": "markdown",
   "metadata": {
    "state": "normal"
   },
   "source": [
    "### Analysis\n",
    "The training and validation accuracy steadily increase during training, while the training and validation loss decrease. This is good! The validation curves are close to the training curves, so there isn't much overfitting. The training set performances beats the validation performance, which usually happens if you train for long enough. The model hasn't converged yet (if indicated by the validation loss still decreasing), so you would normally continue training from here. You can just call the **fit( )** method again, because Keras will continue training from where it left off. \n",
    "\n",
    "### Using the Model to Make Predictions\n",
    "You can use the **predict( )** method to make predictions on new instances. "
   ]
  },
  {
   "cell_type": "code",
   "execution_count": 20,
   "metadata": {
    "state": "normal"
   },
   "outputs": [
    {
     "name": "stdout",
     "output_type": "stream",
     "text": [
      "1/1 [==============================] - 0s 112ms/step\n"
     ]
    },
    {
     "data": {
      "text/plain": [
       "array([[0.  , 0.  , 0.  , 0.  , 0.  , 0.07, 0.  , 0.06, 0.  , 0.87],\n",
       "       [0.  , 0.  , 0.99, 0.  , 0.  , 0.  , 0.01, 0.  , 0.  , 0.  ],\n",
       "       [0.  , 1.  , 0.  , 0.  , 0.  , 0.  , 0.  , 0.  , 0.  , 0.  ]],\n",
       "      dtype=float32)"
      ]
     },
     "execution_count": 20,
     "metadata": {},
     "output_type": "execute_result"
    }
   ],
   "source": [
    "# Checking with the first 3 instances \n",
    "# For each instance, the model estimates 1 probability per class, from class 0..9. \n",
    "X_new = X_test[:3]\n",
    "y_proba = model.predict(X_new)\n",
    "y_proba.round(2)"
   ]
  },
  {
   "cell_type": "code",
   "execution_count": 21,
   "metadata": {
    "state": "normal"
   },
   "outputs": [
    {
     "name": "stdout",
     "output_type": "stream",
     "text": [
      "1/1 [==============================] - 0s 33ms/step\n"
     ]
    },
    {
     "data": {
      "text/plain": [
       "array([9, 2, 1], dtype=uint8)"
      ]
     },
     "execution_count": 21,
     "metadata": {},
     "output_type": "execute_result"
    }
   ],
   "source": [
    "# If you only want the class with the highest estimated probability\n",
    "# predict_classes( ) has been deprecated\n",
    "# Use np.argmax on predict\n",
    "y_pred = np.argmax(model.predict(X_new), axis=-1)\n",
    "#y_pred\n",
    "np.array(class_names)[y_pred]\n",
    "y_new = y_test[:3]\n",
    "y_new"
   ]
  },
  {
   "cell_type": "markdown",
   "metadata": {
    "state": "normal"
   },
   "source": [
    "# RNN\n",
    "RNNs are typically used in tasks that try to \"predict the future\". For example, RNNs can analyze time series data like stock prices and predict when to buy or sell. In autonomous driving systems, RNNs can anticipate car trajectories and help avoid accidents. In general, they are used for sequences of arbitrary lengths, instead of fixed-size input like many other NNs. This is what makes them super useful for NLP tasks. \n",
    "\n",
    "RNNs look a lot like FFNs except they also have connections pointing backwards, meaning a neuron (layer) can send its output back to itself. At each time step, a recurrent neuron receives input $x_t$ as well as its own output from the previous time step $y_{t-1}$ (or 0 if it's the first time step because there is no previous output at the start). If you represent each time step against a sequential time axis, this is called *unrolling the network through time*. Since the output or a recurrent neuron/layer at *t* is a function of all the input from previous time steps, RNNs are said to have memory. \n",
    "\n",
    "RNNs use *backprop through time* and have the 2 following challenges:\n",
    "<ol>\n",
    "    <li> Unstable gradients that have to be handled with techniques like recurrent dropout and recurrent layer normalization.  </li>\n",
    "    <li> Limited short-term memory, which can be extended using LSTM or GRU cells (as discussed in class). </li>\n",
    "</ol>\n",
    "\n",
    "## Input & Output Sequences\n",
    "**Sequence-to-sequence Network:** Takes a sequence of inputs and produces a sequence of outputs. Example: predicting time series like stock prices. \n",
    "**Sequence-to-vector Network:** Takes a sequence of inputs and ignores all outputs except for the last one. Example: input a movie review and output a sentiment score from -1 (hate it) to +1 (love it).  \n",
    "**Vector-to-sequence Network:** Input the same vector over and over again at each time step and network outputs a sequence. Example: input an image and output a caption for that image. \n",
    "**Encoder-Decoder:** You can have a sequence-to-vector network (encoder) followed by a vector-to-sequence network (decoder). Example: translate a sentence from one language to another. \n",
    "\n",
    "# Building an RNN\n",
    "First, let's create a time series dataset and build the simplest RNN. It has one layer with one neuron. We don't need to specify the length of the input sequence because RNNs can process any number of time steps. By default, the *SimpleRNN* uses the hyperbolic tangent activation function. "
   ]
  },
  {
   "cell_type": "code",
   "execution_count": 22,
   "metadata": {
    "state": "normal"
   },
   "outputs": [],
   "source": [
    "# Generate time series dataset\n",
    "def generate_time_series(batch_size, n_steps):\n",
    "    freq1, freq2, offsets1, offsets2 = np.random.rand(4, batch_size, 1)\n",
    "    time = np.linspace(0, 1, n_steps)\n",
    "    series = 0.5 * np.sin((time - offsets1) * (freq1 * 10 + 10))  #   wave 1\n",
    "    series += 0.2 * np.sin((time - offsets2) * (freq2 * 20 + 20)) # + wave 2\n",
    "    series += 0.1 * (np.random.rand(batch_size, n_steps) - 0.5)   # + noise\n",
    "    return series[..., np.newaxis].astype(np.float32)\n",
    "\n",
    "np.random.seed(42)\n",
    "\n",
    "# Create training, testing, & validation sets\n",
    "n_steps = 50\n",
    "series = generate_time_series(10000, n_steps + 1)\n",
    "X_train, y_train = series[:7000, :n_steps], series[:7000, -1] # X_train: 7000 instances, each with 50 steps, Y_train: takes the last step of each instance to be the target\n",
    "X_valid, y_valid = series[7000:9000, :n_steps], series[7000:9000, -1]\n",
    "X_test, y_test = series[9000:, :n_steps], series[9000:, -1]"
   ]
  },
  {
   "cell_type": "code",
   "execution_count": 37,
   "metadata": {},
   "outputs": [
    {
     "data": {
      "text/plain": [
       "<matplotlib.legend.Legend at 0x2b7ad106af80>"
      ]
     },
     "execution_count": 37,
     "metadata": {},
     "output_type": "execute_result"
    },
    {
     "data": {
      "image/png": "[encoded data removed]",
      "text/plain": [
       "<Figure size 640x480 with 1 Axes>"
      ]
     },
     "metadata": {},
     "output_type": "display_data"
    }
   ],
   "source": [
    "# Visualize single training instance\n",
    "plt.scatter(range(50),X_train[0], label = \"X_train\")\n",
    "plt.scatter(50,y_train[0], label = \"y_train\")\n",
    "plt.legend()"
   ]
  },
  {
   "cell_type": "code",
   "execution_count": 40,
   "metadata": {
    "state": "normal"
   },
   "outputs": [
    {
     "name": "stderr",
     "output_type": "stream",
     "text": [
      "WARNING:absl:`lr` is deprecated in Keras optimizer, please use `learning_rate` or use the legacy optimizer, e.g.,tf.keras.optimizers.legacy.Adam.\n"
     ]
    },
    {
     "name": "stdout",
     "output_type": "stream",
     "text": [
      "Epoch 1/20\n",
      "219/219 [==============================] - 3s 11ms/step - loss: 0.2015 - val_loss: 0.1910\n",
      "Epoch 2/20\n",
      "219/219 [==============================] - 2s 10ms/step - loss: 0.1671 - val_loss: 0.1592\n",
      "Epoch 3/20\n",
      "219/219 [==============================] - 2s 10ms/step - loss: 0.1405 - val_loss: 0.1343\n",
      "Epoch 4/20\n",
      "219/219 [==============================] - 2s 10ms/step - loss: 0.1167 - val_loss: 0.1091\n",
      "Epoch 5/20\n",
      "219/219 [==============================] - 2s 9ms/step - loss: 0.0938 - val_loss: 0.0866\n",
      "Epoch 6/20\n",
      "219/219 [==============================] - 2s 10ms/step - loss: 0.0738 - val_loss: 0.0674\n",
      "Epoch 7/20\n",
      "219/219 [==============================] - 2s 10ms/step - loss: 0.0565 - val_loss: 0.0509\n",
      "Epoch 8/20\n",
      "219/219 [==============================] - 2s 9ms/step - loss: 0.0420 - val_loss: 0.0374\n",
      "Epoch 9/20\n",
      "219/219 [==============================] - 2s 10ms/step - loss: 0.0306 - val_loss: 0.0271\n",
      "Epoch 10/20\n",
      "219/219 [==============================] - 2s 9ms/step - loss: 0.0224 - val_loss: 0.0200\n",
      "Epoch 11/20\n",
      "219/219 [==============================] - 2s 9ms/step - loss: 0.0173 - val_loss: 0.0158\n",
      "Epoch 12/20\n",
      "219/219 [==============================] - 2s 10ms/step - loss: 0.0145 - val_loss: 0.0137\n",
      "Epoch 13/20\n",
      "219/219 [==============================] - 2s 10ms/step - loss: 0.0132 - val_loss: 0.0127\n",
      "Epoch 14/20\n",
      "219/219 [==============================] - 2s 10ms/step - loss: 0.0126 - val_loss: 0.0122\n",
      "Epoch 15/20\n",
      "219/219 [==============================] - 2s 10ms/step - loss: 0.0123 - val_loss: 0.0120\n",
      "Epoch 16/20\n",
      "219/219 [==============================] - 2s 10ms/step - loss: 0.0122 - val_loss: 0.0118\n",
      "Epoch 17/20\n",
      "219/219 [==============================] - 2s 11ms/step - loss: 0.0121 - val_loss: 0.0116\n",
      "Epoch 18/20\n",
      "219/219 [==============================] - 2s 10ms/step - loss: 0.0120 - val_loss: 0.0115\n",
      "Epoch 19/20\n",
      "219/219 [==============================] - 2s 10ms/step - loss: 0.0118 - val_loss: 0.0114\n",
      "Epoch 20/20\n",
      "219/219 [==============================] - 2s 10ms/step - loss: 0.0117 - val_loss: 0.0113\n"
     ]
    }
   ],
   "source": [
    "# Sequential Model: RNN\n",
    "np.random.seed(42)\n",
    "tf.random.set_seed(42)\n",
    "\n",
    "model = keras.models.Sequential([\n",
    "    keras.layers.SimpleRNN(1, input_shape=[None, 1])\n",
    "])\n",
    "\n",
    "# Adam optimizer \n",
    "optimizer = keras.optimizers.Adam(lr=0.005)\n",
    "\n",
    "# MSE loss function\n",
    "model.compile(loss=\"mse\", optimizer=optimizer)\n",
    "\n",
    "# Run for 20 epochs\n",
    "history = model.fit(X_train, y_train, epochs=20,\n",
    "                    validation_data=(X_valid, y_valid))"
   ]
  },
  {
   "cell_type": "code",
   "execution_count": 41,
   "metadata": {
    "state": "normal"
   },
   "outputs": [
    {
     "name": "stdout",
     "output_type": "stream",
     "text": [
      "15/63 [======>.......................] - ETA: 0s - loss: 0.0113"
     ]
    },
    {
     "name": "stdout",
     "output_type": "stream",
     "text": [
      "63/63 [==============================] - 0s 3ms/step - loss: 0.0113\n"
     ]
    },
    {
     "data": {
      "text/plain": [
       "0.011293848045170307"
      ]
     },
     "execution_count": 41,
     "metadata": {},
     "output_type": "execute_result"
    }
   ],
   "source": [
    "# This SimpleRNN will beat a naive approach but not a simple linear model\n",
    "# QUESTION 1: why do you think this is the case? (Space to answer Qs at bottom of code)\n",
    "model.evaluate(X_valid, y_valid)"
   ]
  },
  {
   "cell_type": "code",
   "execution_count": 42,
   "metadata": {},
   "outputs": [
    {
     "name": "stdout",
     "output_type": "stream",
     "text": [
      "1/1 [==============================] - 0s 112ms/step\n"
     ]
    },
    {
     "data": {
      "text/plain": [
       "<matplotlib.legend.Legend at 0x2b7ad2c9df60>"
      ]
     },
     "execution_count": 42,
     "metadata": {},
     "output_type": "execute_result"
    },
    {
     "data": {
      "image/png": "[encoded data removed]",
      "text/plain": [
       "<Figure size 640x480 with 1 Axes>"
      ]
     },
     "metadata": {},
     "output_type": "display_data"
    }
   ],
   "source": [
    "# Visualize prediction\n",
    "y_pred = model.predict(X_valid[0:1])\n",
    "\n",
    "plt.scatter(range(50),X_valid[0], label = \"X_test\")\n",
    "plt.scatter(50,y_valid[0], label = \"y_test\")\n",
    "plt.scatter(50,y_pred, label = \"y_pred\")\n",
    "plt.legend()"
   ]
  },
  {
   "cell_type": "markdown",
   "metadata": {
    "state": "normal"
   },
   "source": [
    "It's more common to stack multiple layers of cells to build a deep RNN. With Keras we just need to stack recurrent layers. "
   ]
  },
  {
   "cell_type": "code",
   "execution_count": 65,
   "metadata": {
    "state": "normal"
   },
   "outputs": [],
   "source": [
    "# Deep RNN using 3 SimpleRNN layers\n",
    "# You could add any other type of recurrent layer like LSTM or GRU\n",
    "model = keras.models.Sequential([\n",
    "    keras.layers.SimpleRNN(20, return_sequences = True, input_shape = [None, 1]),\n",
    "    keras.layers.SimpleRNN(20, return_sequences = True),\n",
    "    # QUESTION 2: Why do we use 'return_sequences = True' in the previous layers, but not the output layer? \n",
    "    keras.layers.SimpleRNN(1)\n",
    "])"
   ]
  },
  {
   "cell_type": "code",
   "execution_count": 44,
   "metadata": {
    "state": "normal"
   },
   "outputs": [],
   "source": [
    "# Compile the Deep RNN above\n",
    "# Use MSE for the loss function & the Adam optimizer\n",
    "model.compile(loss=\"mse\", optimizer=\"adam\")"
   ]
  },
  {
   "cell_type": "code",
   "execution_count": 45,
   "metadata": {
    "state": "normal"
   },
   "outputs": [
    {
     "name": "stdout",
     "output_type": "stream",
     "text": [
      "Epoch 1/20\n"
     ]
    },
    {
     "name": "stdout",
     "output_type": "stream",
     "text": [
      "219/219 [==============================] - 8s 31ms/step - loss: 0.0346 - val_loss: 0.0066\n",
      "Epoch 2/20\n",
      "219/219 [==============================] - 6s 29ms/step - loss: 0.0060 - val_loss: 0.0048\n",
      "Epoch 3/20\n",
      "219/219 [==============================] - 6s 28ms/step - loss: 0.0047 - val_loss: 0.0045\n",
      "Epoch 4/20\n",
      "219/219 [==============================] - 6s 29ms/step - loss: 0.0041 - val_loss: 0.0041\n",
      "Epoch 5/20\n",
      "219/219 [==============================] - 6s 29ms/step - loss: 0.0042 - val_loss: 0.0035\n",
      "Epoch 6/20\n",
      "219/219 [==============================] - 6s 28ms/step - loss: 0.0038 - val_loss: 0.0034\n",
      "Epoch 7/20\n",
      "219/219 [==============================] - 6s 30ms/step - loss: 0.0037 - val_loss: 0.0035\n",
      "Epoch 8/20\n",
      "219/219 [==============================] - 6s 28ms/step - loss: 0.0037 - val_loss: 0.0036\n",
      "Epoch 9/20\n",
      "219/219 [==============================] - 6s 27ms/step - loss: 0.0035 - val_loss: 0.0035\n",
      "Epoch 10/20\n",
      "219/219 [==============================] - 6s 26ms/step - loss: 0.0035 - val_loss: 0.0034\n",
      "Epoch 11/20\n",
      "219/219 [==============================] - 6s 27ms/step - loss: 0.0035 - val_loss: 0.0032\n",
      "Epoch 12/20\n",
      "219/219 [==============================] - 6s 28ms/step - loss: 0.0034 - val_loss: 0.0030\n",
      "Epoch 13/20\n",
      "219/219 [==============================] - 6s 29ms/step - loss: 0.0035 - val_loss: 0.0031\n",
      "Epoch 14/20\n",
      "219/219 [==============================] - 6s 27ms/step - loss: 0.0034 - val_loss: 0.0030\n",
      "Epoch 15/20\n",
      "219/219 [==============================] - 7s 31ms/step - loss: 0.0034 - val_loss: 0.0030\n",
      "Epoch 16/20\n",
      "219/219 [==============================] - 7s 32ms/step - loss: 0.0035 - val_loss: 0.0032\n",
      "Epoch 17/20\n",
      "219/219 [==============================] - 6s 28ms/step - loss: 0.0032 - val_loss: 0.0029\n",
      "Epoch 18/20\n",
      "219/219 [==============================] - 6s 29ms/step - loss: 0.0032 - val_loss: 0.0029\n",
      "Epoch 19/20\n",
      "219/219 [==============================] - 6s 28ms/step - loss: 0.0032 - val_loss: 0.0031\n",
      "Epoch 20/20\n",
      "219/219 [==============================] - 6s 28ms/step - loss: 0.0031 - val_loss: 0.0029\n"
     ]
    }
   ],
   "source": [
    "# Fit the Deep RNN\n",
    "# Run 20 epochs (or less depending on your computer's speed)\n",
    "history = model.fit(X_train, y_train, epochs=20,\n",
    "                    validation_data=(X_valid, y_valid))"
   ]
  },
  {
   "cell_type": "markdown",
   "metadata": {
    "state": "normal"
   },
   "source": [
    "Let's create a more efficient version of the Deep RNN above. The last layer above is not ideal because it has a single unit (for forecasting a univariate time series), so this means we have a single output value per time step. But this limits the hidden state to just a single number, which isn't that useful. If we switch to a *Dense* final layer, we can fix this problem, the NN will run faster, and we can also use any output activation function. "
   ]
  },
  {
   "cell_type": "code",
   "execution_count": 69,
   "metadata": {
    "state": "normal"
   },
   "outputs": [
    {
     "name": "stdout",
     "output_type": "stream",
     "text": [
      "Epoch 1/20\n",
      "219/219 [==============================] - 5s 19ms/step - loss: 0.0082 - val_loss: 0.0039\n",
      "Epoch 2/20\n",
      "219/219 [==============================] - 4s 18ms/step - loss: 0.0036 - val_loss: 0.0032\n",
      "Epoch 3/20\n",
      "219/219 [==============================] - 4s 18ms/step - loss: 0.0032 - val_loss: 0.0030\n",
      "Epoch 4/20\n",
      "219/219 [==============================] - 4s 18ms/step - loss: 0.0031 - val_loss: 0.0030\n",
      "Epoch 5/20\n",
      "219/219 [==============================] - 4s 18ms/step - loss: 0.0030 - val_loss: 0.0031\n",
      "Epoch 6/20\n",
      "219/219 [==============================] - 4s 17ms/step - loss: 0.0029 - val_loss: 0.0028\n",
      "Epoch 7/20\n",
      "219/219 [==============================] - 4s 17ms/step - loss: 0.0029 - val_loss: 0.0029\n",
      "Epoch 8/20\n",
      "219/219 [==============================] - 4s 17ms/step - loss: 0.0030 - val_loss: 0.0029\n",
      "Epoch 9/20\n",
      "219/219 [==============================] - 4s 18ms/step - loss: 0.0029 - val_loss: 0.0027\n",
      "Epoch 10/20\n",
      "219/219 [==============================] - 4s 18ms/step - loss: 0.0028 - val_loss: 0.0026\n",
      "Epoch 11/20\n",
      "219/219 [==============================] - 4s 18ms/step - loss: 0.0027 - val_loss: 0.0025\n",
      "Epoch 12/20\n",
      "219/219 [==============================] - 4s 16ms/step - loss: 0.0027 - val_loss: 0.0027\n",
      "Epoch 13/20\n",
      "219/219 [==============================] - 4s 18ms/step - loss: 0.0028 - val_loss: 0.0026\n",
      "Epoch 14/20\n",
      "219/219 [==============================] - 4s 18ms/step - loss: 0.0028 - val_loss: 0.0026\n",
      "Epoch 15/20\n",
      "219/219 [==============================] - 4s 18ms/step - loss: 0.0028 - val_loss: 0.0028\n",
      "Epoch 16/20\n",
      "219/219 [==============================] - 4s 19ms/step - loss: 0.0028 - val_loss: 0.0026\n",
      "Epoch 17/20\n",
      "219/219 [==============================] - 4s 19ms/step - loss: 0.0027 - val_loss: 0.0025\n",
      "Epoch 18/20\n",
      "219/219 [==============================] - 4s 18ms/step - loss: 0.0027 - val_loss: 0.0025\n",
      "Epoch 19/20\n",
      "219/219 [==============================] - 4s 17ms/step - loss: 0.0026 - val_loss: 0.0024\n",
      "Epoch 20/20\n",
      "219/219 [==============================] - 4s 17ms/step - loss: 0.0027 - val_loss: 0.0025\n"
     ]
    }
   ],
   "source": [
    "# Switch to a Dense output layer\n",
    "# It should converge faster and have similar or better performance\n",
    "model = keras.models.Sequential([\n",
    "    keras.layers.SimpleRNN(20, return_sequences=True, input_shape=[None, 1]),\n",
    "    # QUESTION 3: Why do we remove 'return_sequences = True' from this 2nd layer? \n",
    "    keras.layers.SimpleRNN(20),\n",
    "    keras.layers.Dense(1)\n",
    "])\n",
    "\n",
    "model.compile(loss=\"mse\", optimizer=\"adam\")\n",
    "history = model.fit(X_train, y_train, epochs=20,\n",
    "                    validation_data=(X_valid, y_valid))"
   ]
  },
  {
   "cell_type": "markdown",
   "metadata": {
    "state": "normal"
   },
   "source": [
    "Let's predict the future! There's different ways to do this, like predicting one value at a time or predicting the next 10 values all at once. The code below will use our model above to predict the next value, and then add that value into the input (acting like the prediction has actually occurred), and then use the model to predict the next value, and so on. This type of approach is only good for forecasting a few time steps ahead."
   ]
  },
  {
   "cell_type": "code",
   "execution_count": 70,
   "metadata": {
    "state": "normal"
   },
   "outputs": [
    {
     "name": "stdout",
     "output_type": "stream",
     "text": [
      "1/1 [==============================] - 0s 189ms/step\n",
      "1/1 [==============================] - 0s 25ms/step\n",
      "1/1 [==============================] - 0s 26ms/step\n"
     ]
    },
    {
     "name": "stdout",
     "output_type": "stream",
     "text": [
      "1/1 [==============================] - 0s 32ms/step\n",
      "1/1 [==============================] - 0s 27ms/step\n",
      "1/1 [==============================] - 0s 25ms/step\n",
      "1/1 [==============================] - 0s 22ms/step\n",
      "1/1 [==============================] - 0s 28ms/step\n",
      "1/1 [==============================] - 0s 27ms/step\n",
      "1/1 [==============================] - 0s 23ms/step\n"
     ]
    },
    {
     "data": {
      "text/plain": [
       "array([[[ 0.5764298 ],\n",
       "        [ 0.5787717 ],\n",
       "        [ 0.52777237],\n",
       "        [ 0.36197993],\n",
       "        [ 0.16103563],\n",
       "        [-0.06505509],\n",
       "        [-0.27172136],\n",
       "        [-0.41408533],\n",
       "        [-0.49025798],\n",
       "        [-0.50115544]]], dtype=float32)"
      ]
     },
     "execution_count": 70,
     "metadata": {},
     "output_type": "execute_result"
    }
   ],
   "source": [
    "np.random.seed(43) # not 42, as it would give the first series in the training set\n",
    "\n",
    "series = generate_time_series(1, n_steps + 10)\n",
    "X_new, Y_new = series[:, :n_steps], series[:, n_steps:]\n",
    "X = X_new\n",
    "for step_ahead in range(10):\n",
    "    y_pred_one = model.predict(X[:, step_ahead:])[:, np.newaxis, :]\n",
    "    X = np.concatenate([X, y_pred_one], axis=1)\n",
    "\n",
    "Y_pred = X[:, n_steps:]\n",
    "Y_pred"
   ]
  },
  {
   "cell_type": "code",
   "execution_count": 71,
   "metadata": {
    "state": "normal"
   },
   "outputs": [
    {
     "data": {
      "image/png": "[encoded data removed]",
      "text/plain": [
       "<Figure size 640x480 with 1 Axes>"
      ]
     },
     "metadata": {},
     "output_type": "display_data"
    }
   ],
   "source": [
    "# Visualize the predictions\n",
    "def plot_series(series, y=None, y_pred=None, x_label=\"$t$\", y_label=\"$x(t)$\"):\n",
    "    plt.plot(series, \".-\")\n",
    "    if y is not None:\n",
    "        plt.plot(n_steps, y, \"bx\", markersize=10)\n",
    "    if y_pred is not None:\n",
    "        plt.plot(n_steps, y_pred, \"ro\")\n",
    "    plt.grid(True)\n",
    "    if x_label:\n",
    "        plt.xlabel(x_label, fontsize=16)\n",
    "    if y_label:\n",
    "        plt.ylabel(y_label, fontsize=16, rotation=0)\n",
    "    plt.hlines(0, 0, 100, linewidth=1)\n",
    "    plt.axis([0, n_steps + 1, -1, 1])\n",
    "    \n",
    "    \n",
    "def plot_multiple_forecasts(X, Y, Y_pred):\n",
    "    n_steps = X.shape[1]\n",
    "    ahead = Y.shape[1]\n",
    "    plot_series(X[0, :, 0])\n",
    "    plt.plot(np.arange(n_steps, n_steps + ahead), Y[0, :, 0], \"ro-\", label=\"Actual\")\n",
    "    plt.plot(np.arange(n_steps, n_steps + ahead), Y_pred[0, :, 0], \"bx-\", label=\"Forecast\", markersize=10)\n",
    "    plt.axis([0, n_steps + ahead, -1, 1])\n",
    "    plt.legend(fontsize=14)\n",
    "\n",
    "plot_multiple_forecasts(X_new, Y_new, Y_pred)\n",
    "plt.show()"
   ]
  },
  {
   "cell_type": "markdown",
   "metadata": {
    "state": "normal"
   },
   "source": [
    "# Using a Character-RNN to Generate Shakespearean Text\n",
    "In a 2015 blog \"The Unreasonable Effectiveness of Recurrent Neural Networks\", Andrej Karpathy showed how to train an RNN to predict the next character in a sentence. This Char-RNN can be used to generate novel text, one character at a time. \n",
    "\n",
    "## Create Training Dataset\n",
    "Download Shakespeare's work from Karpathy's Char-RNN project. "
   ]
  },
  {
   "cell_type": "code",
   "execution_count": 72,
   "metadata": {
    "state": "normal"
   },
   "outputs": [],
   "source": [
    "shakespeare_url = \"https://raw.githubusercontent.com/karpathy/char-rnn/master/data/tinyshakespeare/input.txt\"\n",
    "filepath = keras.utils.get_file(\"shakespeare.txt\", shakespeare_url)\n",
    "with open(filepath) as f:\n",
    "    shakespeare_text = f.read()"
   ]
  },
  {
   "cell_type": "markdown",
   "metadata": {
    "state": "normal"
   },
   "source": [
    "Next, we have to encode every character as an integer. We'll use Keras' *Tokenizer* class (another option is to create a custom preprocessing layer). This will find all the characters used in the text and map each character to a different character ID, from 1 to the number of unique characters. 0 is reserved for masking. "
   ]
  },
  {
   "cell_type": "code",
   "execution_count": 73,
   "metadata": {
    "state": "normal"
   },
   "outputs": [],
   "source": [
    "# Tokenizer's default is word-level encoding, so need to set char_level\n",
    "# Tokenizer also converts to lowercase by default (set lower=False to change it)\n",
    "tokenizer = keras.preprocessing.text.Tokenizer(char_level=True)\n",
    "tokenizer.fit_on_texts(shakespeare_text)"
   ]
  },
  {
   "cell_type": "code",
   "execution_count": 74,
   "metadata": {
    "state": "normal"
   },
   "outputs": [
    {
     "data": {
      "text/plain": [
       "[[20, 6, 9, 8, 3]]"
      ]
     },
     "execution_count": 74,
     "metadata": {},
     "output_type": "execute_result"
    }
   ],
   "source": [
    "tokenizer.texts_to_sequences([\"First\"])"
   ]
  },
  {
   "cell_type": "code",
   "execution_count": 75,
   "metadata": {
    "state": "normal"
   },
   "outputs": [
    {
     "data": {
      "text/plain": [
       "['f i r s t']"
      ]
     },
     "execution_count": 75,
     "metadata": {},
     "output_type": "execute_result"
    }
   ],
   "source": [
    "tokenizer.sequences_to_texts([[20, 6, 9, 8, 3]])"
   ]
  },
  {
   "cell_type": "code",
   "execution_count": 76,
   "metadata": {
    "state": "normal"
   },
   "outputs": [],
   "source": [
    "# Number of unique characters\n",
    "max_id = len(tokenizer.word_index) \n",
    "# Total number of characters\n",
    "dataset_size = tokenizer.document_count "
   ]
  },
  {
   "cell_type": "code",
   "execution_count": 77,
   "metadata": {
    "state": "normal"
   },
   "outputs": [],
   "source": [
    "# Encode the full text\n",
    "# Subtract 1 to get IDs from 0..38 (instead of 1..39)\n",
    "[encoded] = np.array(tokenizer.texts_to_sequences([shakespeare_text])) - 1"
   ]
  },
  {
   "cell_type": "markdown",
   "metadata": {
    "state": "normal"
   },
   "source": [
    "Next, we need to split the dataset into a training, validation, and test set. But because this is sequential data, we can't just shuffle all the characters in the text. It's important to avoid any overlap between the 3 sets. The typical approach is to take the first 90% of data for training, the next 5% for validation, and the final 5% for testing. For text, it's usually a good idea to leave space between the sets to avoid paragraphs that could overlap any 2 sets. "
   ]
  },
  {
   "cell_type": "code",
   "execution_count": 91,
   "metadata": {
    "state": "normal"
   },
   "outputs": [],
   "source": [
    "# Take the first 90% of data for training\n",
    "# This will be a single sequence of > 1 million characters\n",
    "train_size = dataset_size * 90 // 100\n",
    "dataset = tf.data.Dataset.from_tensor_slices(encoded[:train_size])"
   ]
  },
  {
   "cell_type": "code",
   "execution_count": 92,
   "metadata": {
    "state": "normal"
   },
   "outputs": [],
   "source": [
    "# Use Dataset's window( ) method to convert long character sequence\n",
    "#     into many smaller windows of text\n",
    "# Default is to create nonoverlapping windows\n",
    "# Each window is represented as a Dataset, so it's a nested dataset (~list of lists)\n",
    "n_steps = 100\n",
    "window_length = n_steps + 1 # target = input shifted 1 character ahead\n",
    "dataset = dataset.repeat().window(window_length, shift=1, drop_remainder=True)"
   ]
  },
  {
   "cell_type": "code",
   "execution_count": 93,
   "metadata": {
    "state": "normal"
   },
   "outputs": [],
   "source": [
    "# Cannot use nested dataset directly for training\n",
    "# Model expects tensors (not datasets) as input\n",
    "# flat_map( ): converts nested dataset into a flat dataset\n",
    "# Returns: dataset with consecutive windows of 101 characters each\n",
    "dataset = dataset.flat_map(lambda window: window.batch(window_length))"
   ]
  },
  {
   "cell_type": "code",
   "execution_count": 94,
   "metadata": {
    "state": "normal"
   },
   "outputs": [],
   "source": [
    "# Shuffle the windows (because Gradient Descent works best when training instances are IID)\n",
    "# Batch them & separate the input (first 100 chars) from the target (last char)\n",
    "batch_size = 32\n",
    "dataset = dataset.shuffle(10000).batch(batch_size)\n",
    "dataset = dataset.map(lambda windows: (windows[:, :-1], windows[:, 1:]))"
   ]
  },
  {
   "cell_type": "code",
   "execution_count": 95,
   "metadata": {
    "state": "normal"
   },
   "outputs": [],
   "source": [
    "# Categorical input features should be encoded, usually as a 1-hot vector or embedding\n",
    "# Using 1-hot here because there's only 39 distinct characters\n",
    "dataset = dataset.map(\n",
    "    lambda X_batch, Y_batch: (tf.one_hot(X_batch, depth=max_id), Y_batch))"
   ]
  },
  {
   "cell_type": "code",
   "execution_count": 96,
   "metadata": {
    "state": "normal"
   },
   "outputs": [],
   "source": [
    "# Prefetching\n",
    "dataset = dataset.prefetch(1)"
   ]
  },
  {
   "cell_type": "markdown",
   "metadata": {
    "state": "normal"
   },
   "source": [
    "## Build & Train the Char-RNN Model\n",
    "To predict the next character based on the previous 100 characters, we can use an RNN with 2 GRU layers. Each layer needs 128 neurons/nodes/units each and 20% dropout (to overcome the unstable gradients problem) on both the input and hidden states. These hyperparameters can be fine-tuned through experimentation. In order to use dropout in the hidden layers, you would have to set *recurrent_dropout = 0.2*. However, the GRU class would need the GPU to run recurrent_dropout quickly enough to complete the assignment. \n",
    "\n",
    "Our output layer will be a *Time-Distributed Dense* layer with 39 units because there are 39 distinct characters in our text and we want to output a probability for each possible character at each time step. We'll use the softmax activation function over the output of the Dense layer to make the output probabilities sum to 1 at each time step. "
   ]
  },
  {
   "cell_type": "code",
   "execution_count": 97,
   "metadata": {
    "deletable": false,
    "id": "aged_odin",
    "starter_code": "# Create a Sequential model\n# Layer 1 (Input): GRU, 128 nodes, return_sequences = True, \n#          input_shape is None & the number of unique characters, \n#          droput is 20% (0.2) \n# Layer 2: GRU, 128 nodes, return sequences, 20% dropout\n# Layer 3 (Output): TimeDistributed Dense layer with 39 nodes & softmax activation function\nmodel = keras.models.Sequential([\n    keras.layers.   (, , input_shape=[ , ],),\n    keras.layers.   (, , ),\n    keras.layers.   (keras.layers.   ( , ))\n])\n",
    "state": "graded"
   },
   "outputs": [],
   "source": [
    "# Create a Sequential model\n",
    "# Layer 1 (Input): GRU, 128 nodes, return_sequences = True, \n",
    "#          input_shape is None & the number of unique characters, \n",
    "#          droput is 20% (0.2) \n",
    "# Layer 2: GRU, 128 nodes, return sequences, 20% dropout\n",
    "# Layer 3 (Output): TimeDistributed Dense layer with 39 nodes & softmax activation function\n",
    "model = keras.models.Sequential([\n",
    "    keras.layers.GRU(128, return_sequences=True, input_shape=[None,39], dropout=0.2),\n",
    "    keras.layers.GRU(128, return_sequences=True, dropout=0.2),\n",
    "    keras.layers.TimeDistributed(keras.layers.Dense(39, activation=\"softmax\"))\n",
    "])\n"
   ]
  },
  {
   "cell_type": "code",
   "execution_count": 98,
   "metadata": {
    "deletable": false,
    "id": "sharp_oor",
    "starter_code": "# Compile the model with Sparse Categorical Crossentropy loss function & the Adam optimizer\nmodel.compile( , )\n",
    "state": "graded"
   },
   "outputs": [],
   "source": [
    "# Compile the model with Sparse Categorical Crossentropy loss function & the Adam optimizer\n",
    "model.compile(loss=\"sparse_categorical_crossentropy\", optimizer=\"adam\")"
   ]
  },
  {
   "cell_type": "code",
   "execution_count": 114,
   "metadata": {
    "id": "high_nott",
    "state": "normal"
   },
   "outputs": [],
   "source": [
    "# Fit the model \n",
    "# If you can use a GPU, 10 epochs should take about 1-2 hours\n",
    "# Without a GPU, this could take up to 24 hours\n",
    "# Try running 1 epoch first to see how long it takes & then\n",
    "#     increase the number of epochs (if possible)\n",
    "# 1 epoch took me about 70 minutes to run\n",
    "# history = model.fit(dataset, steps_per_epoch=train_size // batch_size, epochs=1)\n",
    "\n",
    "# # Save the model (So I don't have to run it again)\n",
    "# model.save(\"shakespeare_model.h5\")\n",
    "\n",
    "# Load the model\n",
    "model = keras.models.load_model(\"shakespeare_model.h5\")"
   ]
  },
  {
   "cell_type": "markdown",
   "metadata": {},
   "source": [
    "31370/31370 [==============================] - 298s 10ms/step - loss: 1.6194\n",
    "\n",
    "Epoch 2/10\n",
    "\n",
    "31370/31370 [==============================] - 297s 9ms/step - loss: 1.5387\n",
    "\n",
    "Epoch 3/10\n",
    "\n",
    "31370/31370 [==============================] - 296s 9ms/step - loss: 1.5177\n",
    "\n",
    "Epoch 4/10\n",
    "\n",
    "31370/31370 [==============================] - 294s 9ms/step - loss: 1.5067\n",
    "\n",
    "Epoch 5/10\n",
    "\n",
    "31370/31370 [==============================] - 298s 10ms/step - loss: 1.4997\n",
    "\n",
    "Epoch 6/10\n",
    "\n",
    "31370/31370 [==============================] - 306s 10ms/step - loss: 1.4944\n",
    "\n",
    "Epoch 7/10\n",
    "\n",
    "31370/31370 [==============================] - 305s 10ms/step - loss: 1.4905\n",
    "\n",
    "Epoch 8/10\n",
    "\n",
    "31370/31370 [==============================] - 306s 10ms/step - loss: 1.4873\n",
    "\n",
    "Epoch 9/10\n",
    "\n",
    "31370/31370 [==============================] - 297s 9ms/step - loss: 1.4849\n",
    "\n",
    "Epoch 10/10\n",
    "\n",
    "31370/31370 [==============================] - 295s 9ms/step - loss: 1.4826"
   ]
  },
  {
   "cell_type": "markdown",
   "metadata": {
    "state": "normal"
   },
   "source": [
    "## Using the Char-RNN Model\n",
    "First preprocess the test text. Then use the model to predict the next letter in some text. If you were able to run several epochs, the model should get this prediction (the letter 'u') correct. If you could only run 1 epoch, it will likely be wrong. "
   ]
  },
  {
   "cell_type": "code",
   "execution_count": 115,
   "metadata": {
    "state": "normal"
   },
   "outputs": [
    {
     "data": {
      "text/plain": [
       "'u'"
      ]
     },
     "execution_count": 115,
     "metadata": {},
     "output_type": "execute_result"
    }
   ],
   "source": [
    "def preprocess(texts):\n",
    "    X = np.array(tokenizer.texts_to_sequences(texts)) - 1\n",
    "    return tf.one_hot(X, max_id)\n",
    "\n",
    "X_new = preprocess([\"How are yo\"])\n",
    "Y_pred = np.argmax(model(X_new), axis=-1)\n",
    "tokenizer.sequences_to_texts(Y_pred + 1)[0][-1] # 1st sentence, last char"
   ]
  },
  {
   "cell_type": "code",
   "execution_count": 116,
   "metadata": {
    "state": "normal"
   },
   "outputs": [],
   "source": [
    "# Helper functions for generating text\n",
    "def next_char(text, temperature=1):\n",
    "    X_new = preprocess([text])\n",
    "    y_proba = model(X_new)[0, -1:, :]\n",
    "    rescaled_logits = tf.math.log(y_proba) / temperature\n",
    "    char_id = tf.random.categorical(rescaled_logits, num_samples=1) + 1\n",
    "    return tokenizer.sequences_to_texts(char_id.numpy())[0]\n",
    "\n",
    "def complete_text(text, n_chars=50, temperature=1):\n",
    "    for _ in range(n_chars):\n",
    "        text += next_char(text, temperature)\n",
    "    return text"
   ]
  },
  {
   "cell_type": "code",
   "execution_count": 117,
   "metadata": {
    "state": "normal"
   },
   "outputs": [
    {
     "name": "stdout",
     "output_type": "stream",
     "text": [
      "the belly.\n",
      "\n",
      "menenius:\n",
      "what was the world, the belly\n",
      "tiseast, and that there toughter\n",
      "unshall no happy-c\n",
      "t gran devirtegner's:\n",
      "and eyll  to thoubit to\n",
      "her;'\n"
     ]
    }
   ],
   "source": [
    "# Test generating text\n",
    "print(complete_text(\"t\", temperature=0.2))\n",
    "print(complete_text(\"t\", temperature=1))\n",
    "print(complete_text(\"t\", temperature=2))"
   ]
  },
  {
   "cell_type": "code",
   "execution_count": null,
   "metadata": {
    "deletable": false,
    "id": "gray_thor",
    "starter_code": "# QUESTION 1: why do you think this is the case? (\n# QUESTION 2: Why do we use 'return_sequences = True' in the previous layers, but not the output layer? \n# QUESTION 3: Why do we remove 'return_sequences = True' from this 2nd layer? \n",
    "state": "graded"
   },
   "outputs": [],
   "source": [
    "# QUESTION 1: Why do you think this is the case? \n",
    "# QUESTION 2: Why do we use 'return_sequences = True' in the previous layers, but not the output layer? \n",
    "# QUESTION 3: Why do we remove 'return_sequences = True' from this 2nd layer? \n"
   ]
  },
  {
   "cell_type": "markdown",
   "metadata": {
    "state": "normal"
   },
   "source": [
    "To generate better text, you could add more GRU layers, more neurons per layer, train for more epochs, or add regularization (e.g., recurrent_dropout = 0.3). You could also increase the window size, but that would make training harder and LSTM/GRU can't handle very long sequences. "
   ]
  }
 ],
 "metadata": {
  "kernelspec": {
   "display_name": "condaVenv",
   "language": "python",
   "name": "python3"
  },
  "language_info": {
   "codemirror_mode": {
    "name": "ipython",
    "version": 3
   },
   "file_extension": ".py",
   "mimetype": "text/x-python",
   "name": "python",
   "nbconvert_exporter": "python",
   "pygments_lexer": "ipython3",
   "version": "3.10.11"
  },
  "mimir": {
   "data": {},
   "last_submission_id": "",
   "project_id": "a23072c1-4258-41bd-802d-2f0fe7106bb7"
  },
  "varInspector": {
   "cols": {
    "lenName": 16,
    "lenType": 16,
    "lenVar": 40
   },
   "kernels_config": {
    "python": {
     "delete_cmd_postfix": "",
     "delete_cmd_prefix": "del ",
     "library": "var_list.py",
     "varRefreshCmd": "print(var_dic_list())"
    },
    "r": {
     "delete_cmd_postfix": ") ",
     "delete_cmd_prefix": "rm(",
     "library": "var_list.r",
     "varRefreshCmd": "cat(var_dic_list()) "
    }
   },
   "types_to_exclude": [
    "module",
    "function",
    "builtin_function_or_method",
    "instance",
    "_Feature"
   ],
   "window_display": false
  }
 },
 "nbformat": 4,
 "nbformat_minor": 2
}
