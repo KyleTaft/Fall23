{
 "cells": [
  {
   "cell_type": "markdown",
   "metadata": {
    "state": "normal"
   },
   "source": [
    "# Linear Regression\n",
    "\n",
    "### Recap\n",
    "A linear model makes a prediction by computing a weighted sum of the input features and a constant (bias).    \n",
    "Basic linear regression model: $\\hat{y}$ = $\\theta$<sub>0</sub> + $\\theta$<sub>1</sub>x<sub>1</sub> + $\\theta$<sub>2</sub>x<sub>2</sub> + ... + $\\theta$<sub>n</sub>x<sub>n</sub>    \n",
    "* $\\hat{y}$ is the predicted value   \n",
    "* n is the number of features\n",
    "* x<sub>i</sub> is the i<sup>th</sup> feature value\n",
    "* $\\theta$<sub>j</sub> is the j<sup>th</sup> model parameter ($\\theta$<sub>0</sub> is the bias term; $\\theta$<sub>1</sub> .. $\\theta$<sub>n</sub> are the feature weights)   \n",
    "\n",
    "Using linear algebra we can work with this equation in its closed form solution (also called normal equation). Recall the closed form solution for linear regression from class: w* = (X<sup>T</sup>X)<sup>-1</sup> X<sup>T</sup>y\n",
    "\n",
    "We can think of the weights (w*) as the general parameter, $\\theta$: $\\hat{\\theta}$ = (X<sup>T</sup>X)<sup>-1</sup> X<sup>T</sup>y\n",
    "\n",
    "$\\hat{\\theta}$ is the values of $\\theta$ that minimizes the cost function    \n",
    "y is the target vector (i.e., labels or actual y values) \n"
   ]
  },
  {
   "cell_type": "markdown",
   "metadata": {
    "state": "normal"
   },
   "source": [
    "### Part 1: Closed Form Solution"
   ]
  },
  {
   "cell_type": "code",
   "execution_count": 2,
   "metadata": {
    "deletable": false,
    "editable": false,
    "id": "stoic_sol",
    "state": "read_only"
   },
   "outputs": [],
   "source": [
    "# Import packages\n",
    "import numpy as np\n",
    "import sklearn"
   ]
  },
  {
   "cell_type": "code",
   "execution_count": 3,
   "metadata": {
    "id": "high_ran",
    "state": "normal"
   },
   "outputs": [],
   "source": [
    "# For plots\n",
    "%matplotlib inline\n",
    "import matplotlib as mpl\n",
    "import matplotlib.pyplot as plt\n",
    "mpl.rc('axes', labelsize=14)\n",
    "mpl.rc('xtick', labelsize=12)\n",
    "mpl.rc('ytick', labelsize=12)"
   ]
  },
  {
   "cell_type": "code",
   "execution_count": 4,
   "metadata": {
    "deletable": false,
    "editable": false,
    "id": "sharp_hel",
    "state": "read_only"
   },
   "outputs": [],
   "source": [
    "# Create linear-like data to test first equation\n",
    "X = 2 * np.random.rand(100, 1)\n",
    "\n",
    "# Function for generating data: y = 4 + 3x_1 + Gaussian noise\n",
    "# So theta0 = 4 & theta1 = 3\n",
    "y = 4 + 3 * X + np.random.randn(100, 1)"
   ]
  },
  {
   "cell_type": "code",
   "execution_count": 5,
   "metadata": {
    "id": "green_odin",
    "state": "normal"
   },
   "outputs": [
    {
     "data": {
      "image/png": "[encoded data removed]",
      "text/plain": [
       "<Figure size 640x480 with 1 Axes>"
      ]
     },
     "metadata": {},
     "output_type": "display_data"
    }
   ],
   "source": [
    "# Visualize dataset \n",
    "plt.plot(X, y, \"b.\")\n",
    "plt.xlabel(\"$x_1$\", fontsize=18)\n",
    "plt.ylabel(\"$y$\", rotation=0, fontsize=18)\n",
    "plt.axis([0, 2, 0, 15])\n",
    "plt.show()"
   ]
  },
  {
   "cell_type": "code",
   "execution_count": 6,
   "metadata": {
    "deletable": false,
    "editable": false,
    "id": "sly_hel",
    "state": "read_only"
   },
   "outputs": [],
   "source": [
    "# Add x0 = 1 to each instance\n",
    "X2 = np.c_[np.ones((100, 1)), X]"
   ]
  },
  {
   "cell_type": "code",
   "execution_count": 14,
   "metadata": {
    "deletable": false,
    "id": "big_oor",
    "starter_code": "# Use linalg inv & dot to calculate the closed form solution with X2 & y\ntheta_hat = ",
    "state": "graded"
   },
   "outputs": [],
   "source": [
    "# Use linalg inv & dot to calculate the closed form solution with X2 & y\n",
    "theta_hat = np.dot(np.dot(np.linalg.inv(np.dot(X2.T,X2)),X2.T),y)"
   ]
  },
  {
   "cell_type": "code",
   "execution_count": 15,
   "metadata": {
    "state": "normal"
   },
   "outputs": [
    {
     "data": {
      "text/plain": [
       "array([[3.79199136],\n",
       "       [3.1938111 ]])"
      ]
     },
     "execution_count": 15,
     "metadata": {},
     "output_type": "execute_result"
    }
   ],
   "source": [
    "# Print theta_hat\n",
    "theta_hat "
   ]
  },
  {
   "cell_type": "code",
   "execution_count": 45,
   "metadata": {
    "id": "gray_vali",
    "starter_code": "# TODO: Answer in the comments\n# theta_hat should print values around [4.3, 2.8]-ish\n# But theta0 = 4 & theta1 = 3\n# Why couldn't we recover the exact parameters of our original function?\n# Your answer: ",
    "state": "normal"
   },
   "outputs": [],
   "source": [
    "# TODO: Answer in the comments\n",
    "# theta_hat should print values around [4.3, 2.8]-ish\n",
    "# But theta0 = 4 & theta1 = 3\n",
    "# Why couldn't we recover the exact parameters of our original function?\n",
    "# Your answer: Because the data is noisy so it isn't an exact linear function"
   ]
  },
  {
   "cell_type": "code",
   "execution_count": 21,
   "metadata": {
    "deletable": false,
    "id": "fit_loki",
    "starter_code": "# Task of the next 3 cells: Make a prediction using theta_hat\n# Create a new dataset (what dimensions should it be?)\nX_new = \n",
    "state": "graded"
   },
   "outputs": [],
   "source": [
    "# Task of the next 3 cells: Make a prediction using theta_hat\n",
    "# Create a new dataset (what dimensions should it be?)\n",
    "X_new = 2* np.random.rand(100, 1)\n"
   ]
  },
  {
   "cell_type": "code",
   "execution_count": 22,
   "metadata": {
    "deletable": false,
    "id": "calm_magni",
    "starter_code": "# Add x0 = 1 to each instance\nX_new2 = ",
    "state": "graded"
   },
   "outputs": [],
   "source": [
    "# Add x0 = 1 to each instance\n",
    "X_new2 = np.c_[np.ones((100, 1)), X_new]"
   ]
  },
  {
   "cell_type": "code",
   "execution_count": 23,
   "metadata": {
    "deletable": false,
    "id": "red_sol",
    "starter_code": "# Use your model to make a prediction on your new dataset\ny_predict = ",
    "state": "graded"
   },
   "outputs": [],
   "source": [
    "# Use your model to make a prediction on your new dataset\n",
    "y_predict = np.dot(X_new2, theta_hat)"
   ]
  },
  {
   "cell_type": "code",
   "execution_count": 24,
   "metadata": {
    "state": "normal"
   },
   "outputs": [
    {
     "data": {
      "text/plain": [
       "array([[ 4.0613925 ],\n",
       "       [ 5.99261519],\n",
       "       [ 8.00626474],\n",
       "       [ 9.41319755],\n",
       "       [ 4.7863839 ],\n",
       "       [ 6.9186336 ],\n",
       "       [ 3.79366866],\n",
       "       [ 4.50893977],\n",
       "       [ 5.9324085 ],\n",
       "       [10.06985859],\n",
       "       [ 4.74813008],\n",
       "       [ 5.67401671],\n",
       "       [ 5.50852584],\n",
       "       [ 7.39502199],\n",
       "       [ 5.26643076],\n",
       "       [ 7.02693145],\n",
       "       [ 8.01555248],\n",
       "       [ 9.97928217],\n",
       "       [ 7.60897187],\n",
       "       [ 4.25985496],\n",
       "       [ 9.66724226],\n",
       "       [ 6.84585079],\n",
       "       [ 5.85784281],\n",
       "       [ 5.21105564],\n",
       "       [ 4.18692653],\n",
       "       [ 8.97262087],\n",
       "       [ 9.80243473],\n",
       "       [ 7.81468333],\n",
       "       [ 8.72483736],\n",
       "       [10.10652677],\n",
       "       [ 6.46217675],\n",
       "       [ 5.227415  ],\n",
       "       [ 7.97964951],\n",
       "       [ 9.46976905],\n",
       "       [ 5.31523884],\n",
       "       [ 5.74532714],\n",
       "       [ 4.76982065],\n",
       "       [ 7.13305529],\n",
       "       [ 8.50845008],\n",
       "       [ 7.78953613],\n",
       "       [ 7.22618786],\n",
       "       [ 5.32179053],\n",
       "       [ 5.3503831 ],\n",
       "       [ 4.04665159],\n",
       "       [ 6.87188379],\n",
       "       [ 4.64587214],\n",
       "       [ 7.35766589],\n",
       "       [ 4.41012889],\n",
       "       [ 4.89183122],\n",
       "       [ 4.23382443],\n",
       "       [ 8.04379714],\n",
       "       [ 5.08179861],\n",
       "       [ 6.88074101],\n",
       "       [10.13693208],\n",
       "       [ 7.79975429],\n",
       "       [ 8.69794175],\n",
       "       [ 7.10330344],\n",
       "       [ 8.87598727],\n",
       "       [ 7.67015248],\n",
       "       [10.06140037],\n",
       "       [ 7.02950894],\n",
       "       [ 5.53814093],\n",
       "       [ 6.18754771],\n",
       "       [ 6.60407535],\n",
       "       [ 7.52300579],\n",
       "       [ 6.10339582],\n",
       "       [ 6.25073531],\n",
       "       [ 8.02270761],\n",
       "       [ 8.07215402],\n",
       "       [ 9.04306688],\n",
       "       [ 4.92639649],\n",
       "       [ 9.92377358],\n",
       "       [ 7.59662193],\n",
       "       [ 9.92817183],\n",
       "       [10.13860145],\n",
       "       [ 8.26342995],\n",
       "       [ 5.00149932],\n",
       "       [ 9.53901042],\n",
       "       [ 9.6806811 ],\n",
       "       [ 8.63606506],\n",
       "       [ 4.33733394],\n",
       "       [ 6.35506505],\n",
       "       [10.06260369],\n",
       "       [ 8.28794405],\n",
       "       [ 9.2444553 ],\n",
       "       [ 8.32988164],\n",
       "       [ 5.5626851 ],\n",
       "       [ 9.90439534],\n",
       "       [ 9.81194384],\n",
       "       [ 6.73482988],\n",
       "       [ 7.73397447],\n",
       "       [ 9.97584134],\n",
       "       [ 5.38774412],\n",
       "       [ 4.5094034 ],\n",
       "       [ 7.48170759],\n",
       "       [ 9.53765125],\n",
       "       [ 7.7689246 ],\n",
       "       [ 5.38769809],\n",
       "       [ 5.40438754],\n",
       "       [ 7.1863702 ]])"
      ]
     },
     "execution_count": 24,
     "metadata": {},
     "output_type": "execute_result"
    }
   ],
   "source": [
    "# Print y_predict\n",
    "y_predict"
   ]
  },
  {
   "cell_type": "code",
   "execution_count": 25,
   "metadata": {
    "id": "big_thor",
    "starter_code": "# Plot your new model's predictions\n# You should see a red line falling mostly in the middle of the blue data points\nplt.plot( , , \"r-\")\n\n# Plots the original data\nplt.plot(X, y, \"b.\")\nplt.axis([0, 2, 0, 15])\nplt.show( )",
    "state": "normal"
   },
   "outputs": [
    {
     "data": {
      "image/png": "[encoded data removed]",
      "text/plain": [
       "<Figure size 640x480 with 1 Axes>"
      ]
     },
     "metadata": {},
     "output_type": "display_data"
    }
   ],
   "source": [
    "# Plot your new model's predictions\n",
    "# You should see a red line falling mostly in the middle of the blue data points\n",
    "plt.plot(X_new, y_predict, \"r-\")\n",
    "\n",
    "# Plots the original data\n",
    "plt.plot(X, y, \"b.\")\n",
    "plt.axis([0, 2, 0, 15])\n",
    "plt.show( )"
   ]
  },
  {
   "cell_type": "markdown",
   "metadata": {
    "state": "normal"
   },
   "source": [
    "### Part 2: Using Scikit-Learn\n",
    "Scikit-Learn's LinearRegression class is based on scipy.linalg.lstsq() (Least Squares). "
   ]
  },
  {
   "cell_type": "code",
   "execution_count": 28,
   "metadata": {
    "deletable": false,
    "id": "red_ran",
    "starter_code": "# Import the LinearRegression class\nfrom sklearn.",
    "state": "graded"
   },
   "outputs": [],
   "source": [
    "# Import the LinearRegression class\n",
    "from sklearn.linear_model import LinearRegression"
   ]
  },
  {
   "cell_type": "code",
   "execution_count": 29,
   "metadata": {
    "deletable": false,
    "id": "stoic_loki",
    "starter_code": "# Create a LinearRegression instance\nlin_reg = ",
    "state": "graded"
   },
   "outputs": [],
   "source": [
    "# Create a LinearRegression instance\n",
    "lin_reg = LinearRegression()"
   ]
  },
  {
   "cell_type": "code",
   "execution_count": 30,
   "metadata": {
    "deletable": false,
    "id": "sly_boi",
    "starter_code": "# Fit your model\n# NOTE: there is a bug in Windows for this method\n# If you get this error: ValueError: illegal value in 4th argument of internal None\n# Go to the previous cell and create your class instance with the argument: normalize = True\n",
    "state": "graded"
   },
   "outputs": [
    {
     "data": {
      "text/html": [
       "<style>#sk-container-id-1 {color: black;}#sk-container-id-1 pre{padding: 0;}#sk-container-id-1 div.sk-toggleable {background-color: white;}#sk-container-id-1 label.sk-toggleable__label {cursor: pointer;display: block;width: 100%;margin-bottom: 0;padding: 0.3em;box-sizing: border-box;text-align: center;}#sk-container-id-1 label.sk-toggleable__label-arrow:before {content: \"▸\";float: left;margin-right: 0.25em;color: #696969;}#sk-container-id-1 label.sk-toggleable__label-arrow:hover:before {color: black;}#sk-container-id-1 div.sk-estimator:hover label.sk-toggleable__label-arrow:before {color: black;}#sk-container-id-1 div.sk-toggleable__content {max-height: 0;max-width: 0;overflow: hidden;text-align: left;background-color: #f0f8ff;}#sk-container-id-1 div.sk-toggleable__content pre {margin: 0.2em;color: black;border-radius: 0.25em;background-color: #f0f8ff;}#sk-container-id-1 input.sk-toggleable__control:checked~div.sk-toggleable__content {max-height: 200px;max-width: 100%;overflow: auto;}#sk-container-id-1 input.sk-toggleable__control:checked~label.sk-toggleable__label-arrow:before {content: \"▾\";}#sk-container-id-1 div.sk-estimator input.sk-toggleable__control:checked~label.sk-toggleable__label {background-color: #d4ebff;}#sk-container-id-1 div.sk-label input.sk-toggleable__control:checked~label.sk-toggleable__label {background-color: #d4ebff;}#sk-container-id-1 input.sk-hidden--visually {border: 0;clip: rect(1px 1px 1px 1px);clip: rect(1px, 1px, 1px, 1px);height: 1px;margin: -1px;overflow: hidden;padding: 0;position: absolute;width: 1px;}#sk-container-id-1 div.sk-estimator {font-family: monospace;background-color: #f0f8ff;border: 1px dotted black;border-radius: 0.25em;box-sizing: border-box;margin-bottom: 0.5em;}#sk-container-id-1 div.sk-estimator:hover {background-color: #d4ebff;}#sk-container-id-1 div.sk-parallel-item::after {content: \"\";width: 100%;border-bottom: 1px solid gray;flex-grow: 1;}#sk-container-id-1 div.sk-label:hover label.sk-toggleable__label {background-color: #d4ebff;}#sk-container-id-1 div.sk-serial::before {content: \"\";position: absolute;border-left: 1px solid gray;box-sizing: border-box;top: 0;bottom: 0;left: 50%;z-index: 0;}#sk-container-id-1 div.sk-serial {display: flex;flex-direction: column;align-items: center;background-color: white;padding-right: 0.2em;padding-left: 0.2em;position: relative;}#sk-container-id-1 div.sk-item {position: relative;z-index: 1;}#sk-container-id-1 div.sk-parallel {display: flex;align-items: stretch;justify-content: center;background-color: white;position: relative;}#sk-container-id-1 div.sk-item::before, #sk-container-id-1 div.sk-parallel-item::before {content: \"\";position: absolute;border-left: 1px solid gray;box-sizing: border-box;top: 0;bottom: 0;left: 50%;z-index: -1;}#sk-container-id-1 div.sk-parallel-item {display: flex;flex-direction: column;z-index: 1;position: relative;background-color: white;}#sk-container-id-1 div.sk-parallel-item:first-child::after {align-self: flex-end;width: 50%;}#sk-container-id-1 div.sk-parallel-item:last-child::after {align-self: flex-start;width: 50%;}#sk-container-id-1 div.sk-parallel-item:only-child::after {width: 0;}#sk-container-id-1 div.sk-dashed-wrapped {border: 1px dashed gray;margin: 0 0.4em 0.5em 0.4em;box-sizing: border-box;padding-bottom: 0.4em;background-color: white;}#sk-container-id-1 div.sk-label label {font-family: monospace;font-weight: bold;display: inline-block;line-height: 1.2em;}#sk-container-id-1 div.sk-label-container {text-align: center;}#sk-container-id-1 div.sk-container {/* jupyter's `normalize.less` sets `[hidden] { display: none; }` but bootstrap.min.css set `[hidden] { display: none !important; }` so we also need the `!important` here to be able to override the default hidden behavior on the sphinx rendered scikit-learn.org. See: https://github.com/scikit-learn/scikit-learn/issues/21755 */display: inline-block !important;position: relative;}#sk-container-id-1 div.sk-text-repr-fallback {display: none;}</style><div id=\"sk-container-id-1\" class=\"sk-top-container\"><div class=\"sk-text-repr-fallback\"><pre>LinearRegression()</pre><b>In a Jupyter environment, please rerun this cell to show the HTML representation or trust the notebook. <br />On GitHub, the HTML representation is unable to render, please try loading this page with nbviewer.org.</b></div><div class=\"sk-container\" hidden><div class=\"sk-item\"><div class=\"sk-estimator sk-toggleable\"><input class=\"sk-toggleable__control sk-hidden--visually\" id=\"sk-estimator-id-1\" type=\"checkbox\" checked><label for=\"sk-estimator-id-1\" class=\"sk-toggleable__label sk-toggleable__label-arrow\">LinearRegression</label><div class=\"sk-toggleable__content\"><pre>LinearRegression()</pre></div></div></div></div></div>"
      ],
      "text/plain": [
       "LinearRegression()"
      ]
     },
     "execution_count": 30,
     "metadata": {},
     "output_type": "execute_result"
    }
   ],
   "source": [
    "# Fit your model\n",
    "# NOTE: there is a bug in Windows for this method\n",
    "# If you get this error: ValueError: illegal value in 4th argument of internal None\n",
    "# Go to the previous cell and create your class instance with the argument: normalize = True\n",
    "lin_reg.fit(X, y)"
   ]
  },
  {
   "cell_type": "code",
   "execution_count": 31,
   "metadata": {
    "deletable": false,
    "id": "red_odin",
    "scrolled": true,
    "starter_code": "# Print the intercept of your model\n",
    "state": "graded"
   },
   "outputs": [
    {
     "data": {
      "text/plain": [
       "array([3.79199136])"
      ]
     },
     "execution_count": 31,
     "metadata": {},
     "output_type": "execute_result"
    }
   ],
   "source": [
    "# Print the intercept of your model\n",
    "lin_reg.intercept_"
   ]
  },
  {
   "cell_type": "code",
   "execution_count": 32,
   "metadata": {
    "deletable": false,
    "id": "big_ran",
    "starter_code": "# Print the estimated coefficients of your model\n",
    "state": "graded"
   },
   "outputs": [
    {
     "data": {
      "text/plain": [
       "array([[3.1938111]])"
      ]
     },
     "execution_count": 32,
     "metadata": {},
     "output_type": "execute_result"
    }
   ],
   "source": [
    "# Print the estimated coefficients of your model\n",
    "lin_reg.coef_"
   ]
  },
  {
   "cell_type": "code",
   "execution_count": 34,
   "metadata": {
    "deletable": false,
    "id": "red_saga",
    "starter_code": "# Use your model to make a prediction on X_new\n# Don't need to answer: are your results similar to y_predict?\n",
    "state": "graded"
   },
   "outputs": [],
   "source": [
    "# Use your model to make a prediction on X_new\n",
    "# Are your results similar to y_predict?\n",
    "\n",
    "\n",
    "new_preds = lin_reg.predict(X_new)"
   ]
  },
  {
   "cell_type": "code",
   "execution_count": 37,
   "metadata": {},
   "outputs": [
    {
     "data": {
      "image/png": "[encoded data removed]",
      "text/plain": [
       "<Figure size 640x480 with 1 Axes>"
      ]
     },
     "metadata": {},
     "output_type": "display_data"
    }
   ],
   "source": [
    "##### The result are almost identical\n",
    "plt.plot(X_new, y_predict, \"r-\", label=\"Predictions\")\n",
    "plt.plot(X_new, new_preds, \"g-\", label=\"New Predictions\")\n",
    "\n",
    "# Plots the original data\n",
    "plt.plot(X, y, \"b.\")\n",
    "plt.axis([0, 2, 0, 15])\n",
    "plt.show( )"
   ]
  },
  {
   "cell_type": "markdown",
   "metadata": {
    "state": "normal"
   },
   "source": [
    "### Part3: Stochastic Gradient Descent"
   ]
  },
  {
   "cell_type": "code",
   "execution_count": 38,
   "metadata": {
    "deletable": false,
    "id": "aged_sol",
    "starter_code": "# Import the SGDRegressor class\nfrom sklearn.",
    "state": "graded"
   },
   "outputs": [],
   "source": [
    "# Import the SGDRegressor class\n",
    "from sklearn.linear_model import SGDRegressor"
   ]
  },
  {
   "cell_type": "code",
   "execution_count": 62,
   "metadata": {
    "deletable": false,
    "id": "eager_mimir",
    "starter_code": "# Create an SGDRegressor with\n# Maximum number of iterations = 1000\n# Training stopping criterion of 1e-3 \n# Ridge regularization term\n# Initial learning rate of 0.001\nsgd_reg = ",
    "state": "graded"
   },
   "outputs": [],
   "source": [
    "# Create an SGDRegressor with\n",
    "# Maximum number of iterations = 1000\n",
    "# Training stopping criterion of 1e-3 \n",
    "# Ridge regularization term\n",
    "# Initial learning rate of 0.001\n",
    "sgd_reg = SGDRegressor(max_iter=1000, tol=1e-3, penalty=\"l2\", eta0=0.001)"
   ]
  },
  {
   "cell_type": "code",
   "execution_count": 63,
   "metadata": {
    "deletable": false,
    "id": "gray_odin",
    "starter_code": "# Fit the model \n",
    "state": "graded"
   },
   "outputs": [
    {
     "data": {
      "text/html": [
       "<style>#sk-container-id-9 {color: black;}#sk-container-id-9 pre{padding: 0;}#sk-container-id-9 div.sk-toggleable {background-color: white;}#sk-container-id-9 label.sk-toggleable__label {cursor: pointer;display: block;width: 100%;margin-bottom: 0;padding: 0.3em;box-sizing: border-box;text-align: center;}#sk-container-id-9 label.sk-toggleable__label-arrow:before {content: \"▸\";float: left;margin-right: 0.25em;color: #696969;}#sk-container-id-9 label.sk-toggleable__label-arrow:hover:before {color: black;}#sk-container-id-9 div.sk-estimator:hover label.sk-toggleable__label-arrow:before {color: black;}#sk-container-id-9 div.sk-toggleable__content {max-height: 0;max-width: 0;overflow: hidden;text-align: left;background-color: #f0f8ff;}#sk-container-id-9 div.sk-toggleable__content pre {margin: 0.2em;color: black;border-radius: 0.25em;background-color: #f0f8ff;}#sk-container-id-9 input.sk-toggleable__control:checked~div.sk-toggleable__content {max-height: 200px;max-width: 100%;overflow: auto;}#sk-container-id-9 input.sk-toggleable__control:checked~label.sk-toggleable__label-arrow:before {content: \"▾\";}#sk-container-id-9 div.sk-estimator input.sk-toggleable__control:checked~label.sk-toggleable__label {background-color: #d4ebff;}#sk-container-id-9 div.sk-label input.sk-toggleable__control:checked~label.sk-toggleable__label {background-color: #d4ebff;}#sk-container-id-9 input.sk-hidden--visually {border: 0;clip: rect(1px 1px 1px 1px);clip: rect(1px, 1px, 1px, 1px);height: 1px;margin: -1px;overflow: hidden;padding: 0;position: absolute;width: 1px;}#sk-container-id-9 div.sk-estimator {font-family: monospace;background-color: #f0f8ff;border: 1px dotted black;border-radius: 0.25em;box-sizing: border-box;margin-bottom: 0.5em;}#sk-container-id-9 div.sk-estimator:hover {background-color: #d4ebff;}#sk-container-id-9 div.sk-parallel-item::after {content: \"\";width: 100%;border-bottom: 1px solid gray;flex-grow: 1;}#sk-container-id-9 div.sk-label:hover label.sk-toggleable__label {background-color: #d4ebff;}#sk-container-id-9 div.sk-serial::before {content: \"\";position: absolute;border-left: 1px solid gray;box-sizing: border-box;top: 0;bottom: 0;left: 50%;z-index: 0;}#sk-container-id-9 div.sk-serial {display: flex;flex-direction: column;align-items: center;background-color: white;padding-right: 0.2em;padding-left: 0.2em;position: relative;}#sk-container-id-9 div.sk-item {position: relative;z-index: 1;}#sk-container-id-9 div.sk-parallel {display: flex;align-items: stretch;justify-content: center;background-color: white;position: relative;}#sk-container-id-9 div.sk-item::before, #sk-container-id-9 div.sk-parallel-item::before {content: \"\";position: absolute;border-left: 1px solid gray;box-sizing: border-box;top: 0;bottom: 0;left: 50%;z-index: -1;}#sk-container-id-9 div.sk-parallel-item {display: flex;flex-direction: column;z-index: 1;position: relative;background-color: white;}#sk-container-id-9 div.sk-parallel-item:first-child::after {align-self: flex-end;width: 50%;}#sk-container-id-9 div.sk-parallel-item:last-child::after {align-self: flex-start;width: 50%;}#sk-container-id-9 div.sk-parallel-item:only-child::after {width: 0;}#sk-container-id-9 div.sk-dashed-wrapped {border: 1px dashed gray;margin: 0 0.4em 0.5em 0.4em;box-sizing: border-box;padding-bottom: 0.4em;background-color: white;}#sk-container-id-9 div.sk-label label {font-family: monospace;font-weight: bold;display: inline-block;line-height: 1.2em;}#sk-container-id-9 div.sk-label-container {text-align: center;}#sk-container-id-9 div.sk-container {/* jupyter's `normalize.less` sets `[hidden] { display: none; }` but bootstrap.min.css set `[hidden] { display: none !important; }` so we also need the `!important` here to be able to override the default hidden behavior on the sphinx rendered scikit-learn.org. See: https://github.com/scikit-learn/scikit-learn/issues/21755 */display: inline-block !important;position: relative;}#sk-container-id-9 div.sk-text-repr-fallback {display: none;}</style><div id=\"sk-container-id-9\" class=\"sk-top-container\"><div class=\"sk-text-repr-fallback\"><pre>SGDRegressor(eta0=0.001)</pre><b>In a Jupyter environment, please rerun this cell to show the HTML representation or trust the notebook. <br />On GitHub, the HTML representation is unable to render, please try loading this page with nbviewer.org.</b></div><div class=\"sk-container\" hidden><div class=\"sk-item\"><div class=\"sk-estimator sk-toggleable\"><input class=\"sk-toggleable__control sk-hidden--visually\" id=\"sk-estimator-id-9\" type=\"checkbox\" checked><label for=\"sk-estimator-id-9\" class=\"sk-toggleable__label sk-toggleable__label-arrow\">SGDRegressor</label><div class=\"sk-toggleable__content\"><pre>SGDRegressor(eta0=0.001)</pre></div></div></div></div></div>"
      ],
      "text/plain": [
       "SGDRegressor(eta0=0.001)"
      ]
     },
     "execution_count": 63,
     "metadata": {},
     "output_type": "execute_result"
    }
   ],
   "source": [
    "# Fit the model \n",
    "sgd_reg.fit(X, y.ravel()) # y needs to be a 1d array"
   ]
  },
  {
   "cell_type": "code",
   "execution_count": 64,
   "metadata": {
    "deletable": false,
    "id": "able_vali",
    "starter_code": "# Print the intercept\n",
    "state": "graded"
   },
   "outputs": [
    {
     "data": {
      "text/plain": [
       "array([3.19102324])"
      ]
     },
     "execution_count": 64,
     "metadata": {},
     "output_type": "execute_result"
    }
   ],
   "source": [
    "# Print the intercept\n",
    "sgd_reg.intercept_\n"
   ]
  },
  {
   "cell_type": "code",
   "execution_count": 65,
   "metadata": {
    "deletable": false,
    "id": "spicy_nott",
    "starter_code": "# Print the estimated coefficients\n",
    "state": "graded"
   },
   "outputs": [
    {
     "data": {
      "text/plain": [
       "array([3.53451903])"
      ]
     },
     "execution_count": 65,
     "metadata": {},
     "output_type": "execute_result"
    }
   ],
   "source": [
    "# Print the estimated coefficients\n",
    "sgd_reg.coef_"
   ]
  },
  {
   "cell_type": "markdown",
   "metadata": {
    "state": "normal"
   },
   "source": [
    "The intercept and coefficient should be close to the values of $\\hat{\\theta}$ found by the closed form solution in Part 1. If they're not, you can change the regularization and learning rate until you find values that work better. "
   ]
  }
 ],
 "metadata": {
  "kernelspec": {
   "display_name": "Python 3",
   "language": "python",
   "name": "python3"
  },
  "language_info": {
   "codemirror_mode": {
    "name": "ipython",
    "version": 3
   },
   "file_extension": ".py",
   "mimetype": "text/x-python",
   "name": "python",
   "nbconvert_exporter": "python",
   "pygments_lexer": "ipython3",
   "version": "3.10.11"
  },
  "mimir": {
   "data": {},
   "last_submission_id": "",
   "project_id": "dfd2074c-02bf-4aac-8aa5-af16de004f02"
  },
  "varInspector": {
   "cols": {
    "lenName": 16,
    "lenType": 16,
    "lenVar": 40
   },
   "kernels_config": {
    "python": {
     "delete_cmd_postfix": "",
     "delete_cmd_prefix": "del ",
     "library": "var_list.py",
     "varRefreshCmd": "print(var_dic_list())"
    },
    "r": {
     "delete_cmd_postfix": ") ",
     "delete_cmd_prefix": "rm(",
     "library": "var_list.r",
     "varRefreshCmd": "cat(var_dic_list()) "
    }
   },
   "types_to_exclude": [
    "module",
    "function",
    "builtin_function_or_method",
    "instance",
    "_Feature"
   ],
   "window_display": false
  }
 },
 "nbformat": 4,
 "nbformat_minor": 2
}
