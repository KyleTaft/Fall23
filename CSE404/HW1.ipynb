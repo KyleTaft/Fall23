{
 "cells": [
  {
   "cell_type": "code",
   "execution_count": 1,
   "metadata": {},
   "outputs": [
    {
     "name": "stdout",
     "output_type": "stream",
     "text": [
      "[[-0.49079864 -0.65252078 -0.57735027]\n",
      " [-0.31970025  0.75130448 -0.57735027]\n",
      " [-0.81049889  0.0987837   0.57735027]]\n"
     ]
    }
   ],
   "source": [
    "import numpy as np\n",
    "A = np.matrix([[2,1,3],\n",
    "                [1,1,2],\n",
    "                [3,2,5]])\n",
    "\n",
    "#find eigenvectors\n",
    "eigvals, eigvecs = np.linalg.eig(A)\n",
    "print(eigvecs)"
   ]
  },
  {
   "cell_type": "code",
   "execution_count": 7,
   "metadata": {},
   "outputs": [
    {
     "data": {
      "text/plain": [
       "matrix([[2., 1., 3.],\n",
       "        [1., 1., 2.],\n",
       "        [3., 2., 5.]])"
      ]
     },
     "execution_count": 7,
     "metadata": {},
     "output_type": "execute_result"
    }
   ],
   "source": [
    "B = np.diag(eigvals)\n",
    "eigvecs@B@eigvecs.I"
   ]
  },
  {
   "cell_type": "code",
   "execution_count": 8,
   "metadata": {},
   "outputs": [
    {
     "data": {
      "text/plain": [
       "matrix([[-0.49079864, -0.31970025, -0.81049889],\n",
       "        [-0.65252078,  0.75130448,  0.0987837 ],\n",
       "        [-0.57735027, -0.57735027,  0.57735027]])"
      ]
     },
     "execution_count": 8,
     "metadata": {},
     "output_type": "execute_result"
    }
   ],
   "source": [
    "eigvecs.I"
   ]
  }
 ],
 "metadata": {
  "kernelspec": {
   "display_name": "base",
   "language": "python",
   "name": "python3"
  },
  "language_info": {
   "codemirror_mode": {
    "name": "ipython",
    "version": 3
   },
   "file_extension": ".py",
   "mimetype": "text/x-python",
   "name": "python",
   "nbconvert_exporter": "python",
   "pygments_lexer": "ipython3",
   "version": "3.8.8"
  },
  "orig_nbformat": 4
 },
 "nbformat": 4,
 "nbformat_minor": 2
}
